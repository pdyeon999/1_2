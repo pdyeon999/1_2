{
 "cells": [
  {
   "cell_type": "markdown",
   "id": "eb01abfb",
   "metadata": {},
   "source": [
    "##### 경사하강법\n",
    "\n",
    "### 잔차제곱합 (Residual Sum of Squares, RSS)\n",
    "- 잔차 = 실제 값 - 예측 값\n",
    "- 잔차제곱합 = (실제 값 - 예측 값)의 제곱의 합\n",
    "- 회귀 모델의 정확도를 측정하는 지표\n",
    "    - RSS가 작을수록 정확하게 예측하는 모델\n",
    "    - RSS가 클수록 잘못된 예측하는 모델\n",
    "\n",
    "- 모든 회귀 모델은 **RSS가 최소**가 되는 방향으로 학습이 진행됨 = 회귀계수(절편)는 RSS가 최소가 되도록 학습\n",
    "- 비용함수 R(w)가 가장 작을 때의 w를 찾는 것이 회귀 모델의 목표\n",
    "    - 매 회차에 계산된 R(w)에서 순간변화율(기울기)를 구해야 함 → 미분 사용\n",
    "    - 단, 우리가 구해야 하는 회귀계수는 하나 이상이므로 우리는 편미분을 사용함\n",
    "        - w0(절편)을 고정한 채로 w1의 미분을 구하고, w1을 고정한 채로 w0 미분을 구함\n",
    "\n",
    "<img src=\"https://d.pr/i/0vERpX+\" alt=\"경사하강법\" width=\"500\">\n"
   ]
  },
  {
   "cell_type": "markdown",
   "id": "1a4cef71",
   "metadata": {},
   "source": [
    "##### 학습률(Learning Rate)\n",
    "- 최적의 해를 빠르게 or 천천히 조금씩 찾아가는 정도를 가르키는 하이퍼파라미터\n",
    "- 기본값으로 보통 0.001 사용\n",
    "  (줄어들수록 좀 더 촘촘히 검사. 커질수록 크게 검사)"
   ]
  },
  {
   "cell_type": "code",
   "execution_count": null,
   "id": "d64e2a77",
   "metadata": {},
   "outputs": [],
   "source": []
  }
 ],
 "metadata": {
  "kernelspec": {
   "display_name": "ml_env",
   "language": "python",
   "name": "python3"
  },
  "language_info": {
   "codemirror_mode": {
    "name": "ipython",
    "version": 3
   },
   "file_extension": ".py",
   "mimetype": "text/x-python",
   "name": "python",
   "nbconvert_exporter": "python",
   "pygments_lexer": "ipython3",
   "version": "3.12.11"
  }
 },
 "nbformat": 4,
 "nbformat_minor": 5
}
