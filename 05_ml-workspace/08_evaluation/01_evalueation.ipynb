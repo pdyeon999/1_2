{
 "cells": [
  {
   "cell_type": "markdown",
   "id": "acb22941",
   "metadata": {},
   "source": [
    "### 평가"
   ]
  },
  {
   "cell_type": "markdown",
   "id": "7ca8a953",
   "metadata": {},
   "source": [
    "##### 분류모델 평가\n",
    "\n",
    "1. 정확도(Accuracy score): 전체 샘플 중에서 올바르게 예측한 샘플의 비율\n",
    "    - 데이터가 불균형한 경우 정확도는 비현실적인 성능 낼 수 있음\n",
    "    - ex) label데이터에서 양성 1, 음성 9인 경우, 그리고 모델은 잘못된 학습으로 모두 부정 판단 했을 경우 그럼에도 성능은 0.9가 나올 것."
   ]
  },
  {
   "cell_type": "code",
   "execution_count": 34,
   "id": "eeed15ae",
   "metadata": {},
   "outputs": [],
   "source": [
    "import numpy as np\n",
    "import pandas as pd\n",
    "import matplotlib.pyplot as plt\n",
    "import seaborn as sns"
   ]
  },
  {
   "cell_type": "code",
   "execution_count": null,
   "id": "3002f8ae",
   "metadata": {},
   "outputs": [],
   "source": [
    "# 잘못 학습된 모델 만들어보기1 (정확도 오류 보기 위함)\n",
    "from sklearn.base import BaseEstimator\n",
    "\n",
    "class MyTitanicClassifier(BaseEstimator):\n",
    "# BaseEstimator(모델 클래스의 최상위 부모 클래스)를 상속받게 되면\n",
    "#           MyTitanicClassifier 클래스가 모델 클래스 역할을 함\n",
    "\n",
    "    def fit(self, X, y):\n",
    "    # 훈련 메서드\n",
    "        pass\n",
    "        # 학습 안 시키고, 무조건 성별에 따라 생존, 사망을 판단하는 모델을 만들 것\n",
    "    \n",
    "    def predict(self, X):\n",
    "    # 결과 예측 메서드\n",
    "        pred = np.zeros((X.shape[0], 1))\n",
    "        # X.shape[0] = sample 데이터의 개수\n",
    "        # 0을 채워둠. 즉, 일단 모두 사망으로 predict 채워둠\n",
    "\n",
    "        for i in range(X.shape[0]):\n",
    "            sex = X['Sex'].iloc[i]\n",
    "            # 'Sex' 열(Series형)의 i번째 행 값을 sex에 저장\n",
    "            if sex == 0 :\n",
    "                pred[i] = 1\n",
    "            # 여성이면 무조건 생존한다는 예측값 저장\n",
    "        return pred"
   ]
  },
  {
   "cell_type": "code",
   "execution_count": null,
   "id": "c37215ad",
   "metadata": {},
   "outputs": [],
   "source": [
    "# 타이타닉 생존율 예측에 필요한 전처리 수행\n",
    "\n",
    "# 전처리 -> 함수로 수행할 것! 메인 코드셀에선 호출만 할 것!\n",
    "\n",
    "from sklearn.preprocessing import LabelEncoder\n",
    "from sklearn.preprocessing import StandardScaler\n",
    "\n",
    "\n",
    "def fillna(df):\n",
    "    # 결측치 처리 함수\n",
    "    df['Age'] = df['Age'].fillna(df['Age'].mean())\n",
    "    df['Cabin'] = df['Cabin'].fillna('N')\n",
    "    df['Embarked'] = df['Embarked'].fillna('N')\n",
    "\n",
    "    return df\n",
    "\n",
    "def drop_feature(df):\n",
    "    # 필요없는 칼럼 제거 함수\n",
    "    df = df.drop(['PassengerId', 'Name', 'Ticket'], axis = 1)\n",
    "    return df\n",
    "\n",
    "def encode_feature(df):\n",
    "    # 라벨 인코딩 함수\n",
    "    from sklearn.preprocessing import LabelEncoder\n",
    "    encoder = LabelEncoder()\n",
    "    \n",
    "    df['Cabin'] = df['Cabin'].str[:1]\n",
    "    # df['Cabin'].unique() 했을 때 Cabin은 규칙적이지만 값이 다양함 -> 첫 글자인 알파벳으로만 인코딩할 것(A, B, ..., T, ...)\n",
    "    \n",
    "    categories = ['Sex', 'Cabin', 'Embarked']\n",
    "\n",
    "    for cate in categories:\n",
    "        encoder = LabelEncoder()\n",
    "        df[cate] = encoder.fit_transform(df[cate])\n",
    "        # 칼럼마다 인코딩해야 하므로 객체 매번 생성\n",
    "\n",
    "    # df['Sex'] = encoder.fit_transform(df['Sex'])\n",
    "    # df['Cabin'] = encoder.fit_transform(df['Cabin'])\n",
    "    # df['Embarked'] = encoder.fit_transform(df['Embarked'])\n",
    "    \n",
    "    return df\n",
    "\n",
    "\n",
    "def scaling_feature(train_data, test_data):\n",
    "    # 특성 스케일링\n",
    "    from sklearn.preprocessing import RobustScaler\n",
    "    rb_sc = RobustScaler()\n",
    "\n",
    "    rb_sc.fit(train_data)\n",
    "    train_scaled = rb_sc.transform(train_data)\n",
    "    test_scaled = rb_sc.transform(test_data)\n",
    "    \n",
    "    return train_scaled, test_scaled\n"
   ]
  },
  {
   "cell_type": "code",
   "execution_count": 64,
   "id": "d3e96217",
   "metadata": {},
   "outputs": [],
   "source": [
    "from sklearn.model_selection import train_test_split\n",
    "\n",
    "# 데이터 로드\n",
    "data = pd.read_csv('./data/titanic.csv')\n",
    "\n",
    "# 특성-라벨 데이터 분리\n",
    "X = data.drop('Survived', axis=1)\n",
    "y = data['Survived']\n",
    "\n",
    "# 전처리(결측치 처리, 필요없는 특성 제거, 라벨인코딩)\n",
    "X = fillna(X)\n",
    "X = drop_feature(X)\n",
    "X = encode_feature(X)\n",
    "\n",
    "# 훈련 - 테스트 데이터 분리\n",
    "X_train, X_test, y_train, y_test = train_test_split(X, y, random_state=0)\n",
    "\n",
    "# 스케일링\n",
    "# X_train_scaled, X_test_scaled = scaling_feature(X_train, X_test)\n"
   ]
  },
  {
   "cell_type": "code",
   "execution_count": 38,
   "id": "0d1519b2",
   "metadata": {},
   "outputs": [
    {
     "name": "stdout",
     "output_type": "stream",
     "text": [
      "train데이터 평가: 0.7874251497005988, test 데이터 평가: 0.7847533632286996\n"
     ]
    }
   ],
   "source": [
    "# 예측, 정확도 평가\n",
    "from sklearn.metrics import accuracy_score\n",
    "\n",
    "# 모델 훈련\n",
    "my_clf = MyTitanicClassifier()\n",
    "my_clf.fit(X_train, y_train)\n",
    "\n",
    "# 에측\n",
    "pred_train = my_clf.predict(X_train)\n",
    "pred_test = my_clf.predict(X_test)\n",
    "\n",
    "# 평가\n",
    "print(f'train데이터 평가: {accuracy_score(y_train, pred_train)}, test 데이터 평가: {accuracy_score(y_test, pred_test)}')\n",
    "# train데이터 평가: 0.7874251497005988, test 데이터 평가: 0.7847533632286996\n",
    "# 훈련을 pass했는데도 꽤 높은 평가지표가 나옴. "
   ]
  },
  {
   "cell_type": "code",
   "execution_count": 39,
   "id": "8ab8b72a",
   "metadata": {},
   "outputs": [
    {
     "data": {
      "text/plain": [
       "Survived  Sex   \n",
       "0         male      468\n",
       "          female     81\n",
       "1         female    233\n",
       "          male      109\n",
       "Name: count, dtype: int64"
      ]
     },
     "execution_count": 39,
     "metadata": {},
     "output_type": "execute_result"
    }
   ],
   "source": [
    "data.groupby('Survived')['Sex'].value_counts()"
   ]
  },
  {
   "cell_type": "markdown",
   "id": "5e9b60c0",
   "metadata": {},
   "source": [
    "##### 혼동 행렬 (Confusion Matrix)\n",
    "\n",
    "|               | 예측 값 부정 (Negative) | 예측 값 긍정 (Positive) |\n",
    "|---------------|------------------------|------------------------|\n",
    "| 실제 값 부정 (Negative) | True Negative (TN)         | False Positive (FP)        |\n",
    "| 실제 값 긍정 (Positive) | False Negative (FN)        | True Positive (TP)         |\n",
    "\n",
    "\n",
    "![](https://d.pr/i/rtYBJv+)"
   ]
  },
  {
   "cell_type": "code",
   "execution_count": 40,
   "id": "2b7ca075",
   "metadata": {},
   "outputs": [],
   "source": [
    "from sklearn.metrics import confusion_matrix, precision_score, recall_score"
   ]
  },
  {
   "cell_type": "code",
   "execution_count": 41,
   "id": "96ada75b",
   "metadata": {},
   "outputs": [],
   "source": [
    "# 데이터 로드\n",
    "from sklearn.datasets import load_digits\n",
    "\n",
    "digits = load_digits()\n",
    "# 손글씨 숫자 데이터"
   ]
  },
  {
   "cell_type": "code",
   "execution_count": 42,
   "id": "2855a246",
   "metadata": {},
   "outputs": [],
   "source": [
    "# 훈련-테스트 데이터 분리, 모델 학습, 예측, heatmap 시각화\n",
    "from sklearn.ensemble import RandomForestClassifier\n",
    "import matplotlib.pyplot as plt\n",
    "import seaborn as sns\n",
    "\n",
    "# X_train, X_test, y_train, y_test = train_test_split(digits.data, digits.target, test_size=0.2, random_state=42)\n",
    "\n",
    "# model = RandomForestClassifier(n_estimators=100, random_state=42)\n",
    "# model.fit(X_train, y_train)\n",
    "\n",
    "# y_pred = model.predict(X_test)\n",
    "\n",
    "# cm = confusion_matrix(y_test, y_pred)\n",
    "\n",
    "# sns.heatmap(cm, annot=True, fmt='d',\n",
    "#              xticklabels=digits.target_names, yticklabels=digits.target_names)\n",
    "# # confusion matrix 시각화. 라벨 수만큼 늘릴 수 있음\n",
    "\n",
    "# plt.xlabel('Predicted')\n",
    "# plt.ylabel('Actual')\n",
    "# plt.show()"
   ]
  },
  {
   "cell_type": "markdown",
   "id": "b07a9c75",
   "metadata": {},
   "source": [
    "- 정밀도(Precision)\n",
    "    - 양성이라고 예측한 것(TP+FP) 중에서 실제 양성(TP)일 확률\n",
    "    - 정밀도가 중요한 지표인 경우: 음성인 데이터를 양성으로 예측하면 안 되는 경우 (ex. 스팸메일 분류 등)"
   ]
  },
  {
   "cell_type": "code",
   "execution_count": null,
   "id": "9402ef59",
   "metadata": {},
   "outputs": [
    {
     "data": {
      "text/plain": [
       "array([[112,  22],\n",
       "       [ 26,  63]])"
      ]
     },
     "execution_count": 44,
     "metadata": {},
     "output_type": "execute_result"
    }
   ],
   "source": [
    "# 타이타닉 예측값\n",
    "matrix = confusion_matrix(y_test, pred_test)\n",
    "matrix"
   ]
  },
  {
   "cell_type": "code",
   "execution_count": null,
   "id": "a7e9c03d",
   "metadata": {},
   "outputs": [
    {
     "data": {
      "text/plain": [
       "(0.7411764705882353, 0.7411764705882353)"
      ]
     },
     "execution_count": 47,
     "metadata": {},
     "output_type": "execute_result"
    }
   ],
   "source": [
    "# 정밀도\n",
    "p_score = 63/85\n",
    "p_score, precision_score(y_test, pred_test)\n",
    "# 같은 값."
   ]
  },
  {
   "cell_type": "markdown",
   "id": "ab1afe89",
   "metadata": {},
   "source": [
    "- 재현율 (Recall)\n",
    "    - 실제 긍정(TP+FN)인 것 중에 양성으로 예측(TP)한 확률\n",
    "    - 재현율이 중요한 경우: 양성인 데이터를 음성으로 에측하면 안 되는 경우 (암 진단 등)"
   ]
  },
  {
   "cell_type": "code",
   "execution_count": null,
   "id": "2edc5972",
   "metadata": {},
   "outputs": [
    {
     "data": {
      "text/plain": [
       "(0.7078651685393258, 0.7078651685393258)"
      ]
     },
     "execution_count": 48,
     "metadata": {},
     "output_type": "execute_result"
    }
   ],
   "source": [
    "# 재현율\n",
    "r_score = 63/(26+63)\n",
    "r_score, recall_score(y_test, pred_test)\n",
    "\n",
    "# 정밀도보다 적은 점수."
   ]
  },
  {
   "cell_type": "code",
   "execution_count": 49,
   "id": "717a9340",
   "metadata": {},
   "outputs": [],
   "source": [
    "# 분류 평가 지표(혼동 행렬, 정확도, 정밀도, 재현율) 출력 함수 생성\n",
    "def evaluate_binary_classification(y_true, y_pred):\n",
    "    print('혼동 행렬\\n', confusion_matrix(y_true, y_pred))\n",
    "    print('정확도:', accuracy_score(y_true, y_pred))\n",
    "    print('정밀도:', precision_score(y_true, y_pred))\n",
    "    print('재현율:', recall_score(y_true, y_pred))"
   ]
  },
  {
   "cell_type": "code",
   "execution_count": 50,
   "id": "95fa0461",
   "metadata": {},
   "outputs": [
    {
     "name": "stdout",
     "output_type": "stream",
     "text": [
      "혼동 행렬\n",
      " [[112  22]\n",
      " [ 26  63]]\n",
      "정확도: 0.7847533632286996\n",
      "정밀도: 0.7411764705882353\n",
      "재현율: 0.7078651685393258\n"
     ]
    }
   ],
   "source": [
    "evaluate_binary_classification(y_test, pred_test)"
   ]
  },
  {
   "cell_type": "code",
   "execution_count": 52,
   "id": "a392f032",
   "metadata": {},
   "outputs": [],
   "source": [
    "# 잘못 학습된 모델 만들어보기2\n",
    "# 모두 사망했다고 예측\n",
    "\n",
    "class MyDeathClassifier(BaseEstimator):\n",
    "    def fit(self, X, y):\n",
    "        pass\n",
    "    \n",
    "    def predict(self, X):\n",
    "        return np.zeros((X.shape[0], 1))"
   ]
  },
  {
   "cell_type": "code",
   "execution_count": null,
   "id": "3e344c26",
   "metadata": {},
   "outputs": [
    {
     "name": "stdout",
     "output_type": "stream",
     "text": [
      "혼동 행렬\n",
      " [[415   0]\n",
      " [253   0]]\n",
      "정확도: 0.6212574850299402\n",
      "정밀도: 0.0\n",
      "재현율: 0.0\n",
      "혼동 행렬\n",
      " [[134   0]\n",
      " [ 89   0]]\n",
      "정확도: 0.600896860986547\n",
      "정밀도: 0.0\n",
      "재현율: 0.0\n"
     ]
    },
    {
     "name": "stderr",
     "output_type": "stream",
     "text": [
      "c:\\Users\\Playdata\\AppData\\Local\\anaconda3\\envs\\ml_env\\Lib\\site-packages\\sklearn\\metrics\\_classification.py:1731: UndefinedMetricWarning: Precision is ill-defined and being set to 0.0 due to no predicted samples. Use `zero_division` parameter to control this behavior.\n",
      "  _warn_prf(average, modifier, f\"{metric.capitalize()} is\", result.shape[0])\n",
      "c:\\Users\\Playdata\\AppData\\Local\\anaconda3\\envs\\ml_env\\Lib\\site-packages\\sklearn\\metrics\\_classification.py:1731: UndefinedMetricWarning: Precision is ill-defined and being set to 0.0 due to no predicted samples. Use `zero_division` parameter to control this behavior.\n",
      "  _warn_prf(average, modifier, f\"{metric.capitalize()} is\", result.shape[0])\n"
     ]
    }
   ],
   "source": [
    "# 학습\n",
    "my_clf = MyDeathClassifier()\n",
    "my_clf.fit(X_train, y_train)\n",
    "\n",
    "# 평가\n",
    "train_pred = my_clf.predict(X_train)\n",
    "test_pred = my_clf.predict(X_test)\n",
    "\n",
    "# 평가 지표 함수 호출\n",
    "evaluate_binary_classification(y_train, train_pred)\n",
    "evaluate_binary_classification(y_test, test_pred)\n",
    "\n",
    "# 예측값이 무조건 음성. TN, FN\n",
    "# 즉, 정확도는 0.62가 나오나 정밀도, 재현율은 0\n",
    "# 정밀도, 재현율의 분자값은 TP=0이기 때문"
   ]
  },
  {
   "cell_type": "code",
   "execution_count": null,
   "id": "1df600d1",
   "metadata": {},
   "outputs": [
    {
     "name": "stdout",
     "output_type": "stream",
     "text": [
      "혼동 행렬\n",
      " [[350  60]\n",
      " [ 77 181]]\n",
      "정확도: 0.7949101796407185\n",
      "정밀도: 0.7510373443983402\n",
      "재현율: 0.7015503875968992\n",
      "혼동 행렬\n",
      " [[117  22]\n",
      " [ 23  61]]\n",
      "정확도: 0.7982062780269058\n",
      "정밀도: 0.7349397590361446\n",
      "재현율: 0.7261904761904762\n"
     ]
    },
    {
     "name": "stderr",
     "output_type": "stream",
     "text": [
      "c:\\Users\\Playdata\\AppData\\Local\\anaconda3\\envs\\ml_env\\Lib\\site-packages\\sklearn\\linear_model\\_logistic.py:473: ConvergenceWarning: lbfgs failed to converge after 100 iteration(s) (status=1):\n",
      "STOP: TOTAL NO. OF ITERATIONS REACHED LIMIT\n",
      "\n",
      "Increase the number of iterations to improve the convergence (max_iter=100).\n",
      "You might also want to scale the data as shown in:\n",
      "    https://scikit-learn.org/stable/modules/preprocessing.html\n",
      "Please also refer to the documentation for alternative solver options:\n",
      "    https://scikit-learn.org/stable/modules/linear_model.html#logistic-regression\n",
      "  n_iter_i = _check_optimize_result(\n"
     ]
    }
   ],
   "source": [
    "# 제대로 된 모델.\n",
    "from sklearn.linear_model import LogisticRegression\n",
    "\n",
    "lr = LogisticRegression()\n",
    "\n",
    "lr.fit(X_train, y_train)\n",
    "\n",
    "train_pred = lr.predict(X_train)\n",
    "test_pred = lr.predict(X_test)\n",
    "\n",
    "# 평가 지표 함수 호출\n",
    "evaluate_binary_classification(y_train, train_pred)\n",
    "evaluate_binary_classification(y_test, test_pred)"
   ]
  },
  {
   "cell_type": "markdown",
   "id": "d7bd3d98",
   "metadata": {},
   "source": [
    "- 정밀도와 재현율의 trade-off (FP, FN은 반비례)\n",
    "    (각각 0, 1이라 예측했는데 모두 정답 못맞춤(False))\n",
    "    - 분류 결정 임계치(threshold)를 낮추면? positive라고 예측할 확률이 높아짐\n",
    "        -> FP가 커지고 FN이 낮아짐 -> 정밀도 낮아지고 재현율 높아짐\n",
    "    - 분류 결정 임계치를 높이면? positive라고 예측할 확률이 낮아짐\n",
    "        -> FP가 낮아지고 FN이 커짐 -> 정밀도 높아지고 재현율 낮아짐"
   ]
  },
  {
   "cell_type": "code",
   "execution_count": null,
   "id": "fba56b93",
   "metadata": {},
   "outputs": [
    {
     "name": "stdout",
     "output_type": "stream",
     "text": [
      "[[0.83741741 0.16258259]\n",
      " [0.88842911 0.11157089]\n",
      " [0.92060845 0.07939155]\n",
      " [0.0559761  0.9440239 ]\n",
      " [0.29857741 0.70142259]\n",
      " [0.50640704 0.49359296]\n",
      " [0.09195634 0.90804366]]\n",
      "[0 0 0 1 1 0 1]\n"
     ]
    }
   ],
   "source": [
    "pred_proba = lr.predict_proba(X_test)\n",
    "print(pred_proba[:7])\n",
    "\n",
    "pred = lr.predict(X_test)\n",
    "print(pred[:7])"
   ]
  },
  {
   "cell_type": "code",
   "execution_count": null,
   "id": "d00c7838",
   "metadata": {},
   "outputs": [
    {
     "data": {
      "text/plain": [
       "array([[0., 0., 1.],\n",
       "       [1., 0., 0.],\n",
       "       [0., 1., 1.]])"
      ]
     },
     "execution_count": 70,
     "metadata": {},
     "output_type": "execute_result"
    }
   ],
   "source": [
    "# Binarizer\n",
    "\n",
    "from sklearn.preprocessing import Binarizer\n",
    "\n",
    "temp_X = [[1, -1, 2], [2, 0, 0.8], [0, 1.1, 1.2]]\n",
    "\n",
    "binarizer = Binarizer(threshold=1)\n",
    "# 임게치 설정해 이진 분류 실행\n",
    "# 임계치 '초과'할 때 1. 이하면 0 반환\n",
    "adj_X = binarizer.fit_transform(temp_X)\n",
    "adj_X"
   ]
  },
  {
   "cell_type": "code",
   "execution_count": 72,
   "id": "5aec3c9d",
   "metadata": {},
   "outputs": [
    {
     "data": {
      "text/plain": [
       "array([[0.16258259],\n",
       "       [0.11157089],\n",
       "       [0.07939155],\n",
       "       [0.9440239 ],\n",
       "       [0.70142259],\n",
       "       [0.49359296],\n",
       "       [0.90804366],\n",
       "       [0.92676311],\n",
       "       [0.59025838],\n",
       "       [0.71821447],\n",
       "       [0.093393  ],\n",
       "       [0.72823646],\n",
       "       [0.12653829],\n",
       "       [0.89822892],\n",
       "       [0.96329751],\n",
       "       [0.7548233 ],\n",
       "       [0.14063724],\n",
       "       [0.24066522],\n",
       "       [0.09260111],\n",
       "       [0.3645661 ],\n",
       "       [0.32401921],\n",
       "       [0.93833898],\n",
       "       [0.12653675],\n",
       "       [0.42631418],\n",
       "       [0.69269295],\n",
       "       [0.89893898],\n",
       "       [0.10296443],\n",
       "       [0.69219738],\n",
       "       [0.82199638],\n",
       "       [0.61515884],\n",
       "       [0.14490342],\n",
       "       [0.64346534],\n",
       "       [0.11858111],\n",
       "       [0.49498619],\n",
       "       [0.08382049],\n",
       "       [0.59058679],\n",
       "       [0.06926464],\n",
       "       [0.24435557],\n",
       "       [0.26728943],\n",
       "       [0.1047556 ],\n",
       "       [0.25335262],\n",
       "       [0.18804349],\n",
       "       [0.11234114],\n",
       "       [0.05435915],\n",
       "       [0.88741259],\n",
       "       [0.1116091 ],\n",
       "       [0.1116091 ],\n",
       "       [0.95035775],\n",
       "       [0.17395156],\n",
       "       [0.20466476],\n",
       "       [0.4798725 ],\n",
       "       [0.64303278],\n",
       "       [0.88154662],\n",
       "       [0.16050154],\n",
       "       [0.59903262],\n",
       "       [0.1695298 ],\n",
       "       [0.21454475],\n",
       "       [0.44422628],\n",
       "       [0.08108146],\n",
       "       [0.06901793],\n",
       "       [0.20668445],\n",
       "       [0.57803371],\n",
       "       [0.84378602],\n",
       "       [0.53510182],\n",
       "       [0.62246725],\n",
       "       [0.11688942],\n",
       "       [0.85071553],\n",
       "       [0.23815476],\n",
       "       [0.8898291 ],\n",
       "       [0.95395094],\n",
       "       [0.78321827],\n",
       "       [0.25663473],\n",
       "       [0.47780521],\n",
       "       [0.11162615],\n",
       "       [0.13352001],\n",
       "       [0.58812806],\n",
       "       [0.37864315],\n",
       "       [0.43121835],\n",
       "       [0.09580185],\n",
       "       [0.31808152],\n",
       "       [0.09472557],\n",
       "       [0.16034241],\n",
       "       [0.75897512],\n",
       "       [0.17698714],\n",
       "       [0.13966033],\n",
       "       [0.94770478],\n",
       "       [0.92057375],\n",
       "       [0.31073918],\n",
       "       [0.79036415],\n",
       "       [0.64685907],\n",
       "       [0.49868447],\n",
       "       [0.16050154],\n",
       "       [0.3954801 ],\n",
       "       [0.92055553],\n",
       "       [0.54842793],\n",
       "       [0.16148841],\n",
       "       [0.81718669],\n",
       "       [0.05046253],\n",
       "       [0.18375904],\n",
       "       [0.62373369],\n",
       "       [0.03729873],\n",
       "       [0.07757891],\n",
       "       [0.17565869],\n",
       "       [0.11733896],\n",
       "       [0.54748147],\n",
       "       [0.47790483],\n",
       "       [0.81096108],\n",
       "       [0.45153592],\n",
       "       [0.20791431],\n",
       "       [0.57832973],\n",
       "       [0.05771938],\n",
       "       [0.93813705],\n",
       "       [0.10807697],\n",
       "       [0.62447345],\n",
       "       [0.35885965],\n",
       "       [0.81102089],\n",
       "       [0.59804634],\n",
       "       [0.96511912],\n",
       "       [0.07736581],\n",
       "       [0.59908516],\n",
       "       [0.11709485],\n",
       "       [0.12662558],\n",
       "       [0.15539571],\n",
       "       [0.34135841],\n",
       "       [0.09947124],\n",
       "       [0.34188127],\n",
       "       [0.16148778],\n",
       "       [0.0967618 ],\n",
       "       [0.23017269],\n",
       "       [0.11615359],\n",
       "       [0.72954431],\n",
       "       [0.15022682],\n",
       "       [0.13113894],\n",
       "       [0.63357933],\n",
       "       [0.16128671],\n",
       "       [0.15022682],\n",
       "       [0.09316946],\n",
       "       [0.44084662],\n",
       "       [0.11073687],\n",
       "       [0.28293999],\n",
       "       [0.24487052],\n",
       "       [0.90829566],\n",
       "       [0.11162615],\n",
       "       [0.75193109],\n",
       "       [0.8041232 ],\n",
       "       [0.67549496],\n",
       "       [0.23064839],\n",
       "       [0.64062426],\n",
       "       [0.91876799],\n",
       "       [0.11169387],\n",
       "       [0.28685524],\n",
       "       [0.6228596 ],\n",
       "       [0.55570674],\n",
       "       [0.11434517],\n",
       "       [0.91012947],\n",
       "       [0.25913822],\n",
       "       [0.57057676],\n",
       "       [0.07846818],\n",
       "       [0.65721272],\n",
       "       [0.79232654],\n",
       "       [0.1116091 ],\n",
       "       [0.21985118],\n",
       "       [0.80971732],\n",
       "       [0.34454068],\n",
       "       [0.18650635],\n",
       "       [0.14411508],\n",
       "       [0.05159568],\n",
       "       [0.14524989],\n",
       "       [0.1357865 ],\n",
       "       [0.17148311],\n",
       "       [0.05165003],\n",
       "       [0.91382083],\n",
       "       [0.11153774],\n",
       "       [0.11234114],\n",
       "       [0.83075845],\n",
       "       [0.11162615],\n",
       "       [0.93266574],\n",
       "       [0.14045266],\n",
       "       [0.16052471],\n",
       "       [0.69564466],\n",
       "       [0.22327408],\n",
       "       [0.23294446],\n",
       "       [0.21923678],\n",
       "       [0.15011301],\n",
       "       [0.34344126],\n",
       "       [0.14528507],\n",
       "       [0.65724517],\n",
       "       [0.23017269],\n",
       "       [0.12682092],\n",
       "       [0.7668796 ],\n",
       "       [0.62442104],\n",
       "       [0.41533143],\n",
       "       [0.8194334 ],\n",
       "       [0.65720958],\n",
       "       [0.12653829],\n",
       "       [0.27835704],\n",
       "       [0.11162615],\n",
       "       [0.77483153],\n",
       "       [0.38445944],\n",
       "       [0.05516339],\n",
       "       [0.16588421],\n",
       "       [0.64566994],\n",
       "       [0.05856213],\n",
       "       [0.77076249],\n",
       "       [0.16052471],\n",
       "       [0.24823448],\n",
       "       [0.53120917],\n",
       "       [0.10301249],\n",
       "       [0.76647773],\n",
       "       [0.05360661],\n",
       "       [0.1356759 ],\n",
       "       [0.37388265],\n",
       "       [0.07033721],\n",
       "       [0.79484192],\n",
       "       [0.21028592],\n",
       "       [0.16050154],\n",
       "       [0.23158182],\n",
       "       [0.19853865],\n",
       "       [0.34315781],\n",
       "       [0.94283326],\n",
       "       [0.1604834 ],\n",
       "       [0.94449908],\n",
       "       [0.76470098]])"
      ]
     },
     "execution_count": 72,
     "metadata": {},
     "output_type": "execute_result"
    }
   ],
   "source": [
    "pred_proba[:, 1].reshape(-1, 1)"
   ]
  },
  {
   "cell_type": "code",
   "execution_count": null,
   "id": "cffa0457",
   "metadata": {},
   "outputs": [
    {
     "name": "stdout",
     "output_type": "stream",
     "text": [
      "혼동 행렬\n",
      " [[117  22]\n",
      " [ 23  61]]\n",
      "정확도: 0.7982062780269058\n",
      "정밀도: 0.7349397590361446\n",
      "재현율: 0.7261904761904762\n",
      "혼동 행렬\n",
      " [[124  15]\n",
      " [ 30  54]]\n",
      "정확도: 0.7982062780269058\n",
      "정밀도: 0.782608695652174\n",
      "재현율: 0.6428571428571429\n"
     ]
    }
   ],
   "source": [
    "# # Binarizer 이용해 타이타닉 데이터로 이진 분류\n",
    "\n",
    "# 1(생존)일 확률만 가져오고 + 배치 차원 추가 (2차원으로 만듦)\n",
    "predict_proba_1 = pred_proba[:, 1].reshape(-1, 1)\n",
    "\n",
    "binarizer = Binarizer(threshold=0.5)\n",
    "custom_pred = binarizer.fit_transform(predict_proba_1)\n",
    "evaluate_binary_classification(y_test, custom_pred)\n",
    "\n",
    "binarizer = Binarizer(threshold=0.6)\n",
    "custom_pred = binarizer.fit_transform(predict_proba_1)\n",
    "evaluate_binary_classification(y_test, custom_pred)\n",
    "\n",
    "# 임계치를 0.6으로 올리니 정밀도 오르고 재현율 내려감. FP가 내려가고 FN이 올라갔기 때문"
   ]
  },
  {
   "cell_type": "code",
   "execution_count": null,
   "id": "31ec8fd9",
   "metadata": {},
   "outputs": [
    {
     "name": "stdout",
     "output_type": "stream",
     "text": [
      "혼동 행렬\n",
      " [[109  30]\n",
      " [ 19  65]]\n",
      "정확도: 0.7802690582959642\n",
      "정밀도: 0.6842105263157895\n",
      "재현율: 0.7738095238095238\n",
      "혼동 행렬\n",
      " [[114  25]\n",
      " [ 19  65]]\n",
      "정확도: 0.8026905829596412\n",
      "정밀도: 0.7222222222222222\n",
      "재현율: 0.7738095238095238\n",
      "혼동 행렬\n",
      " [[117  22]\n",
      " [ 23  61]]\n",
      "정확도: 0.7982062780269058\n",
      "정밀도: 0.7349397590361446\n",
      "재현율: 0.7261904761904762\n",
      "혼동 행렬\n",
      " [[121  18]\n",
      " [ 23  61]]\n",
      "정확도: 0.8161434977578476\n",
      "정밀도: 0.7721518987341772\n",
      "재현율: 0.7261904761904762\n",
      "혼동 행렬\n",
      " [[124  15]\n",
      " [ 30  54]]\n",
      "정확도: 0.7982062780269058\n",
      "정밀도: 0.782608695652174\n",
      "재현율: 0.6428571428571429\n"
     ]
    }
   ],
   "source": [
    "# 임계치 별 평가 결과 확인\n",
    "thresholds = [0.4, 0.45, 0.5, 0.55, 0.6]\n",
    "\n",
    "def evaluate_by_threshold(y_true, y_pred, thresholds):\n",
    "    \n",
    "    for thre in thresholds:\n",
    "        bi = Binarizer(threshold=thre)\n",
    "        custom_pred = bi.fit_transform(y_pred)\n",
    "        evaluate_binary_classification(y_true, custom_pred)\n",
    "\n",
    "evaluate_by_threshold(y_test, predict_proba_1, thresholds)\n",
    "# 임계치 올라갈수록 정밀도 올라감, 재현율 내려감"
   ]
  },
  {
   "cell_type": "code",
   "execution_count": null,
   "id": "fff9bd39",
   "metadata": {},
   "outputs": [
    {
     "data": {
      "image/png": "[encoded data removed]",
      "text/plain": [
       "<Figure size 600x400 with 1 Axes>"
      ]
     },
     "metadata": {},
     "output_type": "display_data"
    }
   ],
   "source": [
    "# 정밀도-재현율 변화 과정 시각화\n",
    "from sklearn.metrics import precision_recall_curve\n",
    "\n",
    "precisions, recalls, thresholds = precision_recall_curve(y_test, predict_proba_1)\n",
    "# 실제값과 양성이라고 예측한 확률값을 받으면 각 thresholds에 따른 precision과 recall을 두 개 반환.\n",
    "\n",
    "precisions.shape, recalls.shape, thresholds.shape\n",
    "# thresholds만 행 개수가 1개 적음.\n",
    "# precisions는 마지막에 1 하나, recalls는 마지막에 0 하나가 추가되어있기 때문\n",
    "\n",
    "# 기준 thresholds는 211개.\n",
    "# 이때 정밀도와 재현율에 각각 추가된 마지막 값은 극단적 임계값 설정에 대한 계산 결과.\n",
    "# 따라서 정밀도는 마지막에 1 추가 (임계값 매우 낮아 모두 양성으로 예측된 경우)\n",
    "#       재현율은 마지막에 0 추가 (임계값 매우 높아 모두 음성으로 예측된 경우)\n",
    "\n",
    "# 시각화\n",
    "plt.figure(figsize=(6, 4))\n",
    "plt.plot(thresholds, precisions[:-1], linestyle='--', label='Precision')\n",
    "plt.plot(thresholds, recalls[:-1], label='Recall')\n",
    "# [:-1]: precisions, recalls에 있던 마지막 한 값을 뺌\n",
    "\n",
    "plt.xlabel('thresholds')\n",
    "plt.ylabel('precision_recall_values')\n",
    "plt.legend()\n",
    "plt.show()"
   ]
  },
  {
   "cell_type": "markdown",
   "id": "7c090cbb",
   "metadata": {},
   "source": [
    "- F1-score\n",
    "    - 정밀도와 재현율을 결합한 지표"
   ]
  },
  {
   "cell_type": "code",
   "execution_count": 82,
   "id": "42304ef6",
   "metadata": {},
   "outputs": [
    {
     "data": {
      "text/plain": [
       "0.7305389221556886"
      ]
     },
     "execution_count": 82,
     "metadata": {},
     "output_type": "execute_result"
    }
   ],
   "source": [
    "from sklearn.metrics import f1_score\n",
    "\n",
    "f1_score(y_test, test_pred)"
   ]
  },
  {
   "cell_type": "code",
   "execution_count": 83,
   "id": "0d61cd35",
   "metadata": {},
   "outputs": [],
   "source": [
    "# 분류 평가 지표(혼동 행렬, 정확도, 정밀도, 재현율, f1_score) 출력 함수 생성\n",
    "def evaluate_binary_classification(y_true, y_pred):\n",
    "    print('혼동 행렬\\n', confusion_matrix(y_true, y_pred))\n",
    "    print('정확도:', accuracy_score(y_true, y_pred))\n",
    "    print('정밀도:', precision_score(y_true, y_pred))\n",
    "    print('재현율:', recall_score(y_true, y_pred))\n",
    "    print('f1-score:', f1_score(y_true, y_pred))"
   ]
  },
  {
   "cell_type": "code",
   "execution_count": null,
   "id": "24559b40",
   "metadata": {},
   "outputs": [
    {
     "name": "stdout",
     "output_type": "stream",
     "text": [
      "혼동 행렬\n",
      " [[109  30]\n",
      " [ 19  65]]\n",
      "정확도: 0.7802690582959642\n",
      "정밀도: 0.6842105263157895\n",
      "재현율: 0.7738095238095238\n",
      "f1-score: 0.7262569832402235\n",
      "혼동 행렬\n",
      " [[114  25]\n",
      " [ 19  65]]\n",
      "정확도: 0.8026905829596412\n",
      "정밀도: 0.7222222222222222\n",
      "재현율: 0.7738095238095238\n",
      "f1-score: 0.7471264367816092\n",
      "혼동 행렬\n",
      " [[117  22]\n",
      " [ 23  61]]\n",
      "정확도: 0.7982062780269058\n",
      "정밀도: 0.7349397590361446\n",
      "재현율: 0.7261904761904762\n",
      "f1-score: 0.7305389221556886\n",
      "혼동 행렬\n",
      " [[121  18]\n",
      " [ 23  61]]\n",
      "정확도: 0.8161434977578476\n",
      "정밀도: 0.7721518987341772\n",
      "재현율: 0.7261904761904762\n",
      "f1-score: 0.7484662576687117\n",
      "혼동 행렬\n",
      " [[124  15]\n",
      " [ 30  54]]\n",
      "정확도: 0.7982062780269058\n",
      "정밀도: 0.782608695652174\n",
      "재현율: 0.6428571428571429\n",
      "f1-score: 0.7058823529411765\n",
      "혼동 행렬\n",
      " [[130   9]\n",
      " [ 36  48]]\n",
      "정확도: 0.7982062780269058\n",
      "정밀도: 0.8421052631578947\n",
      "재현율: 0.5714285714285714\n",
      "f1-score: 0.6808510638297872\n",
      "혼동 행렬\n",
      " [[134   5]\n",
      " [ 39  45]]\n",
      "정확도: 0.8026905829596412\n",
      "정밀도: 0.9\n",
      "재현율: 0.5357142857142857\n",
      "f1-score: 0.6716417910447762\n"
     ]
    }
   ],
   "source": [
    "# 임계치 별 평가 결과 확인\n",
    "thresholds = [0.4, 0.45, 0.5, 0.55, 0.6, 0.65, 0.7]\n",
    "\n",
    "def evaluate_by_threshold(y_true, y_pred, thresholds):\n",
    "    \n",
    "    for thre in thresholds:\n",
    "        bi = Binarizer(threshold=thre)\n",
    "        custom_pred = bi.fit_transform(y_pred)\n",
    "        evaluate_binary_classification(y_true, custom_pred)\n",
    "\n",
    "evaluate_by_threshold(y_test, predict_proba_1, thresholds)\n",
    "# f1_score는 일정한 증가나 감소 보이지 않음\n",
    "# 0.55일 때 가장 큰 값"
   ]
  },
  {
   "cell_type": "markdown",
   "id": "bbfae051",
   "metadata": {},
   "source": [
    "##### ROC Curve - AUC\n",
    "- ROC Curve (Receiver Operation Characteristic Curve, 수신자 조작 특성 커브)\n",
    "    - x축: FPR (False Positive Rate), 실제 음성을 잘못 예측한 비율\n",
    "        - FPR = FP / (FP + TN)\n",
    "    - y축: TPR (True Positive Rate), recall score\n",
    "        - TPR = TP / (FN + TP)\n",
    "- AUC (Area Under Curve) : ROC 곡선 아래 면적 (1에 가까울수록 성능 좋음)"
   ]
  },
  {
   "cell_type": "code",
   "execution_count": null,
   "id": "e4147dd9",
   "metadata": {},
   "outputs": [
    {
     "data": {
      "text/plain": [
       "(array([0. , 0. , 0.5, 0.5, 1. ]),\n",
       " array([0. , 0.5, 0.5, 1. , 1. ]),\n",
       " array([ inf, 0.8 , 0.4 , 0.35, 0.1 ]))"
      ]
     },
     "execution_count": 87,
     "metadata": {},
     "output_type": "execute_result"
    }
   ],
   "source": [
    "from sklearn.metrics import roc_curve\n",
    "\n",
    "y_true_sample = np.array([0, 0, 1, 1])\n",
    "y_pred_sample = np.array([0.1, 0.4, 0.35, 0.8])\n",
    "\n",
    "fpr, tpr, thresholds = roc_curve(y_true_sample, y_pred_sample)\n",
    "# 해당 메서드는 FPR, TPR, thresholds 배열 세 개를 반환함\n",
    "fpr, tpr, thresholds\n",
    "# fpr, tpr은 극단으로 큰 값을 하나씩 더 저장. thresholds에 저장된 inf는 임의의 '큰 값'"
   ]
  },
  {
   "cell_type": "code",
   "execution_count": 89,
   "id": "b1006767",
   "metadata": {},
   "outputs": [
    {
     "data": {
      "text/html": [
       "<div>\n",
       "<style scoped>\n",
       "    .dataframe tbody tr th:only-of-type {\n",
       "        vertical-align: middle;\n",
       "    }\n",
       "\n",
       "    .dataframe tbody tr th {\n",
       "        vertical-align: top;\n",
       "    }\n",
       "\n",
       "    .dataframe thead th {\n",
       "        text-align: right;\n",
       "    }\n",
       "</style>\n",
       "<table border=\"1\" class=\"dataframe\">\n",
       "  <thead>\n",
       "    <tr style=\"text-align: right;\">\n",
       "      <th></th>\n",
       "      <th>Pclass</th>\n",
       "      <th>Sex</th>\n",
       "      <th>Age</th>\n",
       "      <th>SibSp</th>\n",
       "      <th>Parch</th>\n",
       "      <th>Fare</th>\n",
       "      <th>Cabin</th>\n",
       "      <th>Embarked</th>\n",
       "    </tr>\n",
       "  </thead>\n",
       "  <tbody>\n",
       "    <tr>\n",
       "      <th>495</th>\n",
       "      <td>3</td>\n",
       "      <td>1</td>\n",
       "      <td>29.699118</td>\n",
       "      <td>0</td>\n",
       "      <td>0</td>\n",
       "      <td>14.4583</td>\n",
       "      <td>7</td>\n",
       "      <td>0</td>\n",
       "    </tr>\n",
       "    <tr>\n",
       "      <th>648</th>\n",
       "      <td>3</td>\n",
       "      <td>1</td>\n",
       "      <td>29.699118</td>\n",
       "      <td>0</td>\n",
       "      <td>0</td>\n",
       "      <td>7.5500</td>\n",
       "      <td>7</td>\n",
       "      <td>3</td>\n",
       "    </tr>\n",
       "    <tr>\n",
       "      <th>278</th>\n",
       "      <td>3</td>\n",
       "      <td>1</td>\n",
       "      <td>7.000000</td>\n",
       "      <td>4</td>\n",
       "      <td>1</td>\n",
       "      <td>29.1250</td>\n",
       "      <td>7</td>\n",
       "      <td>2</td>\n",
       "    </tr>\n",
       "    <tr>\n",
       "      <th>31</th>\n",
       "      <td>1</td>\n",
       "      <td>0</td>\n",
       "      <td>29.699118</td>\n",
       "      <td>1</td>\n",
       "      <td>0</td>\n",
       "      <td>146.5208</td>\n",
       "      <td>1</td>\n",
       "      <td>0</td>\n",
       "    </tr>\n",
       "    <tr>\n",
       "      <th>255</th>\n",
       "      <td>3</td>\n",
       "      <td>0</td>\n",
       "      <td>29.000000</td>\n",
       "      <td>0</td>\n",
       "      <td>2</td>\n",
       "      <td>15.2458</td>\n",
       "      <td>7</td>\n",
       "      <td>0</td>\n",
       "    </tr>\n",
       "    <tr>\n",
       "      <th>...</th>\n",
       "      <td>...</td>\n",
       "      <td>...</td>\n",
       "      <td>...</td>\n",
       "      <td>...</td>\n",
       "      <td>...</td>\n",
       "      <td>...</td>\n",
       "      <td>...</td>\n",
       "      <td>...</td>\n",
       "    </tr>\n",
       "    <tr>\n",
       "      <th>167</th>\n",
       "      <td>3</td>\n",
       "      <td>0</td>\n",
       "      <td>45.000000</td>\n",
       "      <td>1</td>\n",
       "      <td>4</td>\n",
       "      <td>27.9000</td>\n",
       "      <td>7</td>\n",
       "      <td>3</td>\n",
       "    </tr>\n",
       "    <tr>\n",
       "      <th>306</th>\n",
       "      <td>1</td>\n",
       "      <td>0</td>\n",
       "      <td>29.699118</td>\n",
       "      <td>0</td>\n",
       "      <td>0</td>\n",
       "      <td>110.8833</td>\n",
       "      <td>7</td>\n",
       "      <td>0</td>\n",
       "    </tr>\n",
       "    <tr>\n",
       "      <th>379</th>\n",
       "      <td>3</td>\n",
       "      <td>1</td>\n",
       "      <td>19.000000</td>\n",
       "      <td>0</td>\n",
       "      <td>0</td>\n",
       "      <td>7.7750</td>\n",
       "      <td>7</td>\n",
       "      <td>3</td>\n",
       "    </tr>\n",
       "    <tr>\n",
       "      <th>742</th>\n",
       "      <td>1</td>\n",
       "      <td>0</td>\n",
       "      <td>21.000000</td>\n",
       "      <td>2</td>\n",
       "      <td>2</td>\n",
       "      <td>262.3750</td>\n",
       "      <td>1</td>\n",
       "      <td>0</td>\n",
       "    </tr>\n",
       "    <tr>\n",
       "      <th>10</th>\n",
       "      <td>3</td>\n",
       "      <td>0</td>\n",
       "      <td>4.000000</td>\n",
       "      <td>1</td>\n",
       "      <td>1</td>\n",
       "      <td>16.7000</td>\n",
       "      <td>6</td>\n",
       "      <td>3</td>\n",
       "    </tr>\n",
       "  </tbody>\n",
       "</table>\n",
       "<p>223 rows × 8 columns</p>\n",
       "</div>"
      ],
      "text/plain": [
       "     Pclass  Sex        Age  SibSp  Parch      Fare  Cabin  Embarked\n",
       "495       3    1  29.699118      0      0   14.4583      7         0\n",
       "648       3    1  29.699118      0      0    7.5500      7         3\n",
       "278       3    1   7.000000      4      1   29.1250      7         2\n",
       "31        1    0  29.699118      1      0  146.5208      1         0\n",
       "255       3    0  29.000000      0      2   15.2458      7         0\n",
       "..      ...  ...        ...    ...    ...       ...    ...       ...\n",
       "167       3    0  45.000000      1      4   27.9000      7         3\n",
       "306       1    0  29.699118      0      0  110.8833      7         0\n",
       "379       3    1  19.000000      0      0    7.7750      7         3\n",
       "742       1    0  21.000000      2      2  262.3750      1         0\n",
       "10        3    0   4.000000      1      1   16.7000      6         3\n",
       "\n",
       "[223 rows x 8 columns]"
      ]
     },
     "execution_count": 89,
     "metadata": {},
     "output_type": "execute_result"
    }
   ],
   "source": [
    "X_test"
   ]
  },
  {
   "cell_type": "code",
   "execution_count": null,
   "id": "30da6c58",
   "metadata": {},
   "outputs": [
    {
     "name": "stderr",
     "output_type": "stream",
     "text": [
      "c:\\Users\\Playdata\\AppData\\Local\\anaconda3\\envs\\ml_env\\Lib\\site-packages\\sklearn\\linear_model\\_logistic.py:473: ConvergenceWarning: lbfgs failed to converge after 100 iteration(s) (status=1):\n",
      "STOP: TOTAL NO. OF ITERATIONS REACHED LIMIT\n",
      "\n",
      "Increase the number of iterations to improve the convergence (max_iter=100).\n",
      "You might also want to scale the data as shown in:\n",
      "    https://scikit-learn.org/stable/modules/preprocessing.html\n",
      "Please also refer to the documentation for alternative solver options:\n",
      "    https://scikit-learn.org/stable/modules/linear_model.html#logistic-regression\n",
      "  n_iter_i = _check_optimize_result(\n"
     ]
    },
    {
     "data": {
      "image/png": "[encoded data removed]",
      "text/plain": [
       "<Figure size 640x480 with 1 Axes>"
      ]
     },
     "metadata": {},
     "output_type": "display_data"
    }
   ],
   "source": [
    "from sklearn.metrics import auc\n",
    "\n",
    "model = LogisticRegression()\n",
    "model.fit(X_train, y_train)\n",
    "\n",
    "y_pred_proba = model.predict_proba(X_test)[:, 1]\n",
    "# 1번 클래스, 즉, 양성 클래스에 대한 확률만 추출해 y_pred_proba에 저장\n",
    "\n",
    "fpr, tpr, thresholds = roc_curve(y_test, y_pred_proba)\n",
    "roc_auc = auc(fpr, tpr)\n",
    "# 면적이 0.87\n",
    "\n",
    "plt.plot(fpr, tpr, color='blue', label=f'ROC Curve (AUC = {roc_auc:.2f})')\n",
    "plt.plot([0, 1], [0, 1], color = 'gray', linestyle = '--')\n",
    "# 기울기가 1인 보조선도 함께 나타냄\n",
    "\n",
    "plt.xlabel('FPR (False Positive Rate)')\n",
    "plt.xlabel('TPR (True Positive Rate)')\n",
    "plt.legend()\n",
    "plt.show()"
   ]
  },
  {
   "cell_type": "markdown",
   "id": "cb46f049",
   "metadata": {},
   "source": [
    "---\n",
    "### 회귀모델 평가"
   ]
  },
  {
   "cell_type": "code",
   "execution_count": 91,
   "id": "2c9ebea2",
   "metadata": {},
   "outputs": [],
   "source": [
    "# 샘플 데이터 생성\n",
    "y_true = [3, 0.5, 2, 7]\n",
    "y_pred = [2.5, 0, 2, 9]"
   ]
  },
  {
   "cell_type": "code",
   "execution_count": null,
   "id": "6022ddd9",
   "metadata": {},
   "outputs": [
    {
     "name": "stdout",
     "output_type": "stream",
     "text": [
      "1.125\n",
      "1.0606601717798212\n",
      "0.75\n",
      "0.058006407800631835\n",
      "0.2408451946803835\n",
      "0.8059299191374663\n"
     ]
    }
   ],
   "source": [
    "from sklearn.metrics import mean_squared_error             # MSE (평균 제곱 오차)\n",
    "from sklearn.metrics import root_mean_squared_error        # RMSE (제곱 평균 제곱근 오차)\n",
    "from sklearn.metrics import mean_absolute_error            # MAE (평균 절대 오차)\n",
    "from sklearn.metrics import mean_squared_log_error         # MSLE (평균 제곱 로그 오차)\n",
    "from sklearn.metrics import root_mean_squared_log_error    # RMSLE (제곱 평균 제곱근 로그 오차)\n",
    "from sklearn.metrics import r2_score                       # R^2 결정계수\n",
    "\n",
    "print(mean_squared_error(y_true, y_pred))\n",
    "\n",
    "print(root_mean_squared_error(y_true, y_pred))\n",
    "print(mean_absolute_error(y_true, y_pred))\n",
    "\n",
    "print(mean_squared_log_error(y_true, y_pred))\n",
    "# 상용 로그 취한 값. 원래 값에 +1을 해 -무한대 및 음수값이 나오는 걸 방지함\n",
    "print(root_mean_squared_log_error(y_true, y_pred))\n",
    "\n",
    "print(r2_score(y_true, y_pred))"
   ]
  }
 ],
 "metadata": {
  "kernelspec": {
   "display_name": "ml_env",
   "language": "python",
   "name": "python3"
  },
  "language_info": {
   "codemirror_mode": {
    "name": "ipython",
    "version": 3
   },
   "file_extension": ".py",
   "mimetype": "text/x-python",
   "name": "python",
   "nbconvert_exporter": "python",
   "pygments_lexer": "ipython3",
   "version": "3.12.11"
  }
 },
 "nbformat": 4,
 "nbformat_minor": 5
}
