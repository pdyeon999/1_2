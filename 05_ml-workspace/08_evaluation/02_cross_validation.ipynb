{
 "cells": [
  {
   "cell_type": "markdown",
   "id": "299c34b2",
   "metadata": {},
   "source": [
    "### 교차 검증 (Cross Validation)\n",
    "\n",
    "- 모델을 더욱 신뢰성 있게 평가하는 방법\n",
    "- 데이터셋을 여러 개로 나누고, 각 부분이 한 번씩 검증 데이터로 사용되도록 하는 방법\n",
    "- 훈련-검증 반복하면서 학습 진행\n",
    "- 과대적합 방지 효과 있음 (학습하는 데이터가 매번 바뀌기 때문)"
   ]
  },
  {
   "cell_type": "markdown",
   "id": "608fa280",
   "metadata": {},
   "source": [
    "##### K-fold"
   ]
  },
  {
   "cell_type": "code",
   "execution_count": 1,
   "id": "bcea2e23",
   "metadata": {},
   "outputs": [],
   "source": [
    "import numpy as np\n",
    "import pandas as pd\n",
    "import matplotlib.pyplot as plt\n",
    "import seaborn as sns"
   ]
  },
  {
   "cell_type": "code",
   "execution_count": 2,
   "id": "623d1170",
   "metadata": {},
   "outputs": [],
   "source": [
    "# 데이터 로드\n",
    "from sklearn.datasets import load_iris\n",
    "\n",
    "iris_input, iris_target = load_iris(return_X_y=True)"
   ]
  },
  {
   "cell_type": "code",
   "execution_count": 3,
   "id": "73d83e9e",
   "metadata": {},
   "outputs": [
    {
     "name": "stdout",
     "output_type": "stream",
     "text": [
      "(array([0, 1, 2]), array([40, 41, 39]))\n",
      "(array([0, 1, 2]), array([10,  9, 11]))\n",
      "==========================\n",
      "(array([0, 1, 2]), array([37, 40, 43]))\n",
      "(array([0, 1, 2]), array([13, 10,  7]))\n",
      "==========================\n",
      "(array([0, 1, 2]), array([38, 40, 42]))\n",
      "(array([0, 1, 2]), array([12, 10,  8]))\n",
      "==========================\n",
      "(array([0, 1, 2]), array([42, 40, 38]))\n",
      "(array([0, 1, 2]), array([ 8, 10, 12]))\n",
      "==========================\n",
      "(array([0, 1, 2]), array([43, 39, 38]))\n",
      "(array([0, 1, 2]), array([ 7, 11, 12]))\n",
      "==========================\n",
      "훈련별 정확도: [1.0, 1.0, 0.9333333333333333, 0.9666666666666667, 0.9666666666666667]\n",
      "분류모델 정확도: 0.9733333333333334\n"
     ]
    }
   ],
   "source": [
    "# \n",
    "from sklearn.linear_model import LogisticRegression\n",
    "from sklearn.model_selection import KFold\n",
    "from sklearn.metrics import accuracy_score\n",
    "\n",
    "# 모델 생성\n",
    "lr_clf = LogisticRegression()\n",
    "\n",
    "# 교차검증 kfold 객체 생성\n",
    "\n",
    "kfold = KFold(n_splits=5, shuffle=True, random_state=42)\n",
    "# 데이터를 k개로 균등하게 나눠주기만 하는 역할\n",
    "# n_splits: 몇 개로 나눌 것인지\n",
    "# shuffle=True: fold나누기 전에 데이터 row를 섞을 것인지\n",
    "\n",
    "cv_accuracy = []\n",
    "# accuracy score를 저장할 리스트 초기화\n",
    "\n",
    "for train_index, val_index in kfold.split(iris_input):\n",
    "    # .split()해주면 받은 input에서 훈련할 데이터 인덱스와 검증할 데이터 인덱스를 반환함\n",
    "    # 이때 k=5이므로 다섯 번 반환.\n",
    "\n",
    "    X_train, y_train = iris_input[train_index], iris_target[train_index]\n",
    "    X_val, y_val = iris_input[val_index], iris_target[val_index]\n",
    "    # 훈련-검증 데이터 저장\n",
    "\n",
    "    print(np.unique(y_train, return_counts=True))\n",
    "    print(np.unique(y_val, return_counts=True))\n",
    "    # KFold로 분리된 y_train과 y_val의 label값(0, 1, 2)에 대한 개수 출력\n",
    "    # iris_data는 target이 class 3개가 모두 50개씩.\n",
    "\n",
    "    # 만약 샘플 간 label 개수의 차이가 크면 샘플링 편향 일어날 수 있음\n",
    "    # --> stratified 지정!\n",
    "\n",
    "    print('==========================')\n",
    "\n",
    "    lr_clf.fit(X_train, y_train)\n",
    "    y_pred = lr_clf.predict(X_val)\n",
    "    acc_score = accuracy_score(y_val, y_pred)\n",
    "    cv_accuracy.append(acc_score)\n",
    "    # 정확도 점수를 append로 저장\n",
    "\n",
    "print('훈련별 정확도:', cv_accuracy)\n",
    "print('분류모델 정확도:', np.mean(cv_accuracy))"
   ]
  },
  {
   "cell_type": "markdown",
   "id": "0622ae16",
   "metadata": {},
   "source": [
    "### Stratified-K-fold"
   ]
  },
  {
   "cell_type": "code",
   "execution_count": null,
   "id": "563b852c",
   "metadata": {},
   "outputs": [
    {
     "name": "stdout",
     "output_type": "stream",
     "text": [
      "(array([0, 1, 2]), array([40, 40, 40]))\n",
      "(array([0, 1, 2]), array([10, 10, 10]))\n",
      "==========================\n",
      "(array([0, 1, 2]), array([40, 40, 40]))\n",
      "(array([0, 1, 2]), array([10, 10, 10]))\n",
      "==========================\n",
      "(array([0, 1, 2]), array([40, 40, 40]))\n",
      "(array([0, 1, 2]), array([10, 10, 10]))\n",
      "==========================\n",
      "(array([0, 1, 2]), array([40, 40, 40]))\n",
      "(array([0, 1, 2]), array([10, 10, 10]))\n",
      "==========================\n",
      "(array([0, 1, 2]), array([40, 40, 40]))\n",
      "(array([0, 1, 2]), array([10, 10, 10]))\n",
      "==========================\n",
      "훈련별 정확도: [1.0, 0.9666666666666667, 0.9333333333333333, 1.0, 0.9333333333333333]\n",
      "분류모델 정확도: 0.9666666666666668\n"
     ]
    },
    {
     "name": "stderr",
     "output_type": "stream",
     "text": [
      "c:\\Users\\Playdata\\AppData\\Local\\anaconda3\\envs\\ml_env\\Lib\\site-packages\\sklearn\\linear_model\\_logistic.py:473: ConvergenceWarning: lbfgs failed to converge after 100 iteration(s) (status=1):\n",
      "STOP: TOTAL NO. OF ITERATIONS REACHED LIMIT\n",
      "\n",
      "Increase the number of iterations to improve the convergence (max_iter=100).\n",
      "You might also want to scale the data as shown in:\n",
      "    https://scikit-learn.org/stable/modules/preprocessing.html\n",
      "Please also refer to the documentation for alternative solver options:\n",
      "    https://scikit-learn.org/stable/modules/linear_model.html#logistic-regression\n",
      "  n_iter_i = _check_optimize_result(\n",
      "c:\\Users\\Playdata\\AppData\\Local\\anaconda3\\envs\\ml_env\\Lib\\site-packages\\sklearn\\linear_model\\_logistic.py:473: ConvergenceWarning: lbfgs failed to converge after 100 iteration(s) (status=1):\n",
      "STOP: TOTAL NO. OF ITERATIONS REACHED LIMIT\n",
      "\n",
      "Increase the number of iterations to improve the convergence (max_iter=100).\n",
      "You might also want to scale the data as shown in:\n",
      "    https://scikit-learn.org/stable/modules/preprocessing.html\n",
      "Please also refer to the documentation for alternative solver options:\n",
      "    https://scikit-learn.org/stable/modules/linear_model.html#logistic-regression\n",
      "  n_iter_i = _check_optimize_result(\n"
     ]
    }
   ],
   "source": [
    "from sklearn.model_selection import StratifiedKFold\n",
    "from sklearn.linear_model import LogisticRegression\n",
    "from sklearn.metrics import accuracy_score\n",
    "\n",
    "# 모델 생성\n",
    "lr_clf = LogisticRegression()\n",
    "\n",
    "# 교차검증 (Stratified)\n",
    "st_kfold = StratifiedKFold(n_splits=5, shuffle=True, random_state=42)\n",
    "\n",
    "cv_accuracy=[]\n",
    "\n",
    "for train_index, val_index in st_kfold.split(iris_input, iris_target):\n",
    "    # Stratified는 label의 비율을 반영해 split하는 메서드이므로 label 데이터도 넘겨야 함\n",
    "\n",
    "    X_train, y_train = iris_input[train_index], iris_target[train_index]\n",
    "    X_val, y_val = iris_input[val_index], iris_target[val_index]\n",
    "    # 훈련-검증 데이터 저장\n",
    "\n",
    "    print(np.unique(y_train, return_counts=True))\n",
    "    print(np.unique(y_val, return_counts=True))\n",
    "\n",
    "    print('==========================')\n",
    "\n",
    "    lr_clf.fit(X_train, y_train)\n",
    "    y_pred = lr_clf.predict(X_val)\n",
    "    acc_score = accuracy_score(y_val, y_pred)\n",
    "    cv_accuracy.append(acc_score)\n",
    "    # 정확도 점수를 append로 저장\n",
    "\n",
    "print('훈련별 정확도:', cv_accuracy)\n",
    "print('분류모델 정확도:', np.mean(cv_accuracy))"
   ]
  },
  {
   "cell_type": "markdown",
   "id": "460e9922",
   "metadata": {},
   "source": [
    "### cross_val_score\n",
    "- 교차검증을 통해 모델 성능을 평가하는 함수\n",
    "- 내부적으로 지정한 횟수만큼 학습/검증을 나누어 반복 처리"
   ]
  },
  {
   "cell_type": "code",
   "execution_count": null,
   "id": "9bc36b47",
   "metadata": {},
   "outputs": [
    {
     "name": "stdout",
     "output_type": "stream",
     "text": [
      "훈련별 정확도: [0.96666667 1.         0.93333333 0.96666667 1.        ]\n",
      "모델 정확도: 0.9733333333333334\n"
     ]
    }
   ],
   "source": [
    "from sklearn.model_selection import cross_val_score\n",
    "\n",
    "lr_clf = LogisticRegression(max_iter=1000)\n",
    "\n",
    "scores = cross_val_score(lr_clf, iris_input, iris_target, cv=5, scoring='accuracy')\n",
    "# 첫 번째 인자: 모델(클래스 이름)\n",
    "# 두세 번째 인자: X, y 데이터\n",
    "# cv: 교차 검증 반복 횟수(분류 문제가 아니면 KFold 기본으로 사용. 분류 문제는 StratifiedKFold)\n",
    "#                      -> 샘플링 편향 방지 위해 StratifiedKFold 써야함\n",
    "#                      -> StratifiedKFold 객체 전달 가능. (BaseCrossValidator)\n",
    "# scoring: 평가 지표(기본으로 accuracy 사용. precision, recall, f1-score 지정 가능. 단, 두 개 이상 불가)\n",
    "\n",
    "# 반환값: 반복한 훈련별 검증 점수를 배열 형태로 반환\n",
    "print('훈련별 정확도:', scores)\n",
    "print('모델 정확도:', np.mean(scores))"
   ]
  },
  {
   "cell_type": "code",
   "execution_count": null,
   "id": "b1ccea13",
   "metadata": {},
   "outputs": [
    {
     "data": {
      "text/plain": [
       "{'fit_time': array([0.04188895, 0.05452538, 0.02415466, 0.01635027, 0.01613498]),\n",
       " 'score_time': array([0.00701308, 0.00301957, 0.        , 0.        , 0.        ]),\n",
       " 'test_accuracy': array([0.96666667, 1.        , 0.93333333, 0.96666667, 1.        ]),\n",
       " 'train_accuracy': array([0.96666667, 0.96666667, 0.98333333, 0.98333333, 0.975     ]),\n",
       " 'test_f1_macro': array([0.96658312, 1.        , 0.93265993, 0.96658312, 1.        ]),\n",
       " 'train_f1_macro': array([0.96664582, 0.96664582, 0.98333333, 0.98332291, 0.97499609])}"
      ]
     },
     "execution_count": 12,
     "metadata": {},
     "output_type": "execute_result"
    }
   ],
   "source": [
    "from sklearn.model_selection import cross_validate\n",
    "\n",
    "lr_clf = LogisticRegression(max_iter=1000)\n",
    "\n",
    "scores = cross_validate(lr_clf, iris_input, iris_target,\n",
    "                        cv=5, scoring=('accuracy', 'f1_macro'),\n",
    "                        return_train_score=True\n",
    "                        )\n",
    "# scoring: tuple형 가능. 즉, 다중 평가 지표 사용 가능\n",
    "# 'f1'은 이진분류로 평가. 'f1_macro'는 다중 분류\n",
    "# return_train_score = True: train데이터의 평가 지표도 함께 반환\n",
    "\n",
    "# time값을 보고 판단하는 것도 필요(오래 걸리면 안 좋음)\n",
    "# 교차 검증 메서드는 모델을 학습시키고 평가 점수도 내지만 모델 객체에 저장x\n",
    "#   따라서 lr_clf.predict(iris_input) 쓰면 예측 불가\n",
    "scores"
   ]
  }
 ],
 "metadata": {
  "kernelspec": {
   "display_name": "ml_env",
   "language": "python",
   "name": "python3"
  },
  "language_info": {
   "codemirror_mode": {
    "name": "ipython",
    "version": 3
   },
   "file_extension": ".py",
   "mimetype": "text/x-python",
   "name": "python",
   "nbconvert_exporter": "python",
   "pygments_lexer": "ipython3",
   "version": "3.12.11"
  }
 },
 "nbformat": 4,
 "nbformat_minor": 5
}
