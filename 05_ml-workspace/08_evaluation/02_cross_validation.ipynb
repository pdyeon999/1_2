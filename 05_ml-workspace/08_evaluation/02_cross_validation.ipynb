{
 "cells": [
  {
   "cell_type": "markdown",
   "id": "299c34b2",
   "metadata": {},
   "source": [
    "### 교차 검증 (Cross Validation)\n",
    "\n",
    "- 모델을 더욱 신뢰성 있게 평가하는 방법\n",
    "- 데이터셋을 여러 개로 나누고, 각 부분이 한 번씩 검증 데이터로 사용되도록 하는 방법\n",
    "- 훈련-검증 반복하면서 학습 진행\n",
    "- 과대적합 방지 효과 있음 (학습하는 데이터가 매번 바뀌기 때문)"
   ]
  },
  {
   "cell_type": "markdown",
   "id": "608fa280",
   "metadata": {},
   "source": [
    "##### K-fold"
   ]
  },
  {
   "cell_type": "code",
   "execution_count": 1,
   "id": "bcea2e23",
   "metadata": {},
   "outputs": [],
   "source": [
    "import numpy as np\n",
    "import pandas as pd\n",
    "import matplotlib.pyplot as plt\n",
    "import seaborn as sns"
   ]
  },
  {
   "cell_type": "code",
   "execution_count": 2,
   "id": "623d1170",
   "metadata": {},
   "outputs": [],
   "source": [
    "# 데이터 로드\n",
    "from sklearn.datasets import load_iris\n",
    "\n",
    "iris_input, iris_target = load_iris(return_X_y=True)"
   ]
  },
  {
   "cell_type": "code",
   "execution_count": null,
   "id": "73d83e9e",
   "metadata": {},
   "outputs": [
    {
     "name": "stdout",
     "output_type": "stream",
     "text": [
      "(array([0, 1, 2]), array([40, 41, 39]))\n",
      "(array([0, 1, 2]), array([10,  9, 11]))\n",
      "==========================\n",
      "(array([0, 1, 2]), array([37, 40, 43]))\n",
      "(array([0, 1, 2]), array([13, 10,  7]))\n",
      "==========================\n",
      "(array([0, 1, 2]), array([38, 40, 42]))\n",
      "(array([0, 1, 2]), array([12, 10,  8]))\n",
      "==========================\n",
      "(array([0, 1, 2]), array([42, 40, 38]))\n",
      "(array([0, 1, 2]), array([ 8, 10, 12]))\n",
      "==========================\n",
      "(array([0, 1, 2]), array([43, 39, 38]))\n",
      "(array([0, 1, 2]), array([ 7, 11, 12]))\n",
      "==========================\n",
      "훈련별 정확도: [1.0, 1.0, 0.9333333333333333, 0.9666666666666667, 0.9666666666666667]\n",
      "분류모델 정확도: 0.9733333333333334\n"
     ]
    }
   ],
   "source": [
    "# \n",
    "from sklearn.linear_model import LogisticRegression\n",
    "from sklearn.model_selection import KFold\n",
    "from sklearn.metrics import accuracy_score\n",
    "\n",
    "# 모델 생성\n",
    "lr_clf = LogisticRegression()\n",
    "\n",
    "# 교차검증 kfold 객체 생성\n",
    "\n",
    "kfold = KFold(n_splits=5, shuffle=True, random_state=42)\n",
    "# 데이터를 k개로 균등하게 나눠주기만 하는 역할\n",
    "# n_splits: 몇 개로 나눌 것인지\n",
    "# shuffle=True: fold나누기 전에 데이터 row를 섞을 것인지\n",
    "\n",
    "cv_accuracy = []\n",
    "# accuracy score를 저장할 리스트 초기화\n",
    "\n",
    "for train_index, val_index in kfold.split(iris_input):\n",
    "    # .split()해주면 받은 input에서 훈련할 데이터 인덱스와 검증할 데이터 인덱스를 반환함\n",
    "    # 이때 k=5이므로 다섯 번 반환.\n",
    "\n",
    "    X_train, y_train = iris_input[train_index], iris_target[train_index]\n",
    "    X_val, y_val = iris_input[val_index], iris_target[val_index]\n",
    "    # 훈련-검증 데이터 저장\n",
    "\n",
    "    print(np.unique(y_train, return_counts=True))\n",
    "    print(np.unique(y_val, return_counts=True))\n",
    "    # KFold로 분리된 y_train과 y_val의 label값(0, 1, 2)에 대한 개수 출력\n",
    "    # iris_data는 target이 class 3개가 모두 50개씩.\n",
    "\n",
    "    # 만약 샘플 간 label 개수의 차이가 크면 샘플링 편향 일어날 수 있음\n",
    "    # --> stratified 지정!\n",
    "\n",
    "    print('==========================')\n",
    "\n",
    "    lr_clf.fit(X_train, y_train)\n",
    "    y_pred = lr_clf.predict(X_val)\n",
    "    acc_score = accuracy_score(y_val, y_pred)\n",
    "    cv_accuracy.append(acc_score)\n",
    "    # 정확도 점수를 append로 저장\n",
    "\n",
    "print('훈련별 정확도:', cv_accuracy)\n",
    "print('분류모델 정확도:', np.mean(cv_accuracy))"
   ]
  },
  {
   "cell_type": "markdown",
   "id": "0622ae16",
   "metadata": {},
   "source": [
    "### Stratified-K-fold"
   ]
  }
 ],
 "metadata": {
  "kernelspec": {
   "display_name": "ml_env",
   "language": "python",
   "name": "python3"
  },
  "language_info": {
   "codemirror_mode": {
    "name": "ipython",
    "version": 3
   },
   "file_extension": ".py",
   "mimetype": "text/x-python",
   "name": "python",
   "nbconvert_exporter": "python",
   "pygments_lexer": "ipython3",
   "version": "3.12.11"
  }
 },
 "nbformat": 4,
 "nbformat_minor": 5
}
