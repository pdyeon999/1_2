{
 "cells": [
  {
   "cell_type": "markdown",
   "id": "80751f2f",
   "metadata": {},
   "source": [
    "### Faker\n",
    "- 가상 데이터 생성"
   ]
  },
  {
   "cell_type": "code",
   "execution_count": null,
   "id": "d1a9a0cc",
   "metadata": {},
   "outputs": [
    {
     "name": "stdout",
     "output_type": "stream",
     "text": [
      "Collecting faker\n",
      "  Downloading faker-37.8.0-py3-none-any.whl.metadata (15 kB)\n",
      "Requirement already satisfied: tzdata in c:\\users\\playdata\\appdata\\local\\anaconda3\\envs\\ml_env\\lib\\site-packages (from faker) (2025.2)\n",
      "Downloading faker-37.8.0-py3-none-any.whl (2.0 MB)\n",
      "   ---------------------------------------- 0.0/2.0 MB ? eta -:--:--\n",
      "   ---------------------------------------- 2.0/2.0 MB 52.9 MB/s  0:00:00\n",
      "Installing collected packages: faker\n",
      "Successfully installed faker-37.8.0\n"
     ]
    }
   ],
   "source": [
    "# !pip install faker"
   ]
  },
  {
   "cell_type": "code",
   "execution_count": null,
   "id": "7ef70348",
   "metadata": {},
   "outputs": [
    {
     "name": "stdout",
     "output_type": "stream",
     "text": [
      "Micheal Baldwin\n",
      "William Burgess\n",
      "bmayer@example.org\n",
      "Henderson-Atkinson\n",
      "1961-11-05\n"
     ]
    }
   ],
   "source": [
    "from faker import Faker\n",
    "\n",
    "fake = Faker()\n",
    "\n",
    "print(fake.name())\n",
    "print(fake.first_name() + \" \" + fake.last_name())\n",
    "print(fake.email())\n",
    "print(fake.company()) # 가상 회사 이름\n",
    "print(fake.date_of_birth(minimum_age=19, maximum_age=90))\n",
    "\n",
    "# 실데이터 사용하되 faker를 써도 되긴 하다..."
   ]
  },
  {
   "cell_type": "code",
   "execution_count": 106,
   "id": "1e440a1a",
   "metadata": {},
   "outputs": [],
   "source": [
    "import pandas as pd\n",
    "import random\n",
    "\n",
    "fake = Faker()\n",
    "\n",
    "def generate_customer_data(n=1000):\n",
    "    data = []\n",
    "    \n",
    "    # customer data 생성할 것. 분석에 필요없는 name등의 정보는 만들지 않을 것\n",
    "    for _ in range(n):\n",
    "        age = fake.random_int(min=19, max=60)\n",
    "        sub_months = fake.random_int(min=1, max=120) # 가입 개월 수\n",
    "        monthly_payment = round(random.uniform(10, 100), 2)\n",
    "            # 10부터 100까지의 실수에서 균등적으로 무작위 생성. 이때 반올림해서 소숫점 둘째 자리까지만 살림\n",
    "        usage_frequency = fake.random_int(min=1, max=30) # 멤버십??\n",
    "        stft_score = fake.random_int(min=0, max=5) # 만족도 점수\n",
    "        churn = fake.boolean(chance_of_getting_true=30) # 이탈을 했는지 안 했는지의 여부를 True, False로 생성. True 비율을 30퍼로 지정.\n",
    "\n",
    "        data.append([age, sub_months, monthly_payment, usage_frequency, stft_score, churn])\n",
    "\n",
    "        columns = ['AGE', 'SUB_MONTHS', 'MONTHLY_PAYMENT', 'USAGE_FEQ', 'STFT', 'CHURN']\n",
    "\n",
    "    return pd.DataFrame(data, columns=columns)"
   ]
  },
  {
   "cell_type": "code",
   "execution_count": null,
   "id": "693f7193",
   "metadata": {},
   "outputs": [
    {
     "data": {
      "text/html": [
       "<div>\n",
       "<style scoped>\n",
       "    .dataframe tbody tr th:only-of-type {\n",
       "        vertical-align: middle;\n",
       "    }\n",
       "\n",
       "    .dataframe tbody tr th {\n",
       "        vertical-align: top;\n",
       "    }\n",
       "\n",
       "    .dataframe thead th {\n",
       "        text-align: right;\n",
       "    }\n",
       "</style>\n",
       "<table border=\"1\" class=\"dataframe\">\n",
       "  <thead>\n",
       "    <tr style=\"text-align: right;\">\n",
       "      <th></th>\n",
       "      <th>AGE</th>\n",
       "      <th>SUB_MONTHS</th>\n",
       "      <th>MONTHLY_PAYMENT</th>\n",
       "      <th>USAGE_FEQ</th>\n",
       "      <th>STFT</th>\n",
       "      <th>CHURN</th>\n",
       "    </tr>\n",
       "  </thead>\n",
       "  <tbody>\n",
       "    <tr>\n",
       "      <th>0</th>\n",
       "      <td>26</td>\n",
       "      <td>54</td>\n",
       "      <td>31.31</td>\n",
       "      <td>25</td>\n",
       "      <td>5</td>\n",
       "      <td>True</td>\n",
       "    </tr>\n",
       "    <tr>\n",
       "      <th>1</th>\n",
       "      <td>43</td>\n",
       "      <td>87</td>\n",
       "      <td>35.11</td>\n",
       "      <td>24</td>\n",
       "      <td>3</td>\n",
       "      <td>False</td>\n",
       "    </tr>\n",
       "    <tr>\n",
       "      <th>2</th>\n",
       "      <td>39</td>\n",
       "      <td>106</td>\n",
       "      <td>17.80</td>\n",
       "      <td>22</td>\n",
       "      <td>5</td>\n",
       "      <td>False</td>\n",
       "    </tr>\n",
       "    <tr>\n",
       "      <th>3</th>\n",
       "      <td>25</td>\n",
       "      <td>6</td>\n",
       "      <td>81.80</td>\n",
       "      <td>24</td>\n",
       "      <td>2</td>\n",
       "      <td>False</td>\n",
       "    </tr>\n",
       "    <tr>\n",
       "      <th>4</th>\n",
       "      <td>42</td>\n",
       "      <td>17</td>\n",
       "      <td>64.31</td>\n",
       "      <td>29</td>\n",
       "      <td>2</td>\n",
       "      <td>True</td>\n",
       "    </tr>\n",
       "    <tr>\n",
       "      <th>...</th>\n",
       "      <td>...</td>\n",
       "      <td>...</td>\n",
       "      <td>...</td>\n",
       "      <td>...</td>\n",
       "      <td>...</td>\n",
       "      <td>...</td>\n",
       "    </tr>\n",
       "    <tr>\n",
       "      <th>199995</th>\n",
       "      <td>35</td>\n",
       "      <td>39</td>\n",
       "      <td>55.80</td>\n",
       "      <td>15</td>\n",
       "      <td>2</td>\n",
       "      <td>False</td>\n",
       "    </tr>\n",
       "    <tr>\n",
       "      <th>199996</th>\n",
       "      <td>28</td>\n",
       "      <td>120</td>\n",
       "      <td>74.24</td>\n",
       "      <td>10</td>\n",
       "      <td>1</td>\n",
       "      <td>False</td>\n",
       "    </tr>\n",
       "    <tr>\n",
       "      <th>199997</th>\n",
       "      <td>58</td>\n",
       "      <td>68</td>\n",
       "      <td>81.78</td>\n",
       "      <td>7</td>\n",
       "      <td>2</td>\n",
       "      <td>False</td>\n",
       "    </tr>\n",
       "    <tr>\n",
       "      <th>199998</th>\n",
       "      <td>26</td>\n",
       "      <td>34</td>\n",
       "      <td>34.98</td>\n",
       "      <td>27</td>\n",
       "      <td>1</td>\n",
       "      <td>False</td>\n",
       "    </tr>\n",
       "    <tr>\n",
       "      <th>199999</th>\n",
       "      <td>26</td>\n",
       "      <td>44</td>\n",
       "      <td>73.75</td>\n",
       "      <td>25</td>\n",
       "      <td>0</td>\n",
       "      <td>True</td>\n",
       "    </tr>\n",
       "  </tbody>\n",
       "</table>\n",
       "<p>200000 rows × 6 columns</p>\n",
       "</div>"
      ],
      "text/plain": [
       "        AGE  SUB_MONTHS  MONTHLY_PAYMENT  USAGE_FEQ  STFT  CHURN\n",
       "0        26          54            31.31         25     5   True\n",
       "1        43          87            35.11         24     3  False\n",
       "2        39         106            17.80         22     5  False\n",
       "3        25           6            81.80         24     2  False\n",
       "4        42          17            64.31         29     2   True\n",
       "...     ...         ...              ...        ...   ...    ...\n",
       "199995   35          39            55.80         15     2  False\n",
       "199996   28         120            74.24         10     1  False\n",
       "199997   58          68            81.78          7     2  False\n",
       "199998   26          34            34.98         27     1  False\n",
       "199999   26          44            73.75         25     0   True\n",
       "\n",
       "[200000 rows x 6 columns]"
      ]
     },
     "execution_count": 108,
     "metadata": {},
     "output_type": "execute_result"
    }
   ],
   "source": [
    "customer_df = generate_customer_data(200000)\n",
    "customer_df"
   ]
  },
  {
   "cell_type": "code",
   "execution_count": 110,
   "id": "b08b0743",
   "metadata": {},
   "outputs": [
    {
     "data": {
      "text/plain": [
       "CHURN\n",
       "False    140438\n",
       "True      59562\n",
       "Name: count, dtype: int64"
      ]
     },
     "execution_count": 110,
     "metadata": {},
     "output_type": "execute_result"
    }
   ],
   "source": [
    "customer_df['CHURN'].value_counts()"
   ]
  },
  {
   "cell_type": "code",
   "execution_count": null,
   "id": "56855489",
   "metadata": {},
   "outputs": [
    {
     "data": {
      "text/plain": [
       "0.29781"
      ]
     },
     "execution_count": 111,
     "metadata": {},
     "output_type": "execute_result"
    }
   ],
   "source": [
    "59562/(140438+59562)\n",
    "# 약 0.3의 확률로 True가 있음"
   ]
  },
  {
   "cell_type": "code",
   "execution_count": 109,
   "id": "2dea647c",
   "metadata": {},
   "outputs": [],
   "source": [
    "customer_df.to_csv('customer_data.csv', index=False)"
   ]
  }
 ],
 "metadata": {
  "kernelspec": {
   "display_name": "ml_env",
   "language": "python",
   "name": "python3"
  },
  "language_info": {
   "codemirror_mode": {
    "name": "ipython",
    "version": 3
   },
   "file_extension": ".py",
   "mimetype": "text/x-python",
   "name": "python",
   "nbconvert_exporter": "python",
   "pygments_lexer": "ipython3",
   "version": "3.12.11"
  }
 },
 "nbformat": 4,
 "nbformat_minor": 5
}
