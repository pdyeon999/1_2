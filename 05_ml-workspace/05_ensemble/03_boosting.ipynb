{
 "cells": [
  {
   "cell_type": "markdown",
   "id": "bafbca8e",
   "metadata": {},
   "source": [
    "### 앙상블: Boosting\n",
    "\n",
    "- 다양한 모델을 결합하여 예측 성능을 향상시키는 기법\n",
    "    - 깊이가 얕은 결정트리를 사용해 이전 트리의 오차를 보정하는 방식\n",
    "    - 순차적으로 경사하강법을 사용해 이전 트리의 오차를 줄여나감\n",
    "        - 분류 모델에서는 손실함수 Logloss를 사용해 오차 줄임\n",
    "        - 회귀 모델에서는 손실함수 MSE 사용해 오차 줄임\n",
    "    - Boosting 게열은 일반적으로 결정트리 개수를 늘려도 과적합에 강함\n",
    "    - 대표적인 알고리즘(모델): GradientBoosting, HistGradientBoosting, XGBoost(DMLC), LightGBM(MS), CatBoost\n",
    "    *DMLC: XGBoost 지속적인 연구, 개발 중\n",
    "    *MS: 마이크로소프트 사에서 LightGBM을 내놓음"
   ]
  },
  {
   "cell_type": "markdown",
   "id": "98a1d34c",
   "metadata": {},
   "source": [
    "### GradientBoosting"
   ]
  },
  {
   "cell_type": "code",
   "execution_count": 1,
   "id": "58cf0de3",
   "metadata": {},
   "outputs": [],
   "source": [
    "import numpy as np\n",
    "import pandas as pd\n",
    "import matplotlib.pyplot as plt\n",
    "import seaborn as sns"
   ]
  },
  {
   "cell_type": "code",
   "execution_count": null,
   "id": "6cfcec7c",
   "metadata": {},
   "outputs": [],
   "source": [
    "from sklearn.tree import DecisionTreeRegressor"
   ]
  },
  {
   "cell_type": "code",
   "execution_count": null,
   "id": "80eb9514",
   "metadata": {},
   "outputs": [],
   "source": [
    "class SimpleGradientBoostingClassifier:\n",
    "    def __init__(self, n_estimators=100, learning_rate = .2, max_depth=3):\n",
    "        # 하이퍼 파라미터 등 값을 받아 객체 변수로 저장하기 위해 생성자에서 저장\n",
    "        self.n_estimators = n_estimators\n",
    "        self.learning_rate = learning_rate\n",
    "        self.max_depth = max_depth\n",
    "        self.initial_log_odds = 0\n",
    "        self.trees = []\n",
    "        \n",
    "\n",
    "    def log_odds(self):\n",
    "        pass\n",
    "\n",
    "    def sigmoid(self):\n",
    "        pass\n",
    "    \n",
    "    def fit(self):\n",
    "        pass\n",
    "\n",
    "    def predict(self):\n",
    "        pass\n",
    "    \n",
    "    def predict_proba(self):\n",
    "        pass\n",
    "\n"
   ]
  }
 ],
 "metadata": {
  "kernelspec": {
   "display_name": "ml_env",
   "language": "python",
   "name": "python3"
  },
  "language_info": {
   "codemirror_mode": {
    "name": "ipython",
    "version": 3
   },
   "file_extension": ".py",
   "mimetype": "text/x-python",
   "name": "python",
   "nbconvert_exporter": "python",
   "pygments_lexer": "ipython3",
   "version": "3.12.11"
  }
 },
 "nbformat": 4,
 "nbformat_minor": 5
}
