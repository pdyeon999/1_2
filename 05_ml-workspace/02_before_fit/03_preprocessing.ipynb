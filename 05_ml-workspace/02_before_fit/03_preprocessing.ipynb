{
 "cells": [
  {
   "cell_type": "markdown",
   "id": "5a1a1788",
   "metadata": {},
   "source": [
    "#### Preprocessing (전처리)\n",
    "\n",
    "Data Cleansing(데이터 정제): 결측치, 중복값, 이상치 처리\n",
    "Data Encoding: 텍스트 데이터 -> 숫자 데이터 변환 (범주형 데이터에 주로 사용)\n",
    "Data Scaling: 숫자값 정규화(StandardScaler, MinMaxScaler)\n",
    "Outlier: 이상치 처리\n",
    "FeatureEngineering: 속성 생성/수정/가공"
   ]
  },
  {
   "cell_type": "code",
   "execution_count": 2,
   "id": "01f441a1",
   "metadata": {},
   "outputs": [],
   "source": [
    "import numpy as np\n",
    "import pandas as pd\n",
    "import matplotlib.pyplot as plt\n",
    "import seaborn as sns"
   ]
  },
  {
   "cell_type": "markdown",
   "id": "24e69dae",
   "metadata": {},
   "source": [
    "##### Data Cleansing\n",
    "\n",
    "결측치 처리"
   ]
  },
  {
   "cell_type": "code",
   "execution_count": null,
   "id": "c931caf7",
   "metadata": {},
   "outputs": [
    {
     "data": {
      "text/html": [
       "<div>\n",
       "<style scoped>\n",
       "    .dataframe tbody tr th:only-of-type {\n",
       "        vertical-align: middle;\n",
       "    }\n",
       "\n",
       "    .dataframe tbody tr th {\n",
       "        vertical-align: top;\n",
       "    }\n",
       "\n",
       "    .dataframe thead th {\n",
       "        text-align: right;\n",
       "    }\n",
       "</style>\n",
       "<table border=\"1\" class=\"dataframe\">\n",
       "  <thead>\n",
       "    <tr style=\"text-align: right;\">\n",
       "      <th></th>\n",
       "      <th>0</th>\n",
       "      <th>1</th>\n",
       "    </tr>\n",
       "  </thead>\n",
       "  <tbody>\n",
       "    <tr>\n",
       "      <th>0</th>\n",
       "      <td>25.000000</td>\n",
       "      <td>50000.0</td>\n",
       "    </tr>\n",
       "    <tr>\n",
       "      <th>1</th>\n",
       "      <td>27.333333</td>\n",
       "      <td>60000.0</td>\n",
       "    </tr>\n",
       "    <tr>\n",
       "      <th>2</th>\n",
       "      <td>27.000000</td>\n",
       "      <td>55000.0</td>\n",
       "    </tr>\n",
       "    <tr>\n",
       "      <th>3</th>\n",
       "      <td>27.333333</td>\n",
       "      <td>52000.0</td>\n",
       "    </tr>\n",
       "    <tr>\n",
       "      <th>4</th>\n",
       "      <td>30.000000</td>\n",
       "      <td>58000.0</td>\n",
       "    </tr>\n",
       "  </tbody>\n",
       "</table>\n",
       "</div>"
      ],
      "text/plain": [
       "           0        1\n",
       "0  25.000000  50000.0\n",
       "1  27.333333  60000.0\n",
       "2  27.000000  55000.0\n",
       "3  27.333333  52000.0\n",
       "4  30.000000  58000.0"
      ]
     },
     "execution_count": 4,
     "metadata": {},
     "output_type": "execute_result"
    }
   ],
   "source": [
    "from sklearn.impute import SimpleImputer\n",
    "\n",
    "data = pd.DataFrame({\n",
    "    'age':[25, None, 27, None, 30],\n",
    "    'income': [50000, 60000, None, 52000, 58000]\n",
    "})\n",
    "imputer = SimpleImputer()\n",
    "\n",
    "data_cleaned = pd.DataFrame(imputer.fit_transform(data))\n",
    "# 결측치가 있는 데이터를 fit_transform해서 DF형으로 저장\n",
    "# fit 방법: NaN에 대해 해당 칼럼값의 평균을 내 자동 저장\n",
    "data_cleaned"
   ]
  }
 ],
 "metadata": {
  "kernelspec": {
   "display_name": "ml_env",
   "language": "python",
   "name": "python3"
  },
  "language_info": {
   "codemirror_mode": {
    "name": "ipython",
    "version": 3
   },
   "file_extension": ".py",
   "mimetype": "text/x-python",
   "name": "python",
   "nbconvert_exporter": "python",
   "pygments_lexer": "ipython3",
   "version": "3.12.11"
  }
 },
 "nbformat": 4,
 "nbformat_minor": 5
}
