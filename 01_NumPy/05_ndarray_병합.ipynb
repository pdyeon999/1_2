{
 "cells": [
  {
   "cell_type": "code",
   "execution_count": 1,
   "id": "baedccd7",
   "metadata": {},
   "outputs": [],
   "source": [
    "# ndarray 병합 및 분할\n",
    "import numpy as np"
   ]
  },
  {
   "cell_type": "code",
   "execution_count": 2,
   "id": "9d8bc873",
   "metadata": {},
   "outputs": [
    {
     "name": "stdout",
     "output_type": "stream",
     "text": [
      "[10 20 30] [10 20 30 40] [10 15 20 30]\n",
      "False [10 15 20 30]\n"
     ]
    }
   ],
   "source": [
    "arr = np.array([10, 20, 30])\n",
    "arr1 = np.append(arr, 40)\n",
    "arr2 = np.insert(arr, 1, 15)\n",
    "\n",
    "print(arr, arr1, arr2)\n",
    "print(arr2 is arr, arr2)"
   ]
  },
  {
   "cell_type": "code",
   "execution_count": 33,
   "id": "ea4618b2",
   "metadata": {},
   "outputs": [
    {
     "name": "stdout",
     "output_type": "stream",
     "text": [
      "[ 1  2  3  4  5  6  7  8  9 10 11 12 40]\n",
      "[[ 1  2  3  4  5]\n",
      " [ 5  6  7  8  6]\n",
      " [ 9 10 11 12  7]]\n",
      "[  1   2 100   3 100   4   5   6   7   8   9  10  11  12]\n",
      "[[ 1 10  2  3  4]\n",
      " [ 5 20  6  7  8]\n",
      " [ 9 30 10 11 12]]\n",
      "[[  1 100   2   3   4]\n",
      " [  5 100   6   7   8]\n",
      " [  9 100  10  11  12]]\n"
     ]
    }
   ],
   "source": [
    "# append\n",
    "arr = np.arange(1, 13).reshape(3, 4)\n",
    "print(np.append(arr, 40))\n",
    "print(np.append(arr, [[5], [6], [7]], axis=1))\n",
    "\n",
    "# insert\n",
    "print(np.insert(arr, (2, 3), 100))\n",
    "print(np.insert(arr, 1, [[10,20,30]], axis = 1))\n",
    "print(np.insert(arr, 1, 100, axis = 1))"
   ]
  },
  {
   "cell_type": "code",
   "execution_count": 43,
   "id": "05371d8b",
   "metadata": {},
   "outputs": [
    {
     "name": "stdout",
     "output_type": "stream",
     "text": [
      "[[ 1  2  3  4]\n",
      " [ 5  6  7  8]\n",
      " [ 9 10 11 12]]\n",
      "[ 1  3  4  5  6  7  8  9 10 11 12]\n",
      "[[ 1  2  3  4]\n",
      " [ 9 10 11 12]]\n",
      "[[ 1  3  4]\n",
      " [ 5  7  8]\n",
      " [ 9 11 12]]\n"
     ]
    }
   ],
   "source": [
    "#np.delete()\n",
    "\n",
    "arr = np.arange(1, 13).reshape(3, 4)\n",
    "print(arr)\n",
    "\n",
    "print(np.delete(arr, 1))\n",
    "print(np.delete(arr, 1, axis = 0))\n",
    "print(np.delete(arr, 1, axis = 1))"
   ]
  },
  {
   "cell_type": "code",
   "execution_count": 45,
   "id": "d584d8dd",
   "metadata": {},
   "outputs": [
    {
     "name": "stdout",
     "output_type": "stream",
     "text": [
      "[[ 1  2  3  4]\n",
      " [ 5  6  7  8]\n",
      " [ 9 10 11 12]]\n",
      "[[13 14 15 16]\n",
      " [17 18 19 20]\n",
      " [21 22 23 24]]\n"
     ]
    }
   ],
   "source": [
    "# ndarray 병합\n",
    "arr1 = np.arange(1, 13).reshape(3, 4)\n",
    "arr2 = np.arange(13, 25).reshape(3, 4)\n",
    "\n",
    "print(arr1)\n",
    "print(arr2)"
   ]
  },
  {
   "cell_type": "code",
   "execution_count": 49,
   "id": "b9bc627f",
   "metadata": {},
   "outputs": [
    {
     "name": "stdout",
     "output_type": "stream",
     "text": [
      "[ 1  2  3  4  5  6  7  8  9 10 11 12 13 14 15 16 17 18 19 20 21 22 23 24]\n",
      "[[ 1  2  3  4]\n",
      " [ 5  6  7  8]\n",
      " [ 9 10 11 12]\n",
      " [13 14 15 16]\n",
      " [17 18 19 20]\n",
      " [21 22 23 24]]\n",
      "[[ 1  2  3  4 13 14]\n",
      " [ 5  6  7  8 17 18]\n",
      " [ 9 10 11 12 21 22]]\n"
     ]
    }
   ],
   "source": [
    "print(np.append(arr1, arr2))\n",
    "print(np.append(arr1, arr2, axis=0))\n",
    "print(np.append(arr1, arr2[:, :2], axis = 1))"
   ]
  },
  {
   "cell_type": "code",
   "execution_count": 53,
   "id": "391ee637",
   "metadata": {},
   "outputs": [
    {
     "name": "stdout",
     "output_type": "stream",
     "text": [
      "[[ 1  2  3  4]\n",
      " [ 5  6  7  8]\n",
      " [ 9 10 11 12]\n",
      " [13 14 15 16]\n",
      " [17 18 19 20]\n",
      " [21 22 23 24]]\n",
      "[[ 1  2  3  4 13 14 15 16]\n",
      " [ 5  6  7  8 17 18 19 20]\n",
      " [ 9 10 11 12 21 22 23 24]]\n"
     ]
    }
   ],
   "source": [
    "print(np.vstack((arr1, arr2)))\n",
    "print(np.hstack((arr1, arr2)))"
   ]
  },
  {
   "cell_type": "code",
   "execution_count": 56,
   "id": "f098e3b3",
   "metadata": {},
   "outputs": [
    {
     "name": "stdout",
     "output_type": "stream",
     "text": [
      "[[ 1  2  3  4]\n",
      " [ 5  6  7  8]\n",
      " [ 9 10 11 12]\n",
      " [13 14 15 16]\n",
      " [17 18 19 20]\n",
      " [21 22 23 24]]\n",
      "[[ 1  2  3  4 13 14 15 16]\n",
      " [ 5  6  7  8 17 18 19 20]\n",
      " [ 9 10 11 12 21 22 23 24]]\n"
     ]
    }
   ],
   "source": [
    "print(np.concatenate((arr1, arr2)))\n",
    "print(np.concatenate((arr1, arr2), axis = 1))"
   ]
  },
  {
   "cell_type": "code",
   "execution_count": null,
   "id": "d37e50d0",
   "metadata": {},
   "outputs": [],
   "source": [
    "# ndarray 분할\n",
    "arr=np.concatenate((arr1, arr2))"
   ]
  },
  {
   "cell_type": "code",
   "execution_count": 67,
   "id": "81566e07",
   "metadata": {},
   "outputs": [
    {
     "name": "stdout",
     "output_type": "stream",
     "text": [
      "[array([[ 1,  2,  3,  4],\n",
      "       [ 5,  6,  7,  8],\n",
      "       [ 9, 10, 11, 12]]), array([[13, 14, 15, 16],\n",
      "       [17, 18, 19, 20],\n",
      "       [21, 22, 23, 24]])]\n",
      "[array([[ 1],\n",
      "       [ 5],\n",
      "       [ 9],\n",
      "       [13],\n",
      "       [17],\n",
      "       [21]]), array([[ 2],\n",
      "       [ 6],\n",
      "       [10],\n",
      "       [14],\n",
      "       [18],\n",
      "       [22]]), array([[ 3],\n",
      "       [ 7],\n",
      "       [11],\n",
      "       [15],\n",
      "       [19],\n",
      "       [23]]), array([[ 4],\n",
      "       [ 8],\n",
      "       [12],\n",
      "       [16],\n",
      "       [20],\n",
      "       [24]])]\n"
     ]
    }
   ],
   "source": [
    "print(np.split(arr, 2))\n",
    "print(np.split(arr, 4, axis = 1))"
   ]
  },
  {
   "cell_type": "code",
   "execution_count": 68,
   "id": "afaa5a69",
   "metadata": {},
   "outputs": [
    {
     "name": "stdout",
     "output_type": "stream",
     "text": [
      "[array([[ 1,  2,  3,  4],\n",
      "       [ 5,  6,  7,  8],\n",
      "       [ 9, 10, 11, 12]]), array([[13, 14, 15, 16],\n",
      "       [17, 18, 19, 20],\n",
      "       [21, 22, 23, 24]])]\n",
      "[array([[ 1,  2],\n",
      "       [ 5,  6],\n",
      "       [ 9, 10],\n",
      "       [13, 14],\n",
      "       [17, 18],\n",
      "       [21, 22]]), array([[ 3,  4],\n",
      "       [ 7,  8],\n",
      "       [11, 12],\n",
      "       [15, 16],\n",
      "       [19, 20],\n",
      "       [23, 24]])]\n"
     ]
    }
   ],
   "source": [
    "n = 2\n",
    "print(np.split(arr, n, axis = 0))\n",
    "print(np.split(arr, n, axis = 1))"
   ]
  }
 ],
 "metadata": {
  "kernelspec": {
   "display_name": "pystudy_env",
   "language": "python",
   "name": "python3"
  },
  "language_info": {
   "codemirror_mode": {
    "name": "ipython",
    "version": 3
   },
   "file_extension": ".py",
   "mimetype": "text/x-python",
   "name": "python",
   "nbconvert_exporter": "python",
   "pygments_lexer": "ipython3",
   "version": "3.12.11"
  }
 },
 "nbformat": 4,
 "nbformat_minor": 5
}
