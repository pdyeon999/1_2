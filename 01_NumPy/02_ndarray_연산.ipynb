{
 "cells": [
  {
   "cell_type": "code",
   "execution_count": 2,
   "id": "e8621920",
   "metadata": {},
   "outputs": [],
   "source": [
    "import numpy as np"
   ]
  },
  {
   "cell_type": "markdown",
   "id": "7c52be17",
   "metadata": {},
   "source": [
    "## ndarray 연산"
   ]
  },
  {
   "cell_type": "code",
   "execution_count": 13,
   "id": "201492a3",
   "metadata": {},
   "outputs": [
    {
     "name": "stdout",
     "output_type": "stream",
     "text": [
      "[[ 1  2]\n",
      " [ 3  4]\n",
      " [ 5  6]\n",
      " [ 7  8]\n",
      " [ 9 10]]\n",
      "[[3 3]\n",
      " [3 3]\n",
      " [3 3]\n",
      " [3 3]\n",
      " [3 3]]\n"
     ]
    }
   ],
   "source": [
    "arr_a = np.arange(1, 11).reshape(5, 2)\n",
    "arr_b = np.full_like(arr_a, 3)\n",
    "print(arr_a)\n",
    "print(arr_b)"
   ]
  },
  {
   "cell_type": "code",
   "execution_count": 18,
   "id": "fb1df035",
   "metadata": {},
   "outputs": [
    {
     "name": "stdout",
     "output_type": "stream",
     "text": [
      "[[ 4  5]\n",
      " [ 6  7]\n",
      " [ 8  9]\n",
      " [10 11]\n",
      " [12 13]]\n",
      "[[-2 -1]\n",
      " [ 0  1]\n",
      " [ 2  3]\n",
      " [ 4  5]\n",
      " [ 6  7]]\n",
      "[[ 3  6]\n",
      " [ 9 12]\n",
      " [15 18]\n",
      " [21 24]\n",
      " [27 30]]\n",
      "[[0.33333333 0.66666667]\n",
      " [1.         1.33333333]\n",
      " [1.66666667 2.        ]\n",
      " [2.33333333 2.66666667]\n",
      " [3.         3.33333333]]\n"
     ]
    }
   ],
   "source": [
    "print(np.add(arr_a, arr_b))\n",
    "print(np.subtract(arr_a, arr_b))\n",
    "print(arr_a * arr_b)\n",
    "print(arr_a / arr_b)"
   ]
  },
  {
   "cell_type": "code",
   "execution_count": 19,
   "id": "c72313ce",
   "metadata": {},
   "outputs": [
    {
     "name": "stdout",
     "output_type": "stream",
     "text": [
      "[[   1    8]\n",
      " [  27   64]\n",
      " [ 125  216]\n",
      " [ 343  512]\n",
      " [ 729 1000]]\n",
      "[[0 0]\n",
      " [1 1]\n",
      " [1 2]\n",
      " [2 2]\n",
      " [3 3]]\n",
      "[[1 2]\n",
      " [0 1]\n",
      " [2 0]\n",
      " [1 2]\n",
      " [0 1]]\n"
     ]
    }
   ],
   "source": [
    "print(arr_a ** arr_b)\n",
    "print(arr_a // arr_b)\n",
    "print(arr_a % arr_b)"
   ]
  },
  {
   "cell_type": "code",
   "execution_count": 20,
   "id": "b9089b61",
   "metadata": {},
   "outputs": [
    {
     "name": "stdout",
     "output_type": "stream",
     "text": [
      "[[1.         1.41421356]\n",
      " [1.73205081 2.        ]\n",
      " [2.23606798 2.44948974]\n",
      " [2.64575131 2.82842712]\n",
      " [3.         3.16227766]]\n"
     ]
    }
   ],
   "source": [
    "print(np.sqrt(arr_a))"
   ]
  },
  {
   "cell_type": "code",
   "execution_count": null,
   "id": "5a2db266",
   "metadata": {},
   "outputs": [],
   "source": [
    "# 브로드캐스팅 연산\n",
    "\n",
    "arr_a = np.arange(1, 10).reshape(3, 3)\n",
    "\n",
    "print(arr_a * np.full((3, 3), 5))\n",
    "print(arr_a * np.array([5, 5, 5]))\n",
    "print(arr_a * np.array([5]))\n",
    "print(arr_a * 5)\n",
    "\n",
    "print(np.arange(5, 46, 5).reshape(3, 3))"
   ]
  },
  {
   "cell_type": "code",
   "execution_count": 36,
   "id": "3c79a4f3",
   "metadata": {},
   "outputs": [
    {
     "name": "stdout",
     "output_type": "stream",
     "text": [
      "[[ 6 12 18]\n",
      " [ 9 15 21]]\n"
     ]
    }
   ],
   "source": [
    "arr1 = np.array([[1, 2, 3], [4, 5, 6]])\n",
    "arr2 = np.array([5, 10, 15])\n",
    "\n",
    "print(arr1+arr2)"
   ]
  },
  {
   "cell_type": "code",
   "execution_count": null,
   "id": "36572b72",
   "metadata": {},
   "outputs": [
    {
     "name": "stdout",
     "output_type": "stream",
     "text": [
      "[[101 102 103 104]\n",
      " [204 205 206 207]]\n"
     ]
    }
   ],
   "source": [
    "arr1 = np.array([[1, 2, 3, 4], [4, 5, 6, 7]]) #(2, 4)\n",
    "arr2 = np.array([[100], [200]]) #(2, 1)\n",
    "print(arr1+arr2)"
   ]
  },
  {
   "cell_type": "code",
   "execution_count": 58,
   "id": "3cbbedec",
   "metadata": {},
   "outputs": [
    {
     "name": "stdout",
     "output_type": "stream",
     "text": [
      "[[ 5 12]\n",
      " [21 32]]\n",
      "[[19 22]\n",
      " [43 50]]\n"
     ]
    }
   ],
   "source": [
    "# 행렬 곱셈 (점곱연산 Dot Product / 내적)\n",
    "\n",
    "arr1 = np.array([[1, 2], [3, 4]])\n",
    "arr2 = np.array([[5, 6], [7, 8]])\n",
    "\n",
    "print(arr1 * arr2)\n",
    "print(np.dot(arr1, arr2))"
   ]
  },
  {
   "cell_type": "code",
   "execution_count": 60,
   "id": "00de7fc8",
   "metadata": {},
   "outputs": [
    {
     "name": "stdout",
     "output_type": "stream",
     "text": [
      "[[17]\n",
      " [39]]\n"
     ]
    }
   ],
   "source": [
    "arr2d = np.array([[1, 2], [3, 4]])\n",
    "arr1d = np.array([[5], [6]])\n",
    "print(np.dot(arr2d, arr1d))\n",
    "# [1*5 + 2*6, 3*5 + 4*6]\n",
    "# [17, 39]"
   ]
  },
  {
   "cell_type": "code",
   "execution_count": 65,
   "id": "aa2ffe3e",
   "metadata": {},
   "outputs": [
    {
     "name": "stdout",
     "output_type": "stream",
     "text": [
      "[[ 58  64]\n",
      " [139 154]]\n",
      "[[ 39  54  69]\n",
      " [ 49  68  87]\n",
      " [ 59  82 105]]\n",
      "[[ 58  64]\n",
      " [139 154]]\n"
     ]
    }
   ],
   "source": [
    "arr3 = np.array([[1, 2, 3], [4, 5, 6]])         #(2, 3)\n",
    "arr4 = np.array([[7, 8], [9, 10], [11, 12]])    #(3, 2)\n",
    "\n",
    "print(np.dot(arr3, arr4))\n",
    "print(np.dot(arr4, arr3))\n",
    "print(arr3@arr4)"
   ]
  },
  {
   "cell_type": "code",
   "execution_count": 66,
   "id": "ef70e97f",
   "metadata": {},
   "outputs": [
    {
     "name": "stdout",
     "output_type": "stream",
     "text": [
      "[[14 32]\n",
      " [32 77]]\n"
     ]
    }
   ],
   "source": [
    "arr = np.array([[1, 2, 3], [4, 5, 6]])\n",
    "\n",
    "print(arr@arr.T)"
   ]
  },
  {
   "cell_type": "code",
   "execution_count": 69,
   "id": "7365fe4f",
   "metadata": {},
   "outputs": [
    {
     "name": "stdout",
     "output_type": "stream",
     "text": [
      "[[ 58  64]\n",
      " [139 154]]\n"
     ]
    }
   ],
   "source": [
    "print(np.matmul(arr3, arr4))"
   ]
  },
  {
   "cell_type": "code",
   "execution_count": 83,
   "id": "1b4d5b26",
   "metadata": {},
   "outputs": [
    {
     "name": "stdout",
     "output_type": "stream",
     "text": [
      "[[  -1   -2]\n",
      " [-100 -200]] [[ 1.234 -5.678]\n",
      " [-7.89  10.123]] [[1 2 3]\n",
      " [4 5 6]]\n"
     ]
    }
   ],
   "source": [
    "# 연산 함수 및 집계 함수\n",
    "\n",
    "arr_negative = np.array([[-1, -2], [-100, -200]])\n",
    "arr_float = np.array([[1.234, -5.678], [-7.89, 10.123]])\n",
    "arr = np.arange(1, 7).reshape(2, 3)\n",
    "\n",
    "print(arr_negative, arr_float, arr)"
   ]
  },
  {
   "cell_type": "code",
   "execution_count": 85,
   "id": "a4fd8b31",
   "metadata": {},
   "outputs": [
    {
     "name": "stdout",
     "output_type": "stream",
     "text": [
      "[[  1   2]\n",
      " [100 200]]\n",
      "[[ 1. -6.]\n",
      " [-8. 10.]]\n",
      "[[  0. -10.]\n",
      " [-10.  10.]]\n",
      "[[ 1. -6.]\n",
      " [-8. 10.]]\n",
      "[[ 1. -5.]\n",
      " [-7. 10.]]\n"
     ]
    }
   ],
   "source": [
    "print(np.abs(arr_negative))\n",
    "print(np.round(arr_float))\n",
    "print(np.round(arr_float, -1))\n",
    "print(np.floor(arr_float))\n",
    "print(np.trunc(arr_float))"
   ]
  },
  {
   "cell_type": "code",
   "execution_count": 92,
   "id": "99305ec1",
   "metadata": {},
   "outputs": [
    {
     "name": "stdout",
     "output_type": "stream",
     "text": [
      "6\n",
      "1\n",
      "[4 5 6]\n",
      "[3 6]\n",
      "[1 2 3]\n",
      "[1 4]\n"
     ]
    }
   ],
   "source": [
    "\n",
    "print(np.max(arr))\n",
    "print(np.min(arr))\n",
    "\n",
    "print(np.max(arr, axis=0)) # 행 고정, 같은 열에서 가장 큰 값\n",
    "print(np.max(arr, axis=1))\n",
    "print(np.min(arr, axis=0))\n",
    "print(np.min(arr, axis=1))"
   ]
  },
  {
   "cell_type": "code",
   "execution_count": 95,
   "id": "bc20891e",
   "metadata": {},
   "outputs": [
    {
     "name": "stdout",
     "output_type": "stream",
     "text": [
      "[5 7 9]\n",
      "[ 6 15]\n"
     ]
    }
   ],
   "source": [
    "print(np.sum(arr, axis=0))\n",
    "print(np.sum(arr, axis=1))"
   ]
  },
  {
   "cell_type": "code",
   "execution_count": 97,
   "id": "da798195",
   "metadata": {},
   "outputs": [
    {
     "name": "stdout",
     "output_type": "stream",
     "text": [
      "[2.5 3.5 4.5]\n"
     ]
    }
   ],
   "source": [
    "print(np.mean(arr, axis=0))"
   ]
  }
 ],
 "metadata": {
  "kernelspec": {
   "display_name": "pystudy_env",
   "language": "python",
   "name": "python3"
  },
  "language_info": {
   "codemirror_mode": {
    "name": "ipython",
    "version": 3
   },
   "file_extension": ".py",
   "mimetype": "text/x-python",
   "name": "python",
   "nbconvert_exporter": "python",
   "pygments_lexer": "ipython3",
   "version": "3.12.11"
  }
 },
 "nbformat": 4,
 "nbformat_minor": 5
}
