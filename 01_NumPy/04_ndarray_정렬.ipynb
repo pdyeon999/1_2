{
 "cells": [
  {
   "cell_type": "code",
   "execution_count": 1,
   "id": "e7d455a3",
   "metadata": {},
   "outputs": [],
   "source": [
    "import numpy as np"
   ]
  },
  {
   "cell_type": "code",
   "execution_count": 18,
   "id": "21b8ea91",
   "metadata": {},
   "outputs": [
    {
     "name": "stdout",
     "output_type": "stream",
     "text": [
      "[ 6  9  4 10  7  1  2 10  9  9]\n",
      "[ 1  2  4  6  7  9  9  9 10 10]\n"
     ]
    }
   ],
   "source": [
    "arr = np.random.randint(1, 11, 10)\n",
    "print(arr)\n",
    "\n",
    "print(np.sort(arr))"
   ]
  },
  {
   "cell_type": "code",
   "execution_count": 28,
   "id": "d31fcf20",
   "metadata": {},
   "outputs": [
    {
     "name": "stdout",
     "output_type": "stream",
     "text": [
      "[[1 2 6 8]\n",
      " [3 5 8 9]\n",
      " [4 4 5 8]]\n"
     ]
    }
   ],
   "source": [
    "arr = np.random.randint(1, 10, (3, 4))\n",
    "print(np.sort(arr))"
   ]
  },
  {
   "cell_type": "code",
   "execution_count": 32,
   "id": "963a9d7e",
   "metadata": {},
   "outputs": [
    {
     "name": "stdout",
     "output_type": "stream",
     "text": [
      "[[2 5 3 1]\n",
      " [5 6 4 4]\n",
      " [8 8 8 9]]\n",
      "[[1 2 6 8]\n",
      " [3 5 8 9]\n",
      " [4 4 5 8]]\n",
      "[1 2 3 4 4 5 5 6 8 8 8 9]\n"
     ]
    }
   ],
   "source": [
    "print(np.sort(arr, axis=0))\n",
    "print(np.sort(arr, axis=1))\n",
    "print(np.sort(arr, axis=None))"
   ]
  },
  {
   "cell_type": "code",
   "execution_count": 33,
   "id": "8f1aeb2e",
   "metadata": {},
   "outputs": [
    {
     "name": "stdout",
     "output_type": "stream",
     "text": [
      "[0 2 3 1]\n",
      "[100 200 300 400]\n"
     ]
    }
   ],
   "source": [
    "arr = np.array([100, 400, 200, 300])\n",
    "print(np.argsort(arr))\n",
    "print(np.sort(arr))"
   ]
  },
  {
   "cell_type": "code",
   "execution_count": 38,
   "id": "2376bec7",
   "metadata": {},
   "outputs": [
    {
     "name": "stdout",
     "output_type": "stream",
     "text": [
      "['제니' '리사' '로제' '지수']\n"
     ]
    }
   ],
   "source": [
    "names = np.array(['리사', '로제', '제니', '지수'])\n",
    "album_sales = np.array([900, 870, 1000, 670])\n",
    "\n",
    "ind = np.argsort(album_sales)[::-1]\n",
    "\n",
    "print(names[ind])"
   ]
  },
  {
   "cell_type": "code",
   "execution_count": 42,
   "id": "c3e9f2f8",
   "metadata": {},
   "outputs": [
    {
     "name": "stdout",
     "output_type": "stream",
     "text": [
      "[[1 0 0]\n",
      " [0 1 1]]\n",
      "[[2 1 0]\n",
      " [0 1 2]]\n"
     ]
    }
   ],
   "source": [
    "arr = np.array([[2025, 9, 8], [17, 30, 40]])\n",
    "print(np.argsort(arr, axis=0))\n",
    "print(np.argsort(arr))"
   ]
  }
 ],
 "metadata": {
  "kernelspec": {
   "display_name": "pystudy_env",
   "language": "python",
   "name": "python3"
  },
  "language_info": {
   "codemirror_mode": {
    "name": "ipython",
    "version": 3
   },
   "file_extension": ".py",
   "mimetype": "text/x-python",
   "name": "python",
   "nbconvert_exporter": "python",
   "pygments_lexer": "ipython3",
   "version": "3.12.11"
  }
 },
 "nbformat": 4,
 "nbformat_minor": 5
}
