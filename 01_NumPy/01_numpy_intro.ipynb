{
 "cells": [
  {
   "cell_type": "markdown",
   "id": "72663a86",
   "metadata": {},
   "source": [
    "# data science"
   ]
  },
  {
   "cell_type": "code",
   "execution_count": 27,
   "id": "b18d3812",
   "metadata": {},
   "outputs": [
    {
     "name": "stdout",
     "output_type": "stream",
     "text": [
      "Package                   Version\n",
      "------------------------- --------------\n",
      "altair                    5.5.0\n",
      "anyio                     4.10.0\n",
      "argon2-cffi               25.1.0\n",
      "argon2-cffi-bindings      25.1.0\n",
      "arrow                     1.3.0\n",
      "asttokens                 3.0.0\n",
      "async-lru                 2.0.5\n",
      "attrs                     25.3.0\n",
      "babel                     2.17.0\n",
      "beautifulsoup4            4.13.4\n",
      "bleach                    6.2.0\n",
      "blinker                   1.9.0\n",
      "cachetools                6.2.0\n",
      "certifi                   2025.8.3\n",
      "cffi                      1.17.1\n",
      "charset-normalizer        3.4.3\n",
      "click                     8.2.1\n",
      "colorama                  0.4.6\n",
      "comm                      0.2.3\n",
      "contourpy                 1.3.3\n",
      "cycler                    0.12.1\n",
      "debugpy                   1.8.16\n",
      "decorator                 5.2.1\n",
      "defusedxml                0.7.1\n",
      "et_xmlfile                2.0.0\n",
      "executing                 2.2.0\n",
      "fastjsonschema            2.21.2\n",
      "fonttools                 4.59.1\n",
      "fqdn                      1.5.1\n",
      "gitdb                     4.0.12\n",
      "GitPython                 3.1.45\n",
      "greenlet                  3.2.4\n",
      "h11                       0.16.0\n",
      "httpcore                  1.0.9\n",
      "httpx                     0.28.1\n",
      "idna                      3.10\n",
      "ipykernel                 6.30.1\n",
      "ipython                   9.4.0\n",
      "ipython_pygments_lexers   1.1.1\n",
      "ipywidgets                8.1.7\n",
      "isoduration               20.11.0\n",
      "jedi                      0.19.2\n",
      "Jinja2                    3.1.6\n",
      "json5                     0.12.1\n",
      "jsonpointer               3.0.0\n",
      "jsonschema                4.25.0\n",
      "jsonschema-specifications 2025.4.1\n",
      "jupyter                   1.1.1\n",
      "jupyter_client            8.6.3\n",
      "jupyter-console           6.6.3\n",
      "jupyter_core              5.8.1\n",
      "jupyter-events            0.12.0\n",
      "jupyter-lsp               2.2.6\n",
      "jupyter_server            2.16.0\n",
      "jupyter_server_terminals  0.5.3\n",
      "jupyterlab                4.4.6\n",
      "jupyterlab_pygments       0.3.0\n",
      "jupyterlab_server         2.27.3\n",
      "jupyterlab_widgets        3.0.15\n",
      "kiwisolver                1.4.9\n",
      "lark                      1.2.2\n",
      "MarkupSafe                3.0.2\n",
      "matplotlib                3.10.5\n",
      "matplotlib-inline         0.1.7\n",
      "mistune                   3.1.3\n",
      "mysql-connector-python    9.4.0\n",
      "narwhals                  2.2.0\n",
      "nbclient                  0.10.2\n",
      "nbconvert                 7.16.6\n",
      "nbformat                  5.10.4\n",
      "nest-asyncio              1.6.0\n",
      "notebook                  7.4.5\n",
      "notebook_shim             0.2.4\n",
      "npm                       0.1.1\n",
      "numpy                     2.3.2\n",
      "openpyxl                  3.1.5\n",
      "optional-django           0.1.0\n",
      "outcome                   1.3.0.post0\n",
      "overrides                 7.7.0\n",
      "packaging                 25.0\n",
      "pandas                    2.3.2\n",
      "pandocfilters             1.5.1\n",
      "parso                     0.8.4\n",
      "pillow                    11.3.0\n",
      "pip                       25.1\n",
      "platformdirs              4.3.8\n",
      "plotly                    6.3.0\n",
      "prometheus_client         0.22.1\n",
      "prompt_toolkit            3.0.51\n",
      "protobuf                  6.32.0\n",
      "psutil                    7.0.0\n",
      "pure_eval                 0.2.3\n",
      "pyarrow                   21.0.0\n",
      "pycparser                 2.22\n",
      "pydeck                    0.9.1\n",
      "Pygments                  2.19.2\n",
      "PyMySQL                   1.1.2\n",
      "pyparsing                 3.2.3\n",
      "PySocks                   1.7.1\n",
      "python-dateutil           2.9.0.post0\n",
      "python-dotenv             1.1.1\n",
      "python-json-logger        3.3.0\n",
      "pytz                      2025.2\n",
      "pywin32                   311\n",
      "pywinpty                  3.0.0\n",
      "PyYAML                    6.0.2\n",
      "pyzmq                     27.0.1\n",
      "referencing               0.36.2\n",
      "requests                  2.32.4\n",
      "rfc3339-validator         0.1.4\n",
      "rfc3986-validator         0.1.1\n",
      "rfc3987-syntax            1.1.0\n",
      "rpds-py                   0.27.0\n",
      "selenium                  4.35.0\n",
      "Send2Trash                1.8.3\n",
      "setuptools                78.1.1\n",
      "six                       1.17.0\n",
      "smmap                     5.0.2\n",
      "sniffio                   1.3.1\n",
      "sortedcontainers          2.4.0\n",
      "soupsieve                 2.7\n",
      "SQLAlchemy                2.0.43\n",
      "stack-data                0.6.3\n",
      "streamlit                 1.48.1\n",
      "tenacity                  9.1.2\n",
      "terminado                 0.18.1\n",
      "tinycss2                  1.4.0\n",
      "toml                      0.10.2\n",
      "tornado                   6.5.2\n",
      "traitlets                 5.14.3\n",
      "trio                      0.30.0\n",
      "trio-websocket            0.12.2\n",
      "types-python-dateutil     2.9.0.20250809\n",
      "typing_extensions         4.14.1\n",
      "tzdata                    2025.2\n",
      "uri-template              1.3.0\n",
      "urllib3                   2.5.0\n",
      "watchdog                  6.0.0\n",
      "wcwidth                   0.2.13\n",
      "webcolors                 24.11.1\n",
      "webencodings              0.5.1\n",
      "websocket-client          1.8.0\n",
      "wheel                     0.45.1\n",
      "widgetsnbextension        4.0.14\n",
      "wsproto                   1.2.0\n"
     ]
    }
   ],
   "source": [
    "!pip list"
   ]
  },
  {
   "cell_type": "code",
   "execution_count": 2,
   "id": "481d450e",
   "metadata": {},
   "outputs": [],
   "source": [
    "# ndarray: 다차원 배열 생성\n",
    "import numpy as np"
   ]
  },
  {
   "cell_type": "code",
   "execution_count": 29,
   "id": "618ebf1a",
   "metadata": {},
   "outputs": [
    {
     "name": "stdout",
     "output_type": "stream",
     "text": [
      "[1 2 3 4 5] <class 'numpy.ndarray'> [2025, 9, 5, 11, 21]\n"
     ]
    }
   ],
   "source": [
    "arr = np.array([2025, 9, 5, 11, 21])\n",
    "today_arr = [2025, 9, 5, 11, 21]\n",
    "arr = np.array((1,2,3,4,5))\n",
    "print(arr, type(arr), today_arr)"
   ]
  },
  {
   "cell_type": "code",
   "execution_count": 30,
   "id": "41e4d38f",
   "metadata": {},
   "outputs": [
    {
     "name": "stdout",
     "output_type": "stream",
     "text": [
      "(3,)\n",
      "1\n",
      "3\n",
      "int64\n"
     ]
    }
   ],
   "source": [
    "arr = np.array([1, 2, 3])\n",
    "print(arr.shape)\n",
    "print(arr.ndim)\n",
    "print(arr.size)\n",
    "print(arr.dtype)"
   ]
  },
  {
   "cell_type": "code",
   "execution_count": 31,
   "id": "a74be6f7",
   "metadata": {},
   "outputs": [
    {
     "name": "stdout",
     "output_type": "stream",
     "text": [
      "[[1 2 3]\n",
      " [4 5 6]] <class 'numpy.ndarray'>\n",
      "(2, 3)\n",
      "2\n",
      "6\n",
      "int64\n"
     ]
    }
   ],
   "source": [
    "arr_2d = np.array([[1, 2, 3],[4, 5, 6]])\n",
    "print(arr_2d, type(arr_2d))\n",
    "print(arr_2d.shape)\n",
    "print(arr_2d.ndim)\n",
    "print(arr_2d.size)\n",
    "print(arr_2d.dtype)"
   ]
  },
  {
   "cell_type": "code",
   "execution_count": 32,
   "id": "79ada6d5",
   "metadata": {},
   "outputs": [
    {
     "name": "stdout",
     "output_type": "stream",
     "text": [
      "int64\n",
      "float64\n",
      "bool\n",
      "<U2\n"
     ]
    }
   ],
   "source": [
    "arr_int = np.array([2025,9,5])\n",
    "print(arr_int.dtype)\n",
    "\n",
    "arr_float = np.array([2025.1,9.1,5.1])\n",
    "print(arr_float.dtype)\n",
    "\n",
    "arr_vool = np.array([True, False, True])\n",
    "print(arr_vool.dtype)\n",
    "\n",
    "arr_str = np.array(['나','는','너야'])\n",
    "print(arr_str.dtype)"
   ]
  },
  {
   "cell_type": "code",
   "execution_count": 33,
   "id": "e93cc062",
   "metadata": {},
   "outputs": [
    {
     "name": "stdout",
     "output_type": "stream",
     "text": [
      "[2025    9    5]\n",
      "[2025.1    9.1    5.9] float64\n"
     ]
    }
   ],
   "source": [
    "arr = np.array([2025.1,9.1,5.9])\n",
    "print(arr.astype(int))\n",
    "\n",
    "print(arr, arr.dtype)"
   ]
  },
  {
   "cell_type": "code",
   "execution_count": 34,
   "id": "97a4d955",
   "metadata": {},
   "outputs": [
    {
     "name": "stdout",
     "output_type": "stream",
     "text": [
      "[[0. 0. 0.]\n",
      " [0. 0. 0.]] float64\n",
      "[[1. 1. 1.]\n",
      " [1. 1. 1.]] float64\n",
      "[['나' '나' '나']\n",
      " ['나' '나' '나']] <U1\n"
     ]
    }
   ],
   "source": [
    "arr = np.zeros([2, 3])\n",
    "print(arr, arr.dtype)\n",
    "\n",
    "arr_one = np.ones([2, 3])\n",
    "print(arr_one, arr_one.dtype)\n",
    "\n",
    "arr_full = np.full((2, 3), \"나\")\n",
    "print(arr_full, arr_full.dtype)"
   ]
  },
  {
   "cell_type": "code",
   "execution_count": 35,
   "id": "67d01db9",
   "metadata": {},
   "outputs": [
    {
     "name": "stdout",
     "output_type": "stream",
     "text": [
      "(2, 3)\n",
      "[[0 0 0]\n",
      " [0 0 0]]\n",
      "[[1 1 1]\n",
      " [1 1 1]]\n",
      "[[9 9 9]\n",
      " [9 9 9]]\n"
     ]
    }
   ],
   "source": [
    "arr = np.array([[10, 20, 4], [30, 40, 1]])\n",
    "print(arr.shape)\n",
    "\n",
    "print(np.zeros_like(arr))\n",
    "print(np.ones_like(arr))\n",
    "print(np.full_like(arr, 9))"
   ]
  },
  {
   "cell_type": "code",
   "execution_count": 36,
   "id": "02e05cfe",
   "metadata": {},
   "outputs": [
    {
     "name": "stdout",
     "output_type": "stream",
     "text": [
      "[ 0  5 10 15]\n"
     ]
    }
   ],
   "source": [
    "print(np.arange(0, 20, 5))"
   ]
  },
  {
   "cell_type": "code",
   "execution_count": 37,
   "id": "18ce2153",
   "metadata": {},
   "outputs": [
    {
     "name": "stdout",
     "output_type": "stream",
     "text": [
      "[0.         0.01020408 0.02040816 0.03061224 0.04081633 0.05102041\n",
      " 0.06122449 0.07142857 0.08163265 0.09183673 0.10204082 0.1122449\n",
      " 0.12244898 0.13265306 0.14285714 0.15306122 0.16326531 0.17346939\n",
      " 0.18367347 0.19387755 0.20408163 0.21428571 0.2244898  0.23469388\n",
      " 0.24489796 0.25510204 0.26530612 0.2755102  0.28571429 0.29591837\n",
      " 0.30612245 0.31632653 0.32653061 0.33673469 0.34693878 0.35714286\n",
      " 0.36734694 0.37755102 0.3877551  0.39795918 0.40816327 0.41836735\n",
      " 0.42857143 0.43877551 0.44897959 0.45918367 0.46938776 0.47959184\n",
      " 0.48979592 0.5       ]\n"
     ]
    }
   ],
   "source": [
    "print(np.linspace(0, 0.5))"
   ]
  },
  {
   "cell_type": "code",
   "execution_count": 38,
   "id": "5d1e6929",
   "metadata": {},
   "outputs": [
    {
     "name": "stdout",
     "output_type": "stream",
     "text": [
      "[  10.           31.6227766   100.          316.22776602 1000.        ]\n"
     ]
    }
   ],
   "source": [
    "print(np.logspace(1, 3, 5, .2))"
   ]
  },
  {
   "cell_type": "markdown",
   "id": "6c5f74c5",
   "metadata": {},
   "source": [
    "---"
   ]
  },
  {
   "cell_type": "code",
   "execution_count": 58,
   "id": "f2e7fc64",
   "metadata": {},
   "outputs": [
    {
     "name": "stdout",
     "output_type": "stream",
     "text": [
      "[[1 2 3]\n",
      " [4 5 6]]\n",
      "(2, 3)\n",
      "3 3 3\n"
     ]
    }
   ],
   "source": [
    "# indexing and slicing\n",
    "arr_2d = np.array([[1, 2, 3], [4, 5, 6]])\n",
    "\n",
    "print(arr_2d)\n",
    "print(arr_2d.shape)\n",
    "print(arr_2d[0][2], arr_2d[0, 2], arr_2d[(0, 2)])\n",
    "\n"
   ]
  },
  {
   "cell_type": "code",
   "execution_count": 63,
   "id": "8b25fec6",
   "metadata": {},
   "outputs": [
    {
     "name": "stdout",
     "output_type": "stream",
     "text": [
      "44\n",
      "88\n",
      "88\n"
     ]
    }
   ],
   "source": [
    "arr = np.array([[11, 22, 33], [44, 55, 66], [77, 88, 99]])\n",
    "\n",
    "print(arr[1, 0])  #44\n",
    "print(arr[2, 1])  #88\n",
    "print(arr[-1, -2])  #88 (음수 인덱스 활용)"
   ]
  },
  {
   "cell_type": "code",
   "execution_count": 73,
   "id": "40584d4c",
   "metadata": {},
   "outputs": [
    {
     "name": "stdout",
     "output_type": "stream",
     "text": [
      "[3 4 5 6 7]\n",
      "[1 3 5 7 9]\n",
      "[ 5  6  7  8  9 10]\n",
      "[1 2 3 4 5 6 7]\n",
      "[10  9  8  7  6  5  4  3  2  1]\n"
     ]
    }
   ],
   "source": [
    "arr = np.arange(1, 11)\n",
    "\n",
    "print(arr[2:7])          #[3 4 5 6 7]\n",
    "print(arr[::2])          #[1 3 5 7 9]\n",
    "print(arr[4::])          #[5, 6, 7, 8, 9, 10]\n",
    "print(arr[:7:])          #[1, 2, 3, 4, 5, 6, 7]\n",
    "print(arr[::-1])         #[10, 9, 8, 7, 6, 5, 4, 3, 2, 1]\n"
   ]
  },
  {
   "cell_type": "markdown",
   "id": "539b151d",
   "metadata": {},
   "source": [
    "# 2차원 배열 슬라이싱"
   ]
  },
  {
   "cell_type": "code",
   "execution_count": 24,
   "id": "0fef21be",
   "metadata": {},
   "outputs": [
    {
     "name": "stdout",
     "output_type": "stream",
     "text": [
      "[[1 2 3]\n",
      " [4 5 6]]\n",
      "[[2 3]\n",
      " [5 6]\n",
      " [8 9]]\n",
      "[[1]\n",
      " [4]]\n",
      "[[1]\n",
      " [4]]\n"
     ]
    }
   ],
   "source": [
    "arr = np.array([[1, 2, 3], [4, 5, 6], [7, 8, 9]])\n",
    "\n",
    "print(arr[0:2])\n",
    "print(arr[:, 1:3])\n",
    "print(arr[:-1, 0:1])\n",
    "print(arr[:-1, :1])"
   ]
  },
  {
   "cell_type": "code",
   "execution_count": 25,
   "id": "e0ee56f1",
   "metadata": {},
   "outputs": [
    {
     "name": "stdout",
     "output_type": "stream",
     "text": [
      "[10 20 30]\n"
     ]
    }
   ],
   "source": [
    "arr = np.arange(5, 31, 5)\n",
    "print(arr[[1, 3, 5]])"
   ]
  },
  {
   "cell_type": "code",
   "execution_count": 26,
   "id": "92fda3f6",
   "metadata": {},
   "outputs": [
    {
     "name": "stdout",
     "output_type": "stream",
     "text": [
      "[10 35]\n",
      "(3, 4)\n",
      "[25 55]\n"
     ]
    }
   ],
   "source": [
    "arr = np.array([[5, 10, 15, 20], [25, 30, 35, 40],[45, 50, 55, 60]])\n",
    "\n",
    "print(arr[[0, 1], [1, 2]])\n",
    "print(arr.shape)\n",
    "print(arr[[1, 2], [0, 2]])"
   ]
  },
  {
   "cell_type": "code",
   "execution_count": 27,
   "id": "692c1298",
   "metadata": {},
   "outputs": [
    {
     "name": "stdout",
     "output_type": "stream",
     "text": [
      "[1 5]\n",
      "[4 5]\n"
     ]
    }
   ],
   "source": [
    "# 불리언 인덱싱\n",
    "\n",
    "arr=np.arange(1, 6)\n",
    "bools = [True, False, False, False, True]\n",
    "print(arr[bools])\n",
    "print(arr[arr>3])\n"
   ]
  },
  {
   "cell_type": "code",
   "execution_count": 28,
   "id": "0616cfa9",
   "metadata": {},
   "outputs": [
    {
     "name": "stdout",
     "output_type": "stream",
     "text": [
      "[5 6 7 8 9]\n"
     ]
    }
   ],
   "source": [
    "arr=np.array([[1, 2, 3], [4, 5, 6], [7, 8, 9]])\n",
    "\n",
    "print(arr[arr>4])"
   ]
  },
  {
   "cell_type": "markdown",
   "id": "09cc1974",
   "metadata": {},
   "source": [
    "--------------"
   ]
  },
  {
   "cell_type": "code",
   "execution_count": 31,
   "id": "a4d63201",
   "metadata": {},
   "outputs": [
    {
     "name": "stdout",
     "output_type": "stream",
     "text": [
      "False\n",
      "False\n"
     ]
    }
   ],
   "source": [
    "arr = np.array([10, 20, 30, 40, 50])\n",
    "\n",
    "print(np.all(arr<0))\n",
    "print(np.any(arr<0))"
   ]
  }
 ],
 "metadata": {
  "kernelspec": {
   "display_name": "pystudy_env",
   "language": "python",
   "name": "python3"
  },
  "language_info": {
   "codemirror_mode": {
    "name": "ipython",
    "version": 3
   },
   "file_extension": ".py",
   "mimetype": "text/x-python",
   "name": "python",
   "nbconvert_exporter": "python",
   "pygments_lexer": "ipython3",
   "version": "3.12.11"
  }
 },
 "nbformat": 4,
 "nbformat_minor": 5
}
