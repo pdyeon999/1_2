{
 "cells": [
  {
   "cell_type": "markdown",
   "id": "be5b4059",
   "metadata": {},
   "source": [
    "### 차원 축소\n",
    "![PCA-LDA](https://d.pr/i/hI0WaD+)"
   ]
  }
 ],
 "metadata": {
  "kernelspec": {
   "display_name": "ml_env",
   "language": "python",
   "name": "python3"
  },
  "language_info": {
   "name": "python",
   "version": "3.12.11"
  }
 },
 "nbformat": 4,
 "nbformat_minor": 5
}
