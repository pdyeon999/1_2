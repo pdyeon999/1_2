{
 "cells": [
  {
   "cell_type": "markdown",
   "id": "7ea41f80",
   "metadata": {},
   "source": [
    "## Numpy: basis 실습\n",
    "\n",
    "1. 크기가 4x3인 모든 값이 0인 배열\n",
    "2. 크기가 3x3인 모든 값이 1인 배열\n",
    "3. 0에서 20까지 5씩 증가하는 값으로 구성된 배열\n",
    "4. 0과 1 사이의 4개의 등간격 값을 가진 배열\n",
    "5. *크기가 2x2인 정규 분포로 구성된 배열*"
   ]
  },
  {
   "cell_type": "code",
   "execution_count": 2,
   "id": "336f6ff7",
   "metadata": {},
   "outputs": [],
   "source": [
    "import numpy as np\n",
    "import random"
   ]
  },
  {
   "cell_type": "code",
   "execution_count": null,
   "id": "2e01cb7c",
   "metadata": {},
   "outputs": [
    {
     "name": "stdout",
     "output_type": "stream",
     "text": [
      "[[0. 0. 0.]\n",
      " [0. 0. 0.]\n",
      " [0. 0. 0.]\n",
      " [0. 0. 0.]]\n",
      "[[1. 1. 1.]\n",
      " [1. 1. 1.]\n",
      " [1. 1. 1.]]\n",
      "[ 0  5 10 15 20]\n",
      "[0.         0.33333333 0.66666667 1.        ]\n",
      "[[-0.74846688  0.60617425]\n",
      " [-0.08418266  0.64083887]]\n",
      "[[  8.14754223   6.21519127]\n",
      " [  7.66495532 -16.06621421]]\n"
     ]
    }
   ],
   "source": [
    "\n",
    "arr1 = np.zeros((4, 3))\n",
    "arr2 = np.ones((3, 3))\n",
    "arr3 = np.arange(0, 21, 5)\n",
    "arr4 = np.linspace(0, 1, 4)\n",
    "arr5 = np.random.randn(2,2)\n",
    "arr6 = np.random.normal(loc=5, scale=10, size=(2, 2))\n",
    "\n",
    "print(arr1)\n",
    "print(arr2)\n",
    "print(arr3)\n",
    "print(arr4)\n",
    "print(arr5)\n",
    "print(arr6)"
   ]
  },
  {
   "cell_type": "markdown",
   "id": "4458046b",
   "metadata": {},
   "source": [
    "---"
   ]
  },
  {
   "cell_type": "code",
   "execution_count": null,
   "id": "5013de40",
   "metadata": {},
   "outputs": [
    {
     "name": "stdout",
     "output_type": "stream",
     "text": [
      "[[0. 0. 0.]\n",
      " [0. 0. 0.]\n",
      " [0. 0. 0.]\n",
      " [0. 0. 0.]]\n",
      "[[1. 1. 1.]\n",
      " [1. 1. 1.]\n",
      " [1. 1. 1.]]\n",
      "[ 0  5 10 15 20]\n",
      "[0.         0.33333333 0.66666667 1.        ]\n",
      "[[ 0.29661005 -1.57842944]\n",
      " [-0.27193189 -0.0661957 ]]\n"
     ]
    }
   ],
   "source": [
    "# NumPy basic 실습\n",
    "#실습\n",
    "\n",
    "#1\n",
    "print(np.zeros((4, 3)))\n",
    "#2\n",
    "print(np.ones((3, 3)))\n",
    "#3\n",
    "print(np.arange(0, 21, 5))\n",
    "#4\n",
    "print(np.linspace(0, 1, 4))\n",
    "#5\n",
    "print(np.random.randn(2, 2))"
   ]
  },
  {
   "cell_type": "code",
   "execution_count": 15,
   "id": "be456858",
   "metadata": {},
   "outputs": [
    {
     "name": "stdout",
     "output_type": "stream",
     "text": [
      "60\n",
      "[10 40 70]\n",
      "[[40 50]\n",
      " [70 80]]\n"
     ]
    }
   ],
   "source": [
    "#실습1\n",
    "\n",
    "arr = np.array([[10, 20, 30], [40, 50, 60], [70, 80, 90]])\n",
    "\n",
    "#1\n",
    "print(arr[1, 2])\n",
    "#2\n",
    "print(arr[:, 0])\n",
    "#3\n",
    "print(arr[1:3, :2])"
   ]
  },
  {
   "cell_type": "code",
   "execution_count": 5,
   "id": "dfff2e33",
   "metadata": {},
   "outputs": [
    {
     "name": "stdout",
     "output_type": "stream",
     "text": [
      "[10 30 50]\n",
      "[60 70]\n"
     ]
    }
   ],
   "source": [
    "#실습2\n",
    "\n",
    "arr = np.array([10, 20, 30, 40, 50, 60, 70])\n",
    "\n",
    "#1\n",
    "print(arr[[0, 2, 4]])\n",
    "print(arr[arr>50])"
   ]
  },
  {
   "cell_type": "code",
   "execution_count": null,
   "id": "8a130fbb",
   "metadata": {},
   "outputs": [
    {
     "name": "stdout",
     "output_type": "stream",
     "text": [
      "[200 220 300 320 310]\n",
      "[[120 150]\n",
      " [ 50  45]]\n",
      "[[120 150]\n",
      " [ 50  45]]\n",
      "[[120 150 100]\n",
      " [200 180 220]\n",
      " [300 320 310]]\n",
      "[[120 150 100]\n",
      " [200 180 220]\n",
      " [300 320 310]]\n"
     ]
    }
   ],
   "source": [
    "#실습3\n",
    "\n",
    "sales = np.array([[120, 150, 100],\n",
    "                  [80, 90, 110],\n",
    "                  [200, 180, 220],\n",
    "                  [50, 45, 70],\n",
    "                  [300, 320, 310]])\n",
    "\n",
    "#1\n",
    "print(sales[sales >= 200])\n",
    "\n",
    "\n",
    "#2\n",
    "list1 = []\n",
    "for tf in sales[:, 2:3]<=100:\n",
    "    list1.append(bool(tf))\n",
    "# 각 열의 T, F 저장\n",
    "print(sales[list1][:, 0:2])\n",
    "#or\n",
    "print(sales[sales[:, 2]<=100][:, 0:2])\n",
    "\n",
    "#3\n",
    "list2 = []\n",
    "for tf in sales[:, 1:2]>=150:\n",
    "    list2.append(bool(tf))\n",
    "print(sales[list2])\n",
    "#or\n",
    "print(sales[sales[:, 1]>=150])"
   ]
  },
  {
   "cell_type": "markdown",
   "id": "7bd8b024",
   "metadata": {},
   "source": [
    "---"
   ]
  },
  {
   "cell_type": "code",
   "execution_count": null,
   "id": "dfc8218f",
   "metadata": {},
   "outputs": [],
   "source": [
    "#numpy 연산 실습"
   ]
  },
  {
   "cell_type": "code",
   "execution_count": 11,
   "id": "a260c0ea",
   "metadata": {},
   "outputs": [
    {
     "name": "stdout",
     "output_type": "stream",
     "text": [
      "[420 640 330 820]\n",
      "[210. 320. 165. 410.]\n"
     ]
    }
   ],
   "source": [
    "#실습\n",
    "\n",
    "sales_1 = np.array([200, 340, 150, 400])\n",
    "sales_2 = np.array([220, 300, 180, 420])\n",
    "\n",
    "sales = np.add(sales_1, sales_2)\n",
    "print(sales)\n",
    "print(np.divide(sales, 2))"
   ]
  },
  {
   "cell_type": "code",
   "execution_count": 12,
   "id": "1cc23f03",
   "metadata": {},
   "outputs": [
    {
     "name": "stdout",
     "output_type": "stream",
     "text": [
      "[11 22 33 44]\n",
      "[ 9 18 27 36]\n",
      "[ 10  40  90 160]\n",
      "[10. 10. 10. 10.]\n"
     ]
    }
   ],
   "source": [
    "#실습1\n",
    "arr1 = np.array([10, 20, 30, 40])\n",
    "arr2 = np.array([1, 2, 3, 4])\n",
    "\n",
    "print(np.add(arr1, arr2))\n",
    "print(np.subtract(arr1, arr2))\n",
    "print(np.multiply(arr1, arr2))\n",
    "print(np.divide(arr1, arr2))"
   ]
  },
  {
   "cell_type": "code",
   "execution_count": 25,
   "id": "c98a581f",
   "metadata": {},
   "outputs": [
    {
     "name": "stdout",
     "output_type": "stream",
     "text": [
      "32\n"
     ]
    }
   ],
   "source": [
    "#실습2\n",
    "arr1 = np.array([1, 2, 3])\n",
    "arr2 = np.array([4, 5, 6])\n",
    "\n",
    "print(arr1@arr2)"
   ]
  },
  {
   "cell_type": "code",
   "execution_count": 26,
   "id": "1acf8efe",
   "metadata": {},
   "outputs": [
    {
     "name": "stdout",
     "output_type": "stream",
     "text": [
      "[[11 22 33]\n",
      " [14 25 36]]\n"
     ]
    }
   ],
   "source": [
    "#실습3\n",
    "arr2d = np.array([[1, 2, 3], [4, 5, 6]])\n",
    "arr1d = np.array([10, 20, 30])\n",
    "\n",
    "print(arr2d+arr1d)"
   ]
  },
  {
   "cell_type": "markdown",
   "id": "106cf5d5",
   "metadata": {},
   "source": [
    "---"
   ]
  },
  {
   "cell_type": "code",
   "execution_count": null,
   "id": "59beeef5",
   "metadata": {},
   "outputs": [],
   "source": [
    "# Numpy 통계 실습"
   ]
  },
  {
   "cell_type": "code",
   "execution_count": null,
   "id": "2763ff68",
   "metadata": {},
   "outputs": [
    {
     "name": "stdout",
     "output_type": "stream",
     "text": [
      "평균:  34.285714285714285\n",
      "중앙값:  30.0\n",
      "최빈값:  [30]\n",
      "253.06122448979593\n",
      "15.90789817951435\n",
      "50\n"
     ]
    }
   ],
   "source": [
    "# 실습 1 중심 경향 및 산포 측도 계산\n",
    "arr = np.array([10, 20, 30, 30, 40, 50, 60])\n",
    "\n",
    "print(\"평균: \", arr.mean())\n",
    "print(\"중앙값: \", np.median(arr))\n",
    "\n",
    "values, count = np.unique(arr, return_counts=True)\n",
    "print(\"최빈값: \", values[count == max(count)])\n",
    "print(arr.var())\n",
    "print(arr.std())\n",
    "print(arr.max()-arr.min())\n"
   ]
  },
  {
   "cell_type": "code",
   "execution_count": 18,
   "id": "a6686157",
   "metadata": {},
   "outputs": [
    {
     "name": "stdout",
     "output_type": "stream",
     "text": [
      "-0.013014314346775916 0.9801951009139043\n",
      "0.5 0.2889639542114209\n"
     ]
    }
   ],
   "source": [
    "# 실습 2 정규분포와 균등분포의 난수 생성\n",
    "\n",
    "arr1 = np.random.randn(1000)\n",
    "arr2 = np.linspace(0, 1, 1000)\n",
    "\n",
    "print(arr1.mean(), arr1.std())\n",
    "print(arr2.mean(), arr2.std())"
   ]
  },
  {
   "cell_type": "code",
   "execution_count": 24,
   "id": "8dc0b11d",
   "metadata": {},
   "outputs": [
    {
     "name": "stdout",
     "output_type": "stream",
     "text": [
      "11.89333333333335 3.4486712417006857\n"
     ]
    }
   ],
   "source": [
    "# 실습3 평균 성적 구하기\n",
    "\n",
    "# 학생별 과목 성적 데이터\n",
    "scores_math = [88, 92, 76, 85, 95, 92, 88, 90, 85, 88]\n",
    "scores_english = [90, 85, 80, 87, 92, 89, 83, 91, 86, 88]\n",
    "scores_science = [85, 88, 82, 89, 94, 86, 91, 88, 84, 87]\n",
    "\n",
    "scores_math=np.array(scores_math)\n",
    "scores_english=np.array(scores_english)\n",
    "scores_science=np.array(scores_science)\n",
    "\n",
    "means=[]\n",
    "for i in range(len(scores_english)):\n",
    "    mean = (scores_math[i]+scores_english[i]+scores_science[i])/3\n",
    "    means.append(mean)\n",
    "\n",
    "means=np.array(means)\n",
    "\n",
    "print(means.var(), means.std())"
   ]
  },
  {
   "cell_type": "markdown",
   "id": "95d9ac5d",
   "metadata": {},
   "source": [
    "---"
   ]
  },
  {
   "cell_type": "code",
   "execution_count": 29,
   "id": "6cb44279",
   "metadata": {},
   "outputs": [
    {
     "name": "stdout",
     "output_type": "stream",
     "text": [
      "오름차순 정렬: [10 20 30 40 50]\n",
      "내림차순 정렬: [50 40 30 20 10]\n"
     ]
    }
   ],
   "source": [
    "# Numpy 정렬 실습\n",
    "\n",
    "#실습1 1차원 배열 정렬\n",
    "\n",
    "arr = np.array([50, 10, 30, 40, 20])\n",
    "\n",
    "print('오름차순 정렬:', np.sort(arr))\n",
    "print('내림차순 정렬:', np.sort(arr)[::-1])"
   ]
  },
  {
   "cell_type": "code",
   "execution_count": 33,
   "id": "a83f681f",
   "metadata": {},
   "outputs": [
    {
     "name": "stdout",
     "output_type": "stream",
     "text": [
      "헹 기준 정렬: [[3 5 8]\n",
      " [1 2 9]]\n",
      "열 기준 정렬: [[2 3 1]\n",
      " [8 9 5]]\n"
     ]
    }
   ],
   "source": [
    "# 실습2 2차원 배열 축 기준 정렬\n",
    "\n",
    "arr2d = np.array([[8, 3, 5], [2, 9, 1]])\n",
    "\n",
    "print('헹 기준 정렬:', np.sort(arr2d))\n",
    "print('열 기준 정렬:', np.sort(arr2d, axis=0))"
   ]
  },
  {
   "cell_type": "code",
   "execution_count": 35,
   "id": "df4b7d15",
   "metadata": {},
   "outputs": [
    {
     "data": {
      "text/plain": [
       "array([10, 15, 20])"
      ]
     },
     "execution_count": 35,
     "metadata": {},
     "output_type": "execute_result"
    }
   ],
   "source": [
    "# 실습3 인덱스를 반환하는 정렬\n",
    "\n",
    "arr = np.array([15, 10, 20])\n",
    "\n",
    "arr_index = np.argsort(arr)\n",
    "\n",
    "arr[arr_index]"
   ]
  },
  {
   "cell_type": "markdown",
   "id": "86347585",
   "metadata": {},
   "source": [
    "---"
   ]
  },
  {
   "cell_type": "code",
   "execution_count": null,
   "id": "05df71ad",
   "metadata": {},
   "outputs": [
    {
     "name": "stdout",
     "output_type": "stream",
     "text": [
      "[1 2 3 4 5 6]\n",
      "[1 2 3 4 5 6]\n"
     ]
    }
   ],
   "source": [
    "# Numpy 병합 실습\n",
    "\n",
    "# 실습1 1차원 배열 병합\n",
    "\n",
    "arr1 = np.array([1, 2, 3])\n",
    "arr2 = np.array([4, 5, 6])\n",
    "\n",
    "print(np.concatenate((arr1, arr2)))\n",
    "print(np.hstack((arr1, arr2)))"
   ]
  },
  {
   "cell_type": "code",
   "execution_count": 44,
   "id": "955d46e1",
   "metadata": {},
   "outputs": [
    {
     "name": "stdout",
     "output_type": "stream",
     "text": [
      "[[1 2]\n",
      " [3 4]\n",
      " [5 6]\n",
      " [7 8]]\n",
      "[[1 2]\n",
      " [3 4]\n",
      " [5 6]\n",
      " [7 8]]\n"
     ]
    }
   ],
   "source": [
    "# 실습2 2차원 배열 병합\n",
    "\n",
    "arr1 = np.array([[1, 2], [3, 4]])\n",
    "arr2 = np.array([[5, 6], [7, 8]])\n",
    "\n",
    "print(np.concatenate((arr1, arr2)))\n",
    "print(np.vstack((arr1, arr2)))"
   ]
  }
 ],
 "metadata": {
  "kernelspec": {
   "display_name": "skntr_env",
   "language": "python",
   "name": "python3"
  },
  "language_info": {
   "codemirror_mode": {
    "name": "ipython",
    "version": 3
   },
   "file_extension": ".py",
   "mimetype": "text/x-python",
   "name": "python",
   "nbconvert_exporter": "python",
   "pygments_lexer": "ipython3",
   "version": "3.12.11"
  }
 },
 "nbformat": 4,
 "nbformat_minor": 5
}
