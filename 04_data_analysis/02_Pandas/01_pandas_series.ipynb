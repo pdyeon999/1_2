{
 "cells": [
  {
   "cell_type": "code",
   "execution_count": 1,
   "id": "92734d35",
   "metadata": {},
   "outputs": [],
   "source": [
    "import pandas as pd\n",
    "import numpy as np"
   ]
  },
  {
   "cell_type": "code",
   "execution_count": 2,
   "id": "0f45e2fc",
   "metadata": {},
   "outputs": [
    {
     "name": "stdout",
     "output_type": "stream",
     "text": [
      "주식1    NVDA\n",
      "주식2    MSFT\n",
      "주식3    AAPL\n",
      "주식4    GOOG\n",
      "dtype: object\n",
      "A    NVDA\n",
      "B    MSFT\n",
      "C    AAPL\n",
      "D    GOOG\n",
      "Name: 미국주식, dtype: object\n"
     ]
    }
   ],
   "source": [
    "# series 생성\n",
    "stocks={\n",
    "    '주식1':'NVDA',\n",
    "    '주식2':'MSFT',\n",
    "    '주식3':'AAPL',\n",
    "    '주식4':'GOOG'}\n",
    "stocks_se = pd.Series(stocks)\n",
    "print(stocks_se)\n",
    "stocks_se.name = '미국주식'\n",
    "stocks_se.index = ['A', 'B', 'C', 'D']\n",
    "\n",
    "print(stocks_se)\n"
   ]
  },
  {
   "cell_type": "code",
   "execution_count": 3,
   "id": "05eb953d",
   "metadata": {},
   "outputs": [
    {
     "name": "stdout",
     "output_type": "stream",
     "text": [
      "a   -0.936418\n",
      "b    0.097270\n",
      "c    0.530618\n",
      "d   -1.806255\n",
      "e   -1.747335\n",
      "dtype: float64 0.5306175724193715\n"
     ]
    }
   ],
   "source": [
    "nums_ser = pd.Series(np.random.randn(5), index=['a', 'b', 'c', 'd', 'e'])\n",
    "print(nums_ser, nums_ser['c'])"
   ]
  },
  {
   "cell_type": "code",
   "execution_count": 4,
   "id": "d5ebd6d8",
   "metadata": {},
   "outputs": [
    {
     "name": "stdout",
     "output_type": "stream",
     "text": [
      "a    10\n",
      "b    20\n",
      "c    30\n",
      "dtype: int64\n"
     ]
    }
   ],
   "source": [
    "info = {\n",
    "    'a': 10,\n",
    "    'b': 20,\n",
    "    'c': 30\n",
    "}\n",
    "info_ser = pd.Series(info)\n",
    "print(info_ser)\n",
    "\n",
    "#print(info_ser.iloc[1], info_ser.loc['02'])"
   ]
  },
  {
   "cell_type": "code",
   "execution_count": 5,
   "id": "e707d194",
   "metadata": {},
   "outputs": [
    {
     "name": "stdout",
     "output_type": "stream",
     "text": [
      "a    5.5\n",
      "b    5.5\n",
      "c    5.5\n",
      "d    5.5\n",
      "e    5.5\n",
      "dtype: float64\n",
      "Index(['a', 'b', 'c', 'd', 'e'], dtype='object')\n"
     ]
    }
   ],
   "source": [
    "num_ser = pd.Series(5.5, index = ['a', 'b', 'c', 'd', 'e'])\n",
    "print(num_ser)\n",
    "print(num_ser.index)"
   ]
  },
  {
   "cell_type": "code",
   "execution_count": 6,
   "id": "05cd93b4",
   "metadata": {},
   "outputs": [
    {
     "name": "stdout",
     "output_type": "stream",
     "text": [
      "['영화1' '영3' '영3' '영화4' '영5']\n",
      "<NumpyExtensionArray>\n",
      "['영화1', '영3', '영3', '영화4', '영5']\n",
      "Length: 5, dtype: object\n",
      "RangeIndex(start=0, stop=5, step=1)\n"
     ]
    }
   ],
   "source": [
    "# Series 속성\n",
    "movies = ['영화1', '영3', '영3', '영화4', '영5']\n",
    "movies_ser = pd.Series(movies)\n",
    "print(movies_ser.values)\n",
    "print(movies_ser.array)\n",
    "print(movies_ser.index)"
   ]
  },
  {
   "cell_type": "code",
   "execution_count": 7,
   "id": "a4e571d8",
   "metadata": {},
   "outputs": [
    {
     "data": {
      "text/plain": [
       "False"
      ]
     },
     "execution_count": 7,
     "metadata": {},
     "output_type": "execute_result"
    }
   ],
   "source": [
    "movies_ser.is_unique"
   ]
  },
  {
   "cell_type": "code",
   "execution_count": 8,
   "id": "4af2cede",
   "metadata": {},
   "outputs": [
    {
     "name": "stdout",
     "output_type": "stream",
     "text": [
      "object\n",
      "(5,)\n",
      "1\n",
      "5\n"
     ]
    }
   ],
   "source": [
    "print(movies_ser.dtype)\n",
    "print(movies_ser.shape)\n",
    "print(movies_ser.ndim)\n",
    "print(movies_ser.size)"
   ]
  },
  {
   "cell_type": "code",
   "execution_count": 9,
   "id": "6aa373b1",
   "metadata": {},
   "outputs": [
    {
     "name": "stdout",
     "output_type": "stream",
     "text": [
      "2090\n",
      "68890500\n",
      "418.0\n",
      "0    2025\n",
      "1       9\n",
      "dtype: int64\n",
      "3    12\n",
      "4    35\n",
      "dtype: int64\n"
     ]
    }
   ],
   "source": [
    "# 메서드\n",
    "nums_ser = pd.Series([2025, 9, 9,12,35])\n",
    "print(nums_ser.sum())\n",
    "print(nums_ser.product())\n",
    "print(nums_ser.mean())\n",
    "\n",
    "print(nums_ser.head(2))\n",
    "print(nums_ser.tail(2))"
   ]
  },
  {
   "cell_type": "code",
   "execution_count": 10,
   "id": "13e0f506",
   "metadata": {},
   "outputs": [
    {
     "name": "stdout",
     "output_type": "stream",
     "text": [
      "<class 'pandas.core.series.Series'>\n",
      "RangeIndex: 5 entries, 0 to 4\n",
      "Series name: None\n",
      "Non-Null Count  Dtype\n",
      "--------------  -----\n",
      "5 non-null      int64\n",
      "dtypes: int64(1)\n",
      "memory usage: 172.0 bytes\n",
      "None\n",
      "-----------------------------\n",
      "count       5.000000\n",
      "mean      418.000000\n",
      "std       898.406367\n",
      "min         9.000000\n",
      "25%         9.000000\n",
      "50%        12.000000\n",
      "75%        35.000000\n",
      "max      2025.000000\n",
      "dtype: float64\n"
     ]
    }
   ],
   "source": [
    "print(nums_ser.info())\n",
    "print('-----------------------------')\n",
    "print(nums_ser.describe())"
   ]
  },
  {
   "cell_type": "code",
   "execution_count": 11,
   "id": "081f0d33",
   "metadata": {},
   "outputs": [
    {
     "name": "stdout",
     "output_type": "stream",
     "text": [
      "a    2025\n",
      "b       9\n",
      "c       9\n",
      "d      12\n",
      "e      35\n",
      "dtype: int64\n"
     ]
    }
   ],
   "source": [
    "nums_ser.index = list('abcde')\n",
    "print(nums_ser)"
   ]
  },
  {
   "cell_type": "code",
   "execution_count": 12,
   "id": "a7c52cd4",
   "metadata": {},
   "outputs": [
    {
     "name": "stdout",
     "output_type": "stream",
     "text": [
      "            sp500\n",
      "0     1295.500000\n",
      "1     1289.089966\n",
      "2     1293.670044\n",
      "3     1308.040039\n",
      "4     1314.500000\n",
      "...           ...\n",
      "2154  3327.770020\n",
      "2155  3349.159912\n",
      "2156  3351.280029\n",
      "2157  3360.469971\n",
      "2158  3333.689941\n",
      "\n",
      "[2159 rows x 1 columns]\n"
     ]
    }
   ],
   "source": [
    "# S&P 500 데이터 활용\n",
    "\n",
    "sp_500_df = pd.read_csv(\"./data/S_P500_Prices.csv\")\n",
    "# 컴마로 데이터 구분해 2차원의 형태로 가져옴\n",
    "print(sp_500_df)"
   ]
  },
  {
   "cell_type": "code",
   "execution_count": 13,
   "id": "bf289e64",
   "metadata": {},
   "outputs": [
    {
     "name": "stdout",
     "output_type": "stream",
     "text": [
      "(2159,)\n",
      "2159\n",
      "1\n",
      "-----------------------------------------\n",
      "2159\n",
      "1278.040039\n",
      "2106.629883\n",
      "2218.7495540592868\n",
      "537.1972748355726\n",
      "288580.91209076566\n",
      "-----------------------------------------\n",
      "1416.51001\n",
      "100    1315.130005\n",
      "101    1314.989990\n",
      "102    1325.660034\n",
      "103    1308.930054\n",
      "104    1324.180054\n",
      "          ...     \n",
      "196    1433.819946\n",
      "197    1413.109985\n",
      "198    1408.750000\n",
      "199    1412.969971\n",
      "200    1411.939941\n",
      "Name: sp500, Length: 101, dtype: float64\n",
      "-----------------------------------------\n",
      "1000    2016.709961\n",
      "2000    3223.379883\n",
      "Name: sp500, dtype: float64\n",
      "-----------------------------------------\n",
      "1885    3013.770020\n",
      "1886    3014.300049\n",
      "1887    3004.040039\n",
      "1892    3005.469971\n",
      "1893    3019.560059\n",
      "           ...     \n",
      "2154    3327.770020\n",
      "2155    3349.159912\n",
      "2156    3351.280029\n",
      "2157    3360.469971\n",
      "2158    3333.689941\n",
      "Name: sp500, Length: 160, dtype: float64\n"
     ]
    }
   ],
   "source": [
    "sp_500_df = sp_500_df.squeeze()     #데이터프레임의 Series가 하나인 경우 Series 객체 반환\n",
    "# print(type(sp_500_df))\n",
    "# print(sp_500_df.info())\n",
    "#print(sp_500_df.describe())\n",
    "\n",
    "sp_500_ser=pd.Series(sp_500_df)\n",
    "\n",
    "#형태, 요소의 개수, 깊이\n",
    "print(sp_500_ser.shape)\n",
    "print(sp_500_ser.size)\n",
    "print(sp_500_ser.ndim)\n",
    "print(\"-----------------------------------------\")\n",
    "\n",
    "#갯수, 최소값, 중위값, 평균값, 표준편차, 분산\n",
    "print(sp_500_ser.count())\n",
    "print(np.min(sp_500_ser))\n",
    "print(np.median(sp_500_ser))\n",
    "print(np.mean(sp_500_ser))\n",
    "print(np.std(sp_500_ser))\n",
    "print(np.var(sp_500_ser))\n",
    "print(\"-----------------------------------------\")\n",
    "\n",
    "#인덱스 번호로 인덱싱 및 슬라이싱: 인덱스 50의 값 가져오기, 인덱스 100~200 값 가져오기\n",
    "print(sp_500_ser[50]) # or sp_500_ser.iloc[50]\n",
    "print(sp_500_ser[100:201])\n",
    "print(\"-----------------------------------------\")\n",
    "\n",
    "#fancy indexing 써보기. 1000, 2000 두 요소 꺼내오기\n",
    "print(sp_500_ser[[1000, 2000]])\n",
    "print(\"-----------------------------------------\")\n",
    "\n",
    "#boolean indexing 써보기. 3000보다 큰 수만 가져오기\n",
    "print(sp_500_ser[sp_500_ser.values>3000])\n",
    "\n"
   ]
  },
  {
   "cell_type": "code",
   "execution_count": 14,
   "id": "b3a273cf",
   "metadata": {},
   "outputs": [
    {
     "name": "stdout",
     "output_type": "stream",
     "text": [
      "True\n"
     ]
    }
   ],
   "source": [
    "print(3351.280029 in sp_500_ser.values)"
   ]
  },
  {
   "cell_type": "code",
   "execution_count": 15,
   "id": "7206a971",
   "metadata": {},
   "outputs": [
    {
     "name": "stdout",
     "output_type": "stream",
     "text": [
      "97    1278.040039\n",
      "98    1278.180054\n",
      "99    1285.500000\n",
      "1     1289.089966\n",
      "2     1293.670044\n",
      "Name: sp500, dtype: float64\n",
      "0    1295.500000\n",
      "1    1289.089966\n",
      "2    1293.670044\n",
      "3    1308.040039\n",
      "4    1314.500000\n",
      "Name: sp500, dtype: float64\n"
     ]
    }
   ],
   "source": [
    "print(sp_500_ser.sort_values().head())\n",
    "print(sp_500_ser.head())"
   ]
  },
  {
   "cell_type": "code",
   "execution_count": 16,
   "id": "e8f3b9d4",
   "metadata": {},
   "outputs": [
    {
     "name": "stdout",
     "output_type": "stream",
     "text": [
      "2037    3386.149902\n",
      "2035    3380.159912\n",
      "2033    3379.449951\n",
      "2034    3373.939941\n",
      "2038    3373.229980\n",
      "Name: sp500, dtype: float64\n"
     ]
    }
   ],
   "source": [
    "print(sp_500_ser.sort_values(ascending=False).head())"
   ]
  }
 ],
 "metadata": {
  "kernelspec": {
   "display_name": "pystudy_env",
   "language": "python",
   "name": "python3"
  },
  "language_info": {
   "codemirror_mode": {
    "name": "ipython",
    "version": 3
   },
   "file_extension": ".py",
   "mimetype": "text/x-python",
   "name": "python",
   "nbconvert_exporter": "python",
   "pygments_lexer": "ipython3",
   "version": "3.12.11"
  }
 },
 "nbformat": 4,
 "nbformat_minor": 5
}
