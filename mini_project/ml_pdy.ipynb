{
 "cells": [
  {
   "cell_type": "markdown",
   "id": "55b40da2",
   "metadata": {},
   "source": [
    "# SKN 19기 mini-project 5팀(팀명: 여권어디있지) M/L"
   ]
  },
  {
   "cell_type": "code",
   "execution_count": null,
   "id": "57913706",
   "metadata": {},
   "outputs": [],
   "source": [
    "import numpy as np\n",
    "import pandas as pd\n",
    "import matplotlib.pyplot as plt\n",
    "import seaborn as sns\n",
    "import warnings\n",
    "warnings.filterwarnings('ignore')\n",
    "\n",
    "\n",
    "# pandas 출력 옵션\n",
    "pd.set_option('display.float_format', '{:.2f}'.format)\n",
    "\n",
    "# 한글 폰트 사용을 위한 설정\n",
    "import matplotlib.font_manager as fm\n",
    "import matplotlib\n",
    "\n",
    "font_path = 'C:\\\\Windows\\\\Fonts\\\\gulim.ttc'\n",
    "font = fm.FontProperties(fname=font_path).get_name()\n",
    "matplotlib.rc('font', family=font)"
   ]
  },
  {
   "cell_type": "markdown",
   "id": "369d9f77",
   "metadata": {},
   "source": [
    "## 데이터 로드"
   ]
  },
  {
   "cell_type": "code",
   "execution_count": null,
   "id": "9879833d",
   "metadata": {},
   "outputs": [],
   "source": [
    "# 데이터 로드\n",
    "# 6. 데이터 변환 및 피처 엔지니어링\n",
    "# 7. 데이터 분할"
   ]
  },
  {
   "cell_type": "code",
   "execution_count": 2,
   "id": "56afc72e",
   "metadata": {},
   "outputs": [
    {
     "data": {
      "text/html": [
       "<div>\n",
       "<style scoped>\n",
       "    .dataframe tbody tr th:only-of-type {\n",
       "        vertical-align: middle;\n",
       "    }\n",
       "\n",
       "    .dataframe tbody tr th {\n",
       "        vertical-align: top;\n",
       "    }\n",
       "\n",
       "    .dataframe thead th {\n",
       "        text-align: right;\n",
       "    }\n",
       "</style>\n",
       "<table border=\"1\" class=\"dataframe\">\n",
       "  <thead>\n",
       "    <tr style=\"text-align: right;\">\n",
       "      <th></th>\n",
       "      <th>neighbourhood_cleansed</th>\n",
       "      <th>property_type</th>\n",
       "      <th>room_type</th>\n",
       "      <th>accommodates</th>\n",
       "      <th>bathrooms</th>\n",
       "      <th>bedrooms</th>\n",
       "      <th>beds</th>\n",
       "      <th>amenities</th>\n",
       "      <th>price</th>\n",
       "      <th>number_of_reviews</th>\n",
       "      <th>first_review</th>\n",
       "      <th>review_scores_rating</th>\n",
       "    </tr>\n",
       "  </thead>\n",
       "  <tbody>\n",
       "    <tr>\n",
       "      <th>0</th>\n",
       "      <td>Bunkyo Ku</td>\n",
       "      <td>Entire rental unit</td>\n",
       "      <td>Entire home/apt</td>\n",
       "      <td>3</td>\n",
       "      <td>1.00</td>\n",
       "      <td>0.00</td>\n",
       "      <td>2.00</td>\n",
       "      <td>[\"Bidet\", \"Body soap\", \"Bed linens\", \"Hot wate...</td>\n",
       "      <td>100000.00</td>\n",
       "      <td>0</td>\n",
       "      <td>NaN</td>\n",
       "      <td>NaN</td>\n",
       "    </tr>\n",
       "    <tr>\n",
       "      <th>1</th>\n",
       "      <td>Bunkyo Ku</td>\n",
       "      <td>Entire rental unit</td>\n",
       "      <td>Entire home/apt</td>\n",
       "      <td>8</td>\n",
       "      <td>1.00</td>\n",
       "      <td>2.00</td>\n",
       "      <td>5.00</td>\n",
       "      <td>[\"Bidet\", \"Body soap\", \"Bed linens\", \"Hot wate...</td>\n",
       "      <td>100000.00</td>\n",
       "      <td>0</td>\n",
       "      <td>NaN</td>\n",
       "      <td>NaN</td>\n",
       "    </tr>\n",
       "    <tr>\n",
       "      <th>2</th>\n",
       "      <td>Taito Ku</td>\n",
       "      <td>Entire serviced apartment</td>\n",
       "      <td>Entire home/apt</td>\n",
       "      <td>4</td>\n",
       "      <td>2.00</td>\n",
       "      <td>2.00</td>\n",
       "      <td>2.00</td>\n",
       "      <td>[\"Room-darkening shades\", \"Body soap\", \"Carbon...</td>\n",
       "      <td>14550.00</td>\n",
       "      <td>24</td>\n",
       "      <td>2023-12-04</td>\n",
       "      <td>4.42</td>\n",
       "    </tr>\n",
       "    <tr>\n",
       "      <th>3</th>\n",
       "      <td>Kita Ku</td>\n",
       "      <td>Entire home</td>\n",
       "      <td>Entire home/apt</td>\n",
       "      <td>8</td>\n",
       "      <td>1.00</td>\n",
       "      <td>3.00</td>\n",
       "      <td>6.00</td>\n",
       "      <td>[\"Room-darkening shades\", \"Cooking basics\", \"C...</td>\n",
       "      <td>22012.00</td>\n",
       "      <td>15</td>\n",
       "      <td>2024-01-10</td>\n",
       "      <td>4.73</td>\n",
       "    </tr>\n",
       "    <tr>\n",
       "      <th>4</th>\n",
       "      <td>Sumida Ku</td>\n",
       "      <td>Entire rental unit</td>\n",
       "      <td>Entire home/apt</td>\n",
       "      <td>3</td>\n",
       "      <td>1.00</td>\n",
       "      <td>1.00</td>\n",
       "      <td>1.00</td>\n",
       "      <td>[\"Clothing storage: closet\", \"Elevator\", \"Hair...</td>\n",
       "      <td>15429.00</td>\n",
       "      <td>17</td>\n",
       "      <td>2023-12-26</td>\n",
       "      <td>5.00</td>\n",
       "    </tr>\n",
       "  </tbody>\n",
       "</table>\n",
       "</div>"
      ],
      "text/plain": [
       "  neighbourhood_cleansed              property_type        room_type  \\\n",
       "0              Bunkyo Ku         Entire rental unit  Entire home/apt   \n",
       "1              Bunkyo Ku         Entire rental unit  Entire home/apt   \n",
       "2               Taito Ku  Entire serviced apartment  Entire home/apt   \n",
       "3                Kita Ku                Entire home  Entire home/apt   \n",
       "4              Sumida Ku         Entire rental unit  Entire home/apt   \n",
       "\n",
       "   accommodates  bathrooms  bedrooms  beds  \\\n",
       "0             3       1.00      0.00  2.00   \n",
       "1             8       1.00      2.00  5.00   \n",
       "2             4       2.00      2.00  2.00   \n",
       "3             8       1.00      3.00  6.00   \n",
       "4             3       1.00      1.00  1.00   \n",
       "\n",
       "                                           amenities     price  \\\n",
       "0  [\"Bidet\", \"Body soap\", \"Bed linens\", \"Hot wate... 100000.00   \n",
       "1  [\"Bidet\", \"Body soap\", \"Bed linens\", \"Hot wate... 100000.00   \n",
       "2  [\"Room-darkening shades\", \"Body soap\", \"Carbon...  14550.00   \n",
       "3  [\"Room-darkening shades\", \"Cooking basics\", \"C...  22012.00   \n",
       "4  [\"Clothing storage: closet\", \"Elevator\", \"Hair...  15429.00   \n",
       "\n",
       "   number_of_reviews first_review  review_scores_rating  \n",
       "0                  0          NaN                   NaN  \n",
       "1                  0          NaN                   NaN  \n",
       "2                 24   2023-12-04                  4.42  \n",
       "3                 15   2024-01-10                  4.73  \n",
       "4                 17   2023-12-26                  5.00  "
      ]
     },
     "execution_count": 2,
     "metadata": {},
     "output_type": "execute_result"
    }
   ],
   "source": [
    "df_listings = pd.read_csv('./data/listings.csv')\n",
    "\n",
    "df_listings.head(5)"
   ]
  },
  {
   "cell_type": "code",
   "execution_count": 90,
   "id": "e7436bd0",
   "metadata": {},
   "outputs": [
    {
     "name": "stdout",
     "output_type": "stream",
     "text": [
      "<class 'pandas.core.frame.DataFrame'>\n",
      "RangeIndex: 23007 entries, 0 to 23006\n",
      "Data columns (total 12 columns):\n",
      " #   Column                  Non-Null Count  Dtype  \n",
      "---  ------                  --------------  -----  \n",
      " 0   neighbourhood_cleansed  23007 non-null  int64  \n",
      " 1   property_type           23007 non-null  object \n",
      " 2   room_type               23007 non-null  object \n",
      " 3   accommodates            23007 non-null  int64  \n",
      " 4   bathrooms               23007 non-null  float64\n",
      " 5   bedrooms                23007 non-null  float64\n",
      " 6   beds                    23007 non-null  float64\n",
      " 7   amenities               23007 non-null  object \n",
      " 8   price                   23007 non-null  float64\n",
      " 9   number_of_reviews       23007 non-null  int64  \n",
      " 10  first_review            19875 non-null  object \n",
      " 11  review_scores_rating    19875 non-null  float64\n",
      "dtypes: float64(5), int64(3), object(4)\n",
      "memory usage: 2.1+ MB\n"
     ]
    }
   ],
   "source": [
    "# neighbourhood cleansed 라벨인코딩\n",
    "\n",
    "from sklearn.preprocessing import LabelEncoder\n",
    "l_encod = LabelEncoder()\n",
    "\n",
    "df_listings['neighbourhood_cleansed'] = l_encod.fit_transform(df_listings['neighbourhood_cleansed'])\n",
    "df_listings.info()"
   ]
  },
  {
   "cell_type": "markdown",
   "id": "b0271028",
   "metadata": {},
   "source": [
    "first review, review scores rating 칼럼의 결측치\n",
    "- first review의 결측치 행과 review scores rating의 결측치 행이 완벽히 일치함\n",
    "- first review의 NaN은 '아직 없다' -> '리뷰가 없다' -> review scores rating = 0 으로 해석 가능하지만, review scores rating만 보면 NaN을 0점으로 두는 건 의미상 애매.\n",
    "- 아니면 결측치를 따로 분류해주는 Boosting 모델 사용 필요"
   ]
  },
  {
   "cell_type": "code",
   "execution_count": null,
   "id": "986ef42b",
   "metadata": {},
   "outputs": [
    {
     "data": {
      "text/plain": [
       "0        True\n",
       "1        True\n",
       "17       True\n",
       "26       True\n",
       "51       True\n",
       "         ... \n",
       "23002    True\n",
       "23003    True\n",
       "23004    True\n",
       "23005    True\n",
       "23006    True\n",
       "Name: review_scores_rating, Length: 3132, dtype: bool"
      ]
     },
     "execution_count": 88,
     "metadata": {},
     "output_type": "execute_result"
    }
   ],
   "source": [
    "# first_rieview와 review_scores_rating의 unique한 row 개수가 19875개.\n",
    "df_listings[df_listings['first_review'].isna()]['review_scores_rating'].isna()\n",
    "# Lengh = 3132. 즉, 19875+3132 = 23007"
   ]
  },
  {
   "cell_type": "markdown",
   "id": "331d0a18",
   "metadata": {},
   "source": [
    "내일 할 일\n",
    "1. Target Encoding 적용해보기\n",
    "2. property type이 각 어느 room_type에 속해있는지 도회해보기\n",
    "3. review scores rating 결측치(3천개) 개수 == number_of_reviews이므로 결측치 어떻게 할지 묶어서 고민\n",
    "4. first_review 이용해 새로운 칼럼으로 숙소 운영 days 칼럼 생성 (긴데 리뷰 개수는 적다면 아마 좋은 숙소x, 숙소 가격 하락(추측))\n",
    "5. 정규화가 필요없는 앙상블 모델로 학습, 평가, 교차 검증 수행"
   ]
  },
  {
   "cell_type": "code",
   "execution_count": null,
   "id": "c8bbc42f",
   "metadata": {},
   "outputs": [],
   "source": [
    "# 모델 학습 데이터 (지역, 최대수용인원, 화장실 개수, 침실 개수, 침대 개수)\n",
    "df_test = df_listings.loc[:, ['neighbourhood_cleansed', 'accommodates', 'bathrooms', 'bedrooms', 'beds', 'price']]"
   ]
  },
  {
   "cell_type": "code",
   "execution_count": 91,
   "id": "67bec302",
   "metadata": {},
   "outputs": [
    {
     "data": {
      "text/html": [
       "<div>\n",
       "<style scoped>\n",
       "    .dataframe tbody tr th:only-of-type {\n",
       "        vertical-align: middle;\n",
       "    }\n",
       "\n",
       "    .dataframe tbody tr th {\n",
       "        vertical-align: top;\n",
       "    }\n",
       "\n",
       "    .dataframe thead th {\n",
       "        text-align: right;\n",
       "    }\n",
       "</style>\n",
       "<table border=\"1\" class=\"dataframe\">\n",
       "  <thead>\n",
       "    <tr style=\"text-align: right;\">\n",
       "      <th></th>\n",
       "      <th>neighbourhood_cleansed</th>\n",
       "      <th>accommodates</th>\n",
       "      <th>bathrooms</th>\n",
       "      <th>bedrooms</th>\n",
       "      <th>beds</th>\n",
       "      <th>price</th>\n",
       "    </tr>\n",
       "  </thead>\n",
       "  <tbody>\n",
       "    <tr>\n",
       "      <th>count</th>\n",
       "      <td>23007.00</td>\n",
       "      <td>23007.00</td>\n",
       "      <td>23007.00</td>\n",
       "      <td>23007.00</td>\n",
       "      <td>23007.00</td>\n",
       "      <td>23007.00</td>\n",
       "    </tr>\n",
       "    <tr>\n",
       "      <th>mean</th>\n",
       "      <td>36.33</td>\n",
       "      <td>4.44</td>\n",
       "      <td>1.15</td>\n",
       "      <td>1.39</td>\n",
       "      <td>2.90</td>\n",
       "      <td>17758.09</td>\n",
       "    </tr>\n",
       "    <tr>\n",
       "      <th>std</th>\n",
       "      <td>12.62</td>\n",
       "      <td>2.89</td>\n",
       "      <td>0.49</td>\n",
       "      <td>0.94</td>\n",
       "      <td>2.19</td>\n",
       "      <td>12886.22</td>\n",
       "    </tr>\n",
       "    <tr>\n",
       "      <th>min</th>\n",
       "      <td>0.00</td>\n",
       "      <td>1.00</td>\n",
       "      <td>0.00</td>\n",
       "      <td>0.00</td>\n",
       "      <td>0.00</td>\n",
       "      <td>1700.00</td>\n",
       "    </tr>\n",
       "    <tr>\n",
       "      <th>25%</th>\n",
       "      <td>33.00</td>\n",
       "      <td>2.00</td>\n",
       "      <td>1.00</td>\n",
       "      <td>1.00</td>\n",
       "      <td>1.00</td>\n",
       "      <td>9429.00</td>\n",
       "    </tr>\n",
       "    <tr>\n",
       "      <th>50%</th>\n",
       "      <td>42.00</td>\n",
       "      <td>4.00</td>\n",
       "      <td>1.00</td>\n",
       "      <td>1.00</td>\n",
       "      <td>2.00</td>\n",
       "      <td>13912.00</td>\n",
       "    </tr>\n",
       "    <tr>\n",
       "      <th>75%</th>\n",
       "      <td>44.00</td>\n",
       "      <td>6.00</td>\n",
       "      <td>1.00</td>\n",
       "      <td>2.00</td>\n",
       "      <td>4.00</td>\n",
       "      <td>21572.00</td>\n",
       "    </tr>\n",
       "    <tr>\n",
       "      <th>max</th>\n",
       "      <td>48.00</td>\n",
       "      <td>16.00</td>\n",
       "      <td>10.00</td>\n",
       "      <td>10.00</td>\n",
       "      <td>25.00</td>\n",
       "      <td>100286.00</td>\n",
       "    </tr>\n",
       "  </tbody>\n",
       "</table>\n",
       "</div>"
      ],
      "text/plain": [
       "       neighbourhood_cleansed  accommodates  bathrooms  bedrooms     beds  \\\n",
       "count                23007.00      23007.00   23007.00  23007.00 23007.00   \n",
       "mean                    36.33          4.44       1.15      1.39     2.90   \n",
       "std                     12.62          2.89       0.49      0.94     2.19   \n",
       "min                      0.00          1.00       0.00      0.00     0.00   \n",
       "25%                     33.00          2.00       1.00      1.00     1.00   \n",
       "50%                     42.00          4.00       1.00      1.00     2.00   \n",
       "75%                     44.00          6.00       1.00      2.00     4.00   \n",
       "max                     48.00         16.00      10.00     10.00    25.00   \n",
       "\n",
       "          price  \n",
       "count  23007.00  \n",
       "mean   17758.09  \n",
       "std    12886.22  \n",
       "min     1700.00  \n",
       "25%     9429.00  \n",
       "50%    13912.00  \n",
       "75%    21572.00  \n",
       "max   100286.00  "
      ]
     },
     "execution_count": 91,
     "metadata": {},
     "output_type": "execute_result"
    }
   ],
   "source": [
    "df_test.describe()"
   ]
  },
  {
   "cell_type": "code",
   "execution_count": null,
   "id": "06220b92",
   "metadata": {},
   "outputs": [
    {
     "data": {
      "text/plain": [
       "(0.3644884255883608, 0.4057858515469851)"
      ]
     },
     "execution_count": 22,
     "metadata": {},
     "output_type": "execute_result"
    }
   ],
   "source": [
    "# 1. SVR 모델 학습\n",
    "    # - train, test 데이터 나누기\n",
    "from sklearn.model_selection import train_test_split\n",
    "from sklearn.svm import SVR\n",
    "\n",
    "X = df_test.drop('price', axis=1)\n",
    "y = df_test['price']\n",
    "\n",
    "X_train, X_test, y_train, y_test = train_test_split(X, y, random_state=0)"
   ]
  },
  {
   "cell_type": "code",
   "execution_count": null,
   "id": "a029084f",
   "metadata": {},
   "outputs": [
    {
     "name": "stdout",
     "output_type": "stream",
     "text": [
      "c=100일 때 0.2726759831817944, 0.3106691237637621\n",
      "c=500일 때 0.3349708204738413, 0.37642067271530955\n",
      "c=1000일 때 0.34560704632642847, 0.386970295781344\n",
      "c=2000일 때 0.3526052756153806, 0.39374469599906414\n",
      "c=5000일 때 0.3592384793514437, 0.40033923708473496\n",
      "c=10000일 때 0.3644884255883608, 0.4057858515469851\n"
     ]
    }
   ],
   "source": [
    "# 1. SVR 모델 학습\n",
    "    # - kernel='rbf' 고정, C값 변화에 따른 평가\n",
    "C = [100, 500, 1000, 2000, 5000, 10000]\n",
    "for c in C:\n",
    "    svr = SVR(kernel='rbf', C=c)\n",
    "    svr.fit(X_train, y_train)\n",
    "    print(f'c={c}일 때 {svr.score(X_train, y_train)}, {svr.score(X_test, y_test)}')"
   ]
  },
  {
   "cell_type": "code",
   "execution_count": null,
   "id": "778400ec",
   "metadata": {},
   "outputs": [
    {
     "name": "stdout",
     "output_type": "stream",
     "text": [
      "교차검증 결과\n"
     ]
    },
    {
     "data": {
      "text/plain": [
       "{'fit_time': array([8.90196466, 9.29569077, 7.36409187]),\n",
       " 'score_time': array([8.67032242, 7.80012059, 6.69727826]),\n",
       " 'test_score': array([0.33025018, 0.38199083, 0.39114454])}"
      ]
     },
     "execution_count": 46,
     "metadata": {},
     "output_type": "execute_result"
    }
   ],
   "source": [
    "# 1. SVR 모델 학습\n",
    "    # - 교차 검증. 0.33~0.38\n",
    "from sklearn.model_selection import cross_validate\n",
    "\n",
    "model = SVR(C=5000)\n",
    "scores = cross_validate(model, X, y, cv=3)\n",
    "print(\"교차검증 결과\")\n",
    "scores"
   ]
  },
  {
   "cell_type": "code",
   "execution_count": null,
   "id": "dcc71e46",
   "metadata": {},
   "outputs": [
    {
     "name": "stdout",
     "output_type": "stream",
     "text": [
      "0.4509605627700506 0.46419652597562167\n"
     ]
    }
   ],
   "source": [
    "# 2. 결정트리 모델 학습\n",
    "    # - max_depth 값만 바꾸어 가며 테스트. 8일 때 굿\n",
    "from sklearn.tree import DecisionTreeRegressor\n",
    "\n",
    "dt_reg = DecisionTreeRegressor(random_state=0, max_depth=7)\n",
    "#   random_state= 고정하는 이유: 질문의 형태가 달라져서(가하는 규칙이 달라져서) test 데이터 평가 점수도 달라짐\n",
    "dt_reg.fit(X_train, y_train)\n",
    "\n",
    "print(dt_reg.score(X_train, y_train), dt_reg.score(X_test, y_test))\n",
    "\n",
    "# max_depth = 7일 때 0.4832279846116381 0.48772168188054876\n",
    "# max_depth = 8일 때 0.5220768679288156 0.4999746838148147\n",
    "# max_depth = 9일 때 0.5624031778984009 0.5013450545432857"
   ]
  },
  {
   "cell_type": "code",
   "execution_count": 76,
   "id": "31fbbc2b",
   "metadata": {},
   "outputs": [
    {
     "name": "stdout",
     "output_type": "stream",
     "text": [
      "교차검증 결과\n"
     ]
    },
    {
     "data": {
      "text/plain": [
       "{'fit_time': array([0.01798034, 0.02629256, 0.01608849, 0.01993823, 0.02257538,\n",
       "        0.02000308, 0.01655722, 0.02294946, 0.01927042, 0.0212822 ]),\n",
       " 'score_time': array([0.        , 0.00308061, 0.        , 0.00835633, 0.        ,\n",
       "        0.01178837, 0.        , 0.        , 0.        , 0.        ]),\n",
       " 'test_score': array([0.3776484 , 0.46045821, 0.35061282, 0.48870587, 0.421269  ,\n",
       "        0.43728563, 0.45249218, 0.54414064, 0.45000246, 0.44455194])}"
      ]
     },
     "execution_count": 76,
     "metadata": {},
     "output_type": "execute_result"
    }
   ],
   "source": [
    "# 1. SVR 모델 학습\n",
    "    # - 교차 검증 0.39 ~ 0.45\n",
    "from sklearn.model_selection import cross_validate\n",
    "\n",
    "model = DecisionTreeRegressor(max_depth = 8)\n",
    "scores = cross_validate(model, X, y, cv=10)\n",
    "print(\"교차검증 결과\")\n",
    "scores"
   ]
  },
  {
   "cell_type": "code",
   "execution_count": 81,
   "id": "fe460b22",
   "metadata": {},
   "outputs": [
    {
     "data": {
      "text/plain": [
       "(0.6999185583812993, 0.5164239735703761)"
      ]
     },
     "execution_count": 81,
     "metadata": {},
     "output_type": "execute_result"
    }
   ],
   "source": [
    "# 3. 랜덤포레스트 모델 평가\n",
    "from sklearn.ensemble import RandomForestRegressor\n",
    "rf_reg = RandomForestRegressor(n_estimators=50, random_state=0)\n",
    "\n",
    "rf_reg.fit(X_train, y_train)\n",
    "rf_reg.score(X_train, y_train), rf_reg.score(X_test, y_test)"
   ]
  }
 ],
 "metadata": {
  "kernelspec": {
   "display_name": "ml_env",
   "language": "python",
   "name": "python3"
  },
  "language_info": {
   "codemirror_mode": {
    "name": "ipython",
    "version": 3
   },
   "file_extension": ".py",
   "mimetype": "text/x-python",
   "name": "python",
   "nbconvert_exporter": "python",
   "pygments_lexer": "ipython3",
   "version": "3.12.11"
  }
 },
 "nbformat": 4,
 "nbformat_minor": 5
}
