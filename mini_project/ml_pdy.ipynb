{
 "cells": [
  {
   "cell_type": "markdown",
   "id": "55b40da2",
   "metadata": {},
   "source": [
    "# SKN 19기 mini-project 5팀(팀명: 여권어디있지) M/L"
   ]
  },
  {
   "cell_type": "code",
   "execution_count": 91,
   "id": "57913706",
   "metadata": {},
   "outputs": [],
   "source": [
    "import numpy as np\n",
    "import pandas as pd\n",
    "import matplotlib.pyplot as plt\n",
    "import seaborn as sns\n",
    "import warnings\n",
    "warnings.filterwarnings('ignore')\n",
    "\n",
    "\n",
    "# pandas 출력 옵션\n",
    "pd.set_option('display.float_format', '{:.2f}'.format)\n",
    "\n",
    "# 한글 폰트 사용을 위한 설정\n",
    "import matplotlib.font_manager as fm\n",
    "import matplotlib\n",
    "\n",
    "font_path = 'C:\\\\Windows\\\\Fonts\\\\gulim.ttc'\n",
    "font = fm.FontProperties(fname=font_path).get_name()\n",
    "matplotlib.rc('font', family=font)"
   ]
  },
  {
   "cell_type": "markdown",
   "id": "d9c0d5c6",
   "metadata": {},
   "source": [
    "어매니티\n",
    "amnt_self_checkin                0\n",
    "amnt_instant_book                0\n",
    "amnt_kitchen                     0\n",
    "amnt_hair_dryer                  0\n",
    "amnt_free_parking                0\n",
    "amnt_wifi                        0\n",
    "amnt_private_bathroom            0\n",
    "amnt_bbq_grill                   0\n",
    "amnt_washer                      0\n",
    "amnt_pets_allowed                0\n",
    "amnt_clothes_dryer               0\n",
    "amnt_heating                     0\n",
    "amnt_air_conditioning            0\n",
    "amnt_workspace                   0\n",
    "amnt_iron                        0\n",
    "amnt_pool                        0\n",
    "amnt_bathtub                     0\n",
    "amnt_ev_charger                  0\n",
    "amnt_crib                        0\n",
    "amnt_king_bed                    0\n",
    "amnt_gym                         0\n",
    "amnt_breakfast                   0\n",
    "amnt_fireplace                   0\n",
    "amnt_smoking_allowed             0\n",
    "amnt_waterfront                  0\n",
    "amnt_smoke_alarm                 0\n",
    "amnt_carbon_monoxide_alarm       0\n",
    "\n",
    "살릴 것: 'amnt_self_checkin', 'amnt_hair_dryer', 'amnt_wifi', 'amnt_air_conditioning'"
   ]
  },
  {
   "cell_type": "markdown",
   "id": "369d9f77",
   "metadata": {},
   "source": [
    "## 데이터 로드"
   ]
  },
  {
   "cell_type": "code",
   "execution_count": 92,
   "id": "9879833d",
   "metadata": {},
   "outputs": [],
   "source": [
    "# 데이터 로드\n",
    "# 6. 데이터 변환 및 피처 엔지니어링\n",
    "# 7. 데이터 분할"
   ]
  },
  {
   "cell_type": "code",
   "execution_count": 176,
   "id": "56afc72e",
   "metadata": {},
   "outputs": [],
   "source": [
    "df = pd.read_csv('listings_cleaned_1st.csv')\n",
    "\n",
    "df_listings = df.drop(df.iloc[:, 11:], axis=1)\n",
    "live_list = ['amnt_self_checkin', 'amnt_hair_dryer', 'amnt_wifi', 'amnt_air_conditioning', 'amnt_pool']\n",
    "\n",
    "# 살릴 어매니티 네 칼럼 저장\n",
    "df_listings[live_list] = df[live_list]"
   ]
  },
  {
   "cell_type": "code",
   "execution_count": 175,
   "id": "fcbc6786",
   "metadata": {},
   "outputs": [
    {
     "data": {
      "text/html": [
       "<div>\n",
       "<style scoped>\n",
       "    .dataframe tbody tr th:only-of-type {\n",
       "        vertical-align: middle;\n",
       "    }\n",
       "\n",
       "    .dataframe tbody tr th {\n",
       "        vertical-align: top;\n",
       "    }\n",
       "\n",
       "    .dataframe thead th {\n",
       "        text-align: right;\n",
       "    }\n",
       "</style>\n",
       "<table border=\"1\" class=\"dataframe\">\n",
       "  <thead>\n",
       "    <tr style=\"text-align: right;\">\n",
       "      <th></th>\n",
       "      <th>neighbourhood_cleansed</th>\n",
       "      <th>property_type</th>\n",
       "      <th>room_type</th>\n",
       "      <th>accommodates</th>\n",
       "      <th>bathrooms</th>\n",
       "      <th>bedrooms</th>\n",
       "      <th>beds</th>\n",
       "      <th>price</th>\n",
       "      <th>number_of_reviews</th>\n",
       "      <th>first_review</th>\n",
       "      <th>...</th>\n",
       "      <th>amnt_ev_charger</th>\n",
       "      <th>amnt_crib</th>\n",
       "      <th>amnt_king_bed</th>\n",
       "      <th>amnt_gym</th>\n",
       "      <th>amnt_breakfast</th>\n",
       "      <th>amnt_fireplace</th>\n",
       "      <th>amnt_smoking_allowed</th>\n",
       "      <th>amnt_waterfront</th>\n",
       "      <th>amnt_smoke_alarm</th>\n",
       "      <th>amnt_carbon_monoxide_alarm</th>\n",
       "    </tr>\n",
       "  </thead>\n",
       "  <tbody>\n",
       "    <tr>\n",
       "      <th>0</th>\n",
       "      <td>Bunkyo Ku</td>\n",
       "      <td>Entire rental unit</td>\n",
       "      <td>Entire home/apt</td>\n",
       "      <td>3</td>\n",
       "      <td>1.00</td>\n",
       "      <td>0.00</td>\n",
       "      <td>2.00</td>\n",
       "      <td>100000.00</td>\n",
       "      <td>0</td>\n",
       "      <td>NaN</td>\n",
       "      <td>...</td>\n",
       "      <td>0</td>\n",
       "      <td>0</td>\n",
       "      <td>0</td>\n",
       "      <td>0</td>\n",
       "      <td>0</td>\n",
       "      <td>1</td>\n",
       "      <td>0</td>\n",
       "      <td>0</td>\n",
       "      <td>1</td>\n",
       "      <td>0</td>\n",
       "    </tr>\n",
       "    <tr>\n",
       "      <th>1</th>\n",
       "      <td>Bunkyo Ku</td>\n",
       "      <td>Entire rental unit</td>\n",
       "      <td>Entire home/apt</td>\n",
       "      <td>8</td>\n",
       "      <td>1.00</td>\n",
       "      <td>2.00</td>\n",
       "      <td>5.00</td>\n",
       "      <td>100000.00</td>\n",
       "      <td>0</td>\n",
       "      <td>NaN</td>\n",
       "      <td>...</td>\n",
       "      <td>0</td>\n",
       "      <td>0</td>\n",
       "      <td>0</td>\n",
       "      <td>0</td>\n",
       "      <td>0</td>\n",
       "      <td>1</td>\n",
       "      <td>0</td>\n",
       "      <td>0</td>\n",
       "      <td>1</td>\n",
       "      <td>0</td>\n",
       "    </tr>\n",
       "    <tr>\n",
       "      <th>2</th>\n",
       "      <td>Taito Ku</td>\n",
       "      <td>Entire serviced apartment</td>\n",
       "      <td>Entire home/apt</td>\n",
       "      <td>4</td>\n",
       "      <td>2.00</td>\n",
       "      <td>2.00</td>\n",
       "      <td>2.00</td>\n",
       "      <td>14550.00</td>\n",
       "      <td>24</td>\n",
       "      <td>2023-12-04</td>\n",
       "      <td>...</td>\n",
       "      <td>0</td>\n",
       "      <td>0</td>\n",
       "      <td>0</td>\n",
       "      <td>0</td>\n",
       "      <td>0</td>\n",
       "      <td>0</td>\n",
       "      <td>0</td>\n",
       "      <td>0</td>\n",
       "      <td>1</td>\n",
       "      <td>1</td>\n",
       "    </tr>\n",
       "    <tr>\n",
       "      <th>3</th>\n",
       "      <td>Kita Ku</td>\n",
       "      <td>Entire home</td>\n",
       "      <td>Entire home/apt</td>\n",
       "      <td>8</td>\n",
       "      <td>1.00</td>\n",
       "      <td>3.00</td>\n",
       "      <td>6.00</td>\n",
       "      <td>22012.00</td>\n",
       "      <td>15</td>\n",
       "      <td>2024-01-10</td>\n",
       "      <td>...</td>\n",
       "      <td>0</td>\n",
       "      <td>0</td>\n",
       "      <td>0</td>\n",
       "      <td>0</td>\n",
       "      <td>0</td>\n",
       "      <td>0</td>\n",
       "      <td>0</td>\n",
       "      <td>0</td>\n",
       "      <td>1</td>\n",
       "      <td>1</td>\n",
       "    </tr>\n",
       "    <tr>\n",
       "      <th>4</th>\n",
       "      <td>Sumida Ku</td>\n",
       "      <td>Entire rental unit</td>\n",
       "      <td>Entire home/apt</td>\n",
       "      <td>3</td>\n",
       "      <td>1.00</td>\n",
       "      <td>1.00</td>\n",
       "      <td>1.00</td>\n",
       "      <td>15429.00</td>\n",
       "      <td>17</td>\n",
       "      <td>2023-12-26</td>\n",
       "      <td>...</td>\n",
       "      <td>0</td>\n",
       "      <td>1</td>\n",
       "      <td>0</td>\n",
       "      <td>0</td>\n",
       "      <td>0</td>\n",
       "      <td>1</td>\n",
       "      <td>0</td>\n",
       "      <td>0</td>\n",
       "      <td>1</td>\n",
       "      <td>1</td>\n",
       "    </tr>\n",
       "  </tbody>\n",
       "</table>\n",
       "<p>5 rows × 38 columns</p>\n",
       "</div>"
      ],
      "text/plain": [
       "  neighbourhood_cleansed              property_type        room_type  \\\n",
       "0              Bunkyo Ku         Entire rental unit  Entire home/apt   \n",
       "1              Bunkyo Ku         Entire rental unit  Entire home/apt   \n",
       "2               Taito Ku  Entire serviced apartment  Entire home/apt   \n",
       "3                Kita Ku                Entire home  Entire home/apt   \n",
       "4              Sumida Ku         Entire rental unit  Entire home/apt   \n",
       "\n",
       "   accommodates  bathrooms  bedrooms  beds     price  number_of_reviews  \\\n",
       "0             3       1.00      0.00  2.00 100000.00                  0   \n",
       "1             8       1.00      2.00  5.00 100000.00                  0   \n",
       "2             4       2.00      2.00  2.00  14550.00                 24   \n",
       "3             8       1.00      3.00  6.00  22012.00                 15   \n",
       "4             3       1.00      1.00  1.00  15429.00                 17   \n",
       "\n",
       "  first_review  ...  amnt_ev_charger  amnt_crib  amnt_king_bed  amnt_gym  \\\n",
       "0          NaN  ...                0          0              0         0   \n",
       "1          NaN  ...                0          0              0         0   \n",
       "2   2023-12-04  ...                0          0              0         0   \n",
       "3   2024-01-10  ...                0          0              0         0   \n",
       "4   2023-12-26  ...                0          1              0         0   \n",
       "\n",
       "   amnt_breakfast  amnt_fireplace  amnt_smoking_allowed  amnt_waterfront  \\\n",
       "0               0               1                     0                0   \n",
       "1               0               1                     0                0   \n",
       "2               0               0                     0                0   \n",
       "3               0               0                     0                0   \n",
       "4               0               1                     0                0   \n",
       "\n",
       "   amnt_smoke_alarm  amnt_carbon_monoxide_alarm  \n",
       "0                 1                           0  \n",
       "1                 1                           0  \n",
       "2                 1                           1  \n",
       "3                 1                           1  \n",
       "4                 1                           1  \n",
       "\n",
       "[5 rows x 38 columns]"
      ]
     },
     "execution_count": 175,
     "metadata": {},
     "output_type": "execute_result"
    }
   ],
   "source": [
    "df_listings.head()"
   ]
  },
  {
   "cell_type": "code",
   "execution_count": 177,
   "id": "e7436bd0",
   "metadata": {},
   "outputs": [
    {
     "name": "stdout",
     "output_type": "stream",
     "text": [
      "<class 'pandas.core.frame.DataFrame'>\n",
      "RangeIndex: 23007 entries, 0 to 23006\n",
      "Data columns (total 16 columns):\n",
      " #   Column                  Non-Null Count  Dtype  \n",
      "---  ------                  --------------  -----  \n",
      " 0   neighbourhood_cleansed  23007 non-null  int64  \n",
      " 1   property_type           23007 non-null  object \n",
      " 2   room_type               23007 non-null  object \n",
      " 3   accommodates            23007 non-null  int64  \n",
      " 4   bathrooms               23007 non-null  float64\n",
      " 5   bedrooms                23007 non-null  float64\n",
      " 6   beds                    23007 non-null  float64\n",
      " 7   price                   23007 non-null  float64\n",
      " 8   number_of_reviews       23007 non-null  int64  \n",
      " 9   first_review            19875 non-null  object \n",
      " 10  review_scores_rating    19875 non-null  float64\n",
      " 11  amnt_self_checkin       23007 non-null  int64  \n",
      " 12  amnt_hair_dryer         23007 non-null  int64  \n",
      " 13  amnt_wifi               23007 non-null  int64  \n",
      " 14  amnt_air_conditioning   23007 non-null  int64  \n",
      " 15  amnt_pool               23007 non-null  int64  \n",
      "dtypes: float64(5), int64(8), object(3)\n",
      "memory usage: 2.8+ MB\n"
     ]
    }
   ],
   "source": [
    "# neighbourhood cleansed 라벨인코딩 - 트리는 영향 x -> 랜덤 포레스트?\n",
    "from sklearn.preprocessing import LabelEncoder\n",
    "l_encod = LabelEncoder()\n",
    "\n",
    "df_listings['neighbourhood_cleansed'] = l_encod.fit_transform(df_listings['neighbourhood_cleansed'])\n",
    "df_listings.info()"
   ]
  },
  {
   "cell_type": "markdown",
   "id": "b0271028",
   "metadata": {},
   "source": [
    "first review, review scores rating 칼럼의 결측치\n",
    "- first review의 결측치 행과 review scores rating의 결측치 행이 완벽히 일치함\n",
    "- first review의 NaN은 '아직 없다' -> '리뷰가 없다' -> review scores rating = 0 으로 해석 가능하지만, review scores rating만 보면 NaN을 0점으로 두는 건 의미상 애매.\n",
    "- 아니면 결측치를 따로 분류해주는 Boosting 모델 사용 필요"
   ]
  },
  {
   "cell_type": "code",
   "execution_count": 178,
   "id": "6349c631",
   "metadata": {},
   "outputs": [
    {
     "name": "stdout",
     "output_type": "stream",
     "text": [
      "datetime64[ns]\n",
      "--------------------------------------------------\n"
     ]
    },
    {
     "data": {
      "text/html": [
       "<div>\n",
       "<style scoped>\n",
       "    .dataframe tbody tr th:only-of-type {\n",
       "        vertical-align: middle;\n",
       "    }\n",
       "\n",
       "    .dataframe tbody tr th {\n",
       "        vertical-align: top;\n",
       "    }\n",
       "\n",
       "    .dataframe thead th {\n",
       "        text-align: right;\n",
       "    }\n",
       "</style>\n",
       "<table border=\"1\" class=\"dataframe\">\n",
       "  <thead>\n",
       "    <tr style=\"text-align: right;\">\n",
       "      <th></th>\n",
       "      <th>first_review</th>\n",
       "    </tr>\n",
       "  </thead>\n",
       "  <tbody>\n",
       "    <tr>\n",
       "      <th>0</th>\n",
       "      <td>NaT</td>\n",
       "    </tr>\n",
       "    <tr>\n",
       "      <th>1</th>\n",
       "      <td>NaT</td>\n",
       "    </tr>\n",
       "    <tr>\n",
       "      <th>2</th>\n",
       "      <td>2023-12-04</td>\n",
       "    </tr>\n",
       "    <tr>\n",
       "      <th>3</th>\n",
       "      <td>2024-01-10</td>\n",
       "    </tr>\n",
       "    <tr>\n",
       "      <th>4</th>\n",
       "      <td>2023-12-26</td>\n",
       "    </tr>\n",
       "    <tr>\n",
       "      <th>5</th>\n",
       "      <td>2023-12-26</td>\n",
       "    </tr>\n",
       "    <tr>\n",
       "      <th>6</th>\n",
       "      <td>2023-12-10</td>\n",
       "    </tr>\n",
       "    <tr>\n",
       "      <th>7</th>\n",
       "      <td>2023-12-24</td>\n",
       "    </tr>\n",
       "    <tr>\n",
       "      <th>8</th>\n",
       "      <td>2023-12-10</td>\n",
       "    </tr>\n",
       "    <tr>\n",
       "      <th>9</th>\n",
       "      <td>2023-12-07</td>\n",
       "    </tr>\n",
       "    <tr>\n",
       "      <th>10</th>\n",
       "      <td>2024-01-18</td>\n",
       "    </tr>\n",
       "    <tr>\n",
       "      <th>11</th>\n",
       "      <td>2023-12-20</td>\n",
       "    </tr>\n",
       "    <tr>\n",
       "      <th>12</th>\n",
       "      <td>2023-12-10</td>\n",
       "    </tr>\n",
       "    <tr>\n",
       "      <th>13</th>\n",
       "      <td>2023-12-26</td>\n",
       "    </tr>\n",
       "    <tr>\n",
       "      <th>14</th>\n",
       "      <td>2023-12-11</td>\n",
       "    </tr>\n",
       "  </tbody>\n",
       "</table>\n",
       "</div>"
      ],
      "text/plain": [
       "   first_review\n",
       "0           NaT\n",
       "1           NaT\n",
       "2    2023-12-04\n",
       "3    2024-01-10\n",
       "4    2023-12-26\n",
       "5    2023-12-26\n",
       "6    2023-12-10\n",
       "7    2023-12-24\n",
       "8    2023-12-10\n",
       "9    2023-12-07\n",
       "10   2024-01-18\n",
       "11   2023-12-20\n",
       "12   2023-12-10\n",
       "13   2023-12-26\n",
       "14   2023-12-11"
      ]
     },
     "execution_count": 178,
     "metadata": {},
     "output_type": "execute_result"
    }
   ],
   "source": [
    "# 1.2) first_rivew 컬럼의 데이터 타입 변환\n",
    "df_listings['first_review'] = pd.to_datetime(df_listings['first_review'], errors='coerce')\n",
    "\n",
    "print(df_listings['first_review'].dtype)\n",
    "print('-' * 50)\n",
    "df_listings[['first_review']].head(15)"
   ]
  },
  {
   "cell_type": "code",
   "execution_count": 179,
   "id": "41df60b7",
   "metadata": {},
   "outputs": [
    {
     "data": {
      "text/html": [
       "<div>\n",
       "<style scoped>\n",
       "    .dataframe tbody tr th:only-of-type {\n",
       "        vertical-align: middle;\n",
       "    }\n",
       "\n",
       "    .dataframe tbody tr th {\n",
       "        vertical-align: top;\n",
       "    }\n",
       "\n",
       "    .dataframe thead th {\n",
       "        text-align: right;\n",
       "    }\n",
       "</style>\n",
       "<table border=\"1\" class=\"dataframe\">\n",
       "  <thead>\n",
       "    <tr style=\"text-align: right;\">\n",
       "      <th></th>\n",
       "      <th>number_of_reviews</th>\n",
       "      <th>first_review</th>\n",
       "      <th>days_since_first_review</th>\n",
       "      <th>reviews_per_day_since_first_review</th>\n",
       "    </tr>\n",
       "  </thead>\n",
       "  <tbody>\n",
       "    <tr>\n",
       "      <th>0</th>\n",
       "      <td>0</td>\n",
       "      <td>NaT</td>\n",
       "      <td>NaN</td>\n",
       "      <td>NaN</td>\n",
       "    </tr>\n",
       "    <tr>\n",
       "      <th>1</th>\n",
       "      <td>0</td>\n",
       "      <td>NaT</td>\n",
       "      <td>NaN</td>\n",
       "      <td>NaN</td>\n",
       "    </tr>\n",
       "    <tr>\n",
       "      <th>2</th>\n",
       "      <td>24</td>\n",
       "      <td>2023-12-04</td>\n",
       "      <td>571.00</td>\n",
       "      <td>0.04</td>\n",
       "    </tr>\n",
       "    <tr>\n",
       "      <th>3</th>\n",
       "      <td>15</td>\n",
       "      <td>2024-01-10</td>\n",
       "      <td>534.00</td>\n",
       "      <td>0.03</td>\n",
       "    </tr>\n",
       "    <tr>\n",
       "      <th>4</th>\n",
       "      <td>17</td>\n",
       "      <td>2023-12-26</td>\n",
       "      <td>549.00</td>\n",
       "      <td>0.03</td>\n",
       "    </tr>\n",
       "    <tr>\n",
       "      <th>5</th>\n",
       "      <td>14</td>\n",
       "      <td>2023-12-26</td>\n",
       "      <td>549.00</td>\n",
       "      <td>0.03</td>\n",
       "    </tr>\n",
       "    <tr>\n",
       "      <th>6</th>\n",
       "      <td>47</td>\n",
       "      <td>2023-12-10</td>\n",
       "      <td>565.00</td>\n",
       "      <td>0.08</td>\n",
       "    </tr>\n",
       "    <tr>\n",
       "      <th>7</th>\n",
       "      <td>56</td>\n",
       "      <td>2023-12-24</td>\n",
       "      <td>551.00</td>\n",
       "      <td>0.10</td>\n",
       "    </tr>\n",
       "    <tr>\n",
       "      <th>8</th>\n",
       "      <td>70</td>\n",
       "      <td>2023-12-10</td>\n",
       "      <td>565.00</td>\n",
       "      <td>0.12</td>\n",
       "    </tr>\n",
       "    <tr>\n",
       "      <th>9</th>\n",
       "      <td>55</td>\n",
       "      <td>2023-12-07</td>\n",
       "      <td>568.00</td>\n",
       "      <td>0.10</td>\n",
       "    </tr>\n",
       "  </tbody>\n",
       "</table>\n",
       "</div>"
      ],
      "text/plain": [
       "   number_of_reviews first_review  days_since_first_review  \\\n",
       "0                  0          NaT                      NaN   \n",
       "1                  0          NaT                      NaN   \n",
       "2                 24   2023-12-04                   571.00   \n",
       "3                 15   2024-01-10                   534.00   \n",
       "4                 17   2023-12-26                   549.00   \n",
       "5                 14   2023-12-26                   549.00   \n",
       "6                 47   2023-12-10                   565.00   \n",
       "7                 56   2023-12-24                   551.00   \n",
       "8                 70   2023-12-10                   565.00   \n",
       "9                 55   2023-12-07                   568.00   \n",
       "\n",
       "   reviews_per_day_since_first_review  \n",
       "0                                 NaN  \n",
       "1                                 NaN  \n",
       "2                                0.04  \n",
       "3                                0.03  \n",
       "4                                0.03  \n",
       "5                                0.03  \n",
       "6                                0.08  \n",
       "7                                0.10  \n",
       "8                                0.12  \n",
       "9                                0.10  "
      ]
     },
     "execution_count": 179,
     "metadata": {},
     "output_type": "execute_result"
    }
   ],
   "source": [
    "# 2) 피처 엔지니어링\n",
    "# - 숙소의 open 시기가 다르므로 number_of_riews와 first_review를 이용해 새로운 특성 생성\n",
    "\n",
    "# 기준 날짜 설정\n",
    "reference_date = pd.to_datetime('2025-06-27')\n",
    "# first_review가 결측치인 경우 NaT로 처리되어도 안전하게 계산\n",
    "df_listings['days_since_first_review'] = (reference_date - df_listings['first_review']).dt.days\n",
    "# 결측치가 있으면 결과도 NaN\n",
    "df_listings['reviews_per_day_since_first_review'] = df_listings['number_of_reviews'] / df_listings['days_since_first_review']\n",
    "# 결과 확인\n",
    "df_listings[['number_of_reviews', 'first_review', 'days_since_first_review', \n",
    "             'reviews_per_day_since_first_review']].head(10)"
   ]
  },
  {
   "cell_type": "code",
   "execution_count": 180,
   "id": "63d75430",
   "metadata": {},
   "outputs": [
    {
     "name": "stdout",
     "output_type": "stream",
     "text": [
      "<class 'pandas.core.frame.DataFrame'>\n",
      "RangeIndex: 23007 entries, 0 to 23006\n",
      "Data columns (total 18 columns):\n",
      " #   Column                              Non-Null Count  Dtype         \n",
      "---  ------                              --------------  -----         \n",
      " 0   neighbourhood_cleansed              23007 non-null  int64         \n",
      " 1   property_type                       23007 non-null  object        \n",
      " 2   room_type                           23007 non-null  int64         \n",
      " 3   accommodates                        23007 non-null  int64         \n",
      " 4   bathrooms                           23007 non-null  float64       \n",
      " 5   bedrooms                            23007 non-null  float64       \n",
      " 6   beds                                23007 non-null  float64       \n",
      " 7   price                               23007 non-null  float64       \n",
      " 8   number_of_reviews                   23007 non-null  int64         \n",
      " 9   first_review                        19875 non-null  datetime64[ns]\n",
      " 10  review_scores_rating                19875 non-null  float64       \n",
      " 11  amnt_self_checkin                   23007 non-null  int64         \n",
      " 12  amnt_hair_dryer                     23007 non-null  int64         \n",
      " 13  amnt_wifi                           23007 non-null  int64         \n",
      " 14  amnt_air_conditioning               23007 non-null  int64         \n",
      " 15  amnt_pool                           23007 non-null  int64         \n",
      " 16  days_since_first_review             19875 non-null  float64       \n",
      " 17  reviews_per_day_since_first_review  19875 non-null  float64       \n",
      "dtypes: datetime64[ns](1), float64(7), int64(9), object(1)\n",
      "memory usage: 3.2+ MB\n"
     ]
    }
   ],
   "source": [
    "# room_type 라벨 인코딩\n",
    "l_encod = LabelEncoder()\n",
    "\n",
    "df_listings['room_type'] = l_encod.fit_transform(df_listings['room_type'])\n",
    "df_listings.info()"
   ]
  },
  {
   "cell_type": "code",
   "execution_count": null,
   "id": "11901cb7",
   "metadata": {},
   "outputs": [],
   "source": [
    "# infinite값을 NaN으로 대체\n",
    "df_listings.replace([np.inf, -np.inf], np.nan, inplace=True)\n",
    "\n",
    "df_test = df_listings.drop(['property_type', 'number_of_reviews', 'first_review', 'days_since_first_review'], axis=1)"
   ]
  },
  {
   "cell_type": "code",
   "execution_count": null,
   "id": "32bc8eaa",
   "metadata": {},
   "outputs": [],
   "source": [
    "# 학습-검사 데이터 분리\n",
    "from sklearn.model_selection import train_test_split\n",
    "\n",
    "X = df_test.drop('price', axis=1)\n",
    "y = df_test['price']\n",
    "\n",
    "X_train, X_test, y_train, y_test = train_test_split(X, y, random_state=0)"
   ]
  },
  {
   "cell_type": "markdown",
   "id": "3a46445a",
   "metadata": {},
   "source": [
    "# 버릴 것"
   ]
  },
  {
   "cell_type": "code",
   "execution_count": 106,
   "id": "06220b92",
   "metadata": {},
   "outputs": [],
   "source": [
    "# 1. SVR 모델 학습\n",
    "    # - train, test 데이터 나누기\n",
    "from sklearn.model_selection import train_test_split\n",
    "from sklearn.svm import SVR\n",
    "\n",
    "X = df_test.drop('price', axis=1)\n",
    "y = df_test['price']\n",
    "\n",
    "X_train, X_test, y_train, y_test = train_test_split(X, y, random_state=0)"
   ]
  },
  {
   "cell_type": "code",
   "execution_count": 107,
   "id": "a029084f",
   "metadata": {},
   "outputs": [
    {
     "ename": "ValueError",
     "evalue": "Input X contains NaN.\nSVR does not accept missing values encoded as NaN natively. For supervised learning, you might want to consider sklearn.ensemble.HistGradientBoostingClassifier and Regressor which accept missing values encoded as NaNs natively. Alternatively, it is possible to preprocess the data, for instance by using an imputer transformer in a pipeline or drop samples with missing values. See https://scikit-learn.org/stable/modules/impute.html You can find a list of all estimators that handle NaN values at the following page: https://scikit-learn.org/stable/modules/impute.html#estimators-that-handle-nan-values",
     "output_type": "error",
     "traceback": [
      "\u001b[31m---------------------------------------------------------------------------\u001b[39m",
      "\u001b[31mValueError\u001b[39m                                Traceback (most recent call last)",
      "\u001b[36mCell\u001b[39m\u001b[36m \u001b[39m\u001b[32mIn[107]\u001b[39m\u001b[32m, line 6\u001b[39m\n\u001b[32m      4\u001b[39m \u001b[38;5;28;01mfor\u001b[39;00m c \u001b[38;5;129;01min\u001b[39;00m C:\n\u001b[32m      5\u001b[39m     svr = SVR(kernel=\u001b[33m'\u001b[39m\u001b[33mrbf\u001b[39m\u001b[33m'\u001b[39m, C=c)\n\u001b[32m----> \u001b[39m\u001b[32m6\u001b[39m     \u001b[43msvr\u001b[49m\u001b[43m.\u001b[49m\u001b[43mfit\u001b[49m\u001b[43m(\u001b[49m\u001b[43mX_train\u001b[49m\u001b[43m,\u001b[49m\u001b[43m \u001b[49m\u001b[43my_train\u001b[49m\u001b[43m)\u001b[49m\n\u001b[32m      7\u001b[39m     \u001b[38;5;28mprint\u001b[39m(\u001b[33mf\u001b[39m\u001b[33m'\u001b[39m\u001b[33mc=\u001b[39m\u001b[38;5;132;01m{\u001b[39;00mc\u001b[38;5;132;01m}\u001b[39;00m\u001b[33m일 때 \u001b[39m\u001b[38;5;132;01m{\u001b[39;00msvr.score(X_train,\u001b[38;5;250m \u001b[39my_train)\u001b[38;5;132;01m}\u001b[39;00m\u001b[33m, \u001b[39m\u001b[38;5;132;01m{\u001b[39;00msvr.score(X_test,\u001b[38;5;250m \u001b[39my_test)\u001b[38;5;132;01m}\u001b[39;00m\u001b[33m'\u001b[39m)\n",
      "\u001b[36mFile \u001b[39m\u001b[32mc:\\Users\\Playdata\\AppData\\Local\\anaconda3\\envs\\ml_env\\Lib\\site-packages\\sklearn\\base.py:1365\u001b[39m, in \u001b[36m_fit_context.<locals>.decorator.<locals>.wrapper\u001b[39m\u001b[34m(estimator, *args, **kwargs)\u001b[39m\n\u001b[32m   1358\u001b[39m     estimator._validate_params()\n\u001b[32m   1360\u001b[39m \u001b[38;5;28;01mwith\u001b[39;00m config_context(\n\u001b[32m   1361\u001b[39m     skip_parameter_validation=(\n\u001b[32m   1362\u001b[39m         prefer_skip_nested_validation \u001b[38;5;129;01mor\u001b[39;00m global_skip_validation\n\u001b[32m   1363\u001b[39m     )\n\u001b[32m   1364\u001b[39m ):\n\u001b[32m-> \u001b[39m\u001b[32m1365\u001b[39m     \u001b[38;5;28;01mreturn\u001b[39;00m \u001b[43mfit_method\u001b[49m\u001b[43m(\u001b[49m\u001b[43mestimator\u001b[49m\u001b[43m,\u001b[49m\u001b[43m \u001b[49m\u001b[43m*\u001b[49m\u001b[43margs\u001b[49m\u001b[43m,\u001b[49m\u001b[43m \u001b[49m\u001b[43m*\u001b[49m\u001b[43m*\u001b[49m\u001b[43mkwargs\u001b[49m\u001b[43m)\u001b[49m\n",
      "\u001b[36mFile \u001b[39m\u001b[32mc:\\Users\\Playdata\\AppData\\Local\\anaconda3\\envs\\ml_env\\Lib\\site-packages\\sklearn\\svm\\_base.py:197\u001b[39m, in \u001b[36mBaseLibSVM.fit\u001b[39m\u001b[34m(self, X, y, sample_weight)\u001b[39m\n\u001b[32m    195\u001b[39m     check_consistent_length(X, y)\n\u001b[32m    196\u001b[39m \u001b[38;5;28;01melse\u001b[39;00m:\n\u001b[32m--> \u001b[39m\u001b[32m197\u001b[39m     X, y = \u001b[43mvalidate_data\u001b[49m\u001b[43m(\u001b[49m\n\u001b[32m    198\u001b[39m \u001b[43m        \u001b[49m\u001b[38;5;28;43mself\u001b[39;49m\u001b[43m,\u001b[49m\n\u001b[32m    199\u001b[39m \u001b[43m        \u001b[49m\u001b[43mX\u001b[49m\u001b[43m,\u001b[49m\n\u001b[32m    200\u001b[39m \u001b[43m        \u001b[49m\u001b[43my\u001b[49m\u001b[43m,\u001b[49m\n\u001b[32m    201\u001b[39m \u001b[43m        \u001b[49m\u001b[43mdtype\u001b[49m\u001b[43m=\u001b[49m\u001b[43mnp\u001b[49m\u001b[43m.\u001b[49m\u001b[43mfloat64\u001b[49m\u001b[43m,\u001b[49m\n\u001b[32m    202\u001b[39m \u001b[43m        \u001b[49m\u001b[43morder\u001b[49m\u001b[43m=\u001b[49m\u001b[33;43m\"\u001b[39;49m\u001b[33;43mC\u001b[39;49m\u001b[33;43m\"\u001b[39;49m\u001b[43m,\u001b[49m\n\u001b[32m    203\u001b[39m \u001b[43m        \u001b[49m\u001b[43maccept_sparse\u001b[49m\u001b[43m=\u001b[49m\u001b[33;43m\"\u001b[39;49m\u001b[33;43mcsr\u001b[39;49m\u001b[33;43m\"\u001b[39;49m\u001b[43m,\u001b[49m\n\u001b[32m    204\u001b[39m \u001b[43m        \u001b[49m\u001b[43maccept_large_sparse\u001b[49m\u001b[43m=\u001b[49m\u001b[38;5;28;43;01mFalse\u001b[39;49;00m\u001b[43m,\u001b[49m\n\u001b[32m    205\u001b[39m \u001b[43m    \u001b[49m\u001b[43m)\u001b[49m\n\u001b[32m    207\u001b[39m y = \u001b[38;5;28mself\u001b[39m._validate_targets(y)\n\u001b[32m    209\u001b[39m sample_weight = np.asarray(\n\u001b[32m    210\u001b[39m     [] \u001b[38;5;28;01mif\u001b[39;00m sample_weight \u001b[38;5;129;01mis\u001b[39;00m \u001b[38;5;28;01mNone\u001b[39;00m \u001b[38;5;28;01melse\u001b[39;00m sample_weight, dtype=np.float64\n\u001b[32m    211\u001b[39m )\n",
      "\u001b[36mFile \u001b[39m\u001b[32mc:\\Users\\Playdata\\AppData\\Local\\anaconda3\\envs\\ml_env\\Lib\\site-packages\\sklearn\\utils\\validation.py:2971\u001b[39m, in \u001b[36mvalidate_data\u001b[39m\u001b[34m(_estimator, X, y, reset, validate_separately, skip_check_array, **check_params)\u001b[39m\n\u001b[32m   2969\u001b[39m         y = check_array(y, input_name=\u001b[33m\"\u001b[39m\u001b[33my\u001b[39m\u001b[33m\"\u001b[39m, **check_y_params)\n\u001b[32m   2970\u001b[39m     \u001b[38;5;28;01melse\u001b[39;00m:\n\u001b[32m-> \u001b[39m\u001b[32m2971\u001b[39m         X, y = \u001b[43mcheck_X_y\u001b[49m\u001b[43m(\u001b[49m\u001b[43mX\u001b[49m\u001b[43m,\u001b[49m\u001b[43m \u001b[49m\u001b[43my\u001b[49m\u001b[43m,\u001b[49m\u001b[43m \u001b[49m\u001b[43m*\u001b[49m\u001b[43m*\u001b[49m\u001b[43mcheck_params\u001b[49m\u001b[43m)\u001b[49m\n\u001b[32m   2972\u001b[39m     out = X, y\n\u001b[32m   2974\u001b[39m \u001b[38;5;28;01mif\u001b[39;00m \u001b[38;5;129;01mnot\u001b[39;00m no_val_X \u001b[38;5;129;01mand\u001b[39;00m check_params.get(\u001b[33m\"\u001b[39m\u001b[33mensure_2d\u001b[39m\u001b[33m\"\u001b[39m, \u001b[38;5;28;01mTrue\u001b[39;00m):\n",
      "\u001b[36mFile \u001b[39m\u001b[32mc:\\Users\\Playdata\\AppData\\Local\\anaconda3\\envs\\ml_env\\Lib\\site-packages\\sklearn\\utils\\validation.py:1368\u001b[39m, in \u001b[36mcheck_X_y\u001b[39m\u001b[34m(X, y, accept_sparse, accept_large_sparse, dtype, order, copy, force_writeable, force_all_finite, ensure_all_finite, ensure_2d, allow_nd, multi_output, ensure_min_samples, ensure_min_features, y_numeric, estimator)\u001b[39m\n\u001b[32m   1362\u001b[39m     \u001b[38;5;28;01mraise\u001b[39;00m \u001b[38;5;167;01mValueError\u001b[39;00m(\n\u001b[32m   1363\u001b[39m         \u001b[33mf\u001b[39m\u001b[33m\"\u001b[39m\u001b[38;5;132;01m{\u001b[39;00mestimator_name\u001b[38;5;132;01m}\u001b[39;00m\u001b[33m requires y to be passed, but the target y is None\u001b[39m\u001b[33m\"\u001b[39m\n\u001b[32m   1364\u001b[39m     )\n\u001b[32m   1366\u001b[39m ensure_all_finite = _deprecate_force_all_finite(force_all_finite, ensure_all_finite)\n\u001b[32m-> \u001b[39m\u001b[32m1368\u001b[39m X = \u001b[43mcheck_array\u001b[49m\u001b[43m(\u001b[49m\n\u001b[32m   1369\u001b[39m \u001b[43m    \u001b[49m\u001b[43mX\u001b[49m\u001b[43m,\u001b[49m\n\u001b[32m   1370\u001b[39m \u001b[43m    \u001b[49m\u001b[43maccept_sparse\u001b[49m\u001b[43m=\u001b[49m\u001b[43maccept_sparse\u001b[49m\u001b[43m,\u001b[49m\n\u001b[32m   1371\u001b[39m \u001b[43m    \u001b[49m\u001b[43maccept_large_sparse\u001b[49m\u001b[43m=\u001b[49m\u001b[43maccept_large_sparse\u001b[49m\u001b[43m,\u001b[49m\n\u001b[32m   1372\u001b[39m \u001b[43m    \u001b[49m\u001b[43mdtype\u001b[49m\u001b[43m=\u001b[49m\u001b[43mdtype\u001b[49m\u001b[43m,\u001b[49m\n\u001b[32m   1373\u001b[39m \u001b[43m    \u001b[49m\u001b[43morder\u001b[49m\u001b[43m=\u001b[49m\u001b[43morder\u001b[49m\u001b[43m,\u001b[49m\n\u001b[32m   1374\u001b[39m \u001b[43m    \u001b[49m\u001b[43mcopy\u001b[49m\u001b[43m=\u001b[49m\u001b[43mcopy\u001b[49m\u001b[43m,\u001b[49m\n\u001b[32m   1375\u001b[39m \u001b[43m    \u001b[49m\u001b[43mforce_writeable\u001b[49m\u001b[43m=\u001b[49m\u001b[43mforce_writeable\u001b[49m\u001b[43m,\u001b[49m\n\u001b[32m   1376\u001b[39m \u001b[43m    \u001b[49m\u001b[43mensure_all_finite\u001b[49m\u001b[43m=\u001b[49m\u001b[43mensure_all_finite\u001b[49m\u001b[43m,\u001b[49m\n\u001b[32m   1377\u001b[39m \u001b[43m    \u001b[49m\u001b[43mensure_2d\u001b[49m\u001b[43m=\u001b[49m\u001b[43mensure_2d\u001b[49m\u001b[43m,\u001b[49m\n\u001b[32m   1378\u001b[39m \u001b[43m    \u001b[49m\u001b[43mallow_nd\u001b[49m\u001b[43m=\u001b[49m\u001b[43mallow_nd\u001b[49m\u001b[43m,\u001b[49m\n\u001b[32m   1379\u001b[39m \u001b[43m    \u001b[49m\u001b[43mensure_min_samples\u001b[49m\u001b[43m=\u001b[49m\u001b[43mensure_min_samples\u001b[49m\u001b[43m,\u001b[49m\n\u001b[32m   1380\u001b[39m \u001b[43m    \u001b[49m\u001b[43mensure_min_features\u001b[49m\u001b[43m=\u001b[49m\u001b[43mensure_min_features\u001b[49m\u001b[43m,\u001b[49m\n\u001b[32m   1381\u001b[39m \u001b[43m    \u001b[49m\u001b[43mestimator\u001b[49m\u001b[43m=\u001b[49m\u001b[43mestimator\u001b[49m\u001b[43m,\u001b[49m\n\u001b[32m   1382\u001b[39m \u001b[43m    \u001b[49m\u001b[43minput_name\u001b[49m\u001b[43m=\u001b[49m\u001b[33;43m\"\u001b[39;49m\u001b[33;43mX\u001b[39;49m\u001b[33;43m\"\u001b[39;49m\u001b[43m,\u001b[49m\n\u001b[32m   1383\u001b[39m \u001b[43m\u001b[49m\u001b[43m)\u001b[49m\n\u001b[32m   1385\u001b[39m y = _check_y(y, multi_output=multi_output, y_numeric=y_numeric, estimator=estimator)\n\u001b[32m   1387\u001b[39m check_consistent_length(X, y)\n",
      "\u001b[36mFile \u001b[39m\u001b[32mc:\\Users\\Playdata\\AppData\\Local\\anaconda3\\envs\\ml_env\\Lib\\site-packages\\sklearn\\utils\\validation.py:1105\u001b[39m, in \u001b[36mcheck_array\u001b[39m\u001b[34m(array, accept_sparse, accept_large_sparse, dtype, order, copy, force_writeable, force_all_finite, ensure_all_finite, ensure_non_negative, ensure_2d, allow_nd, ensure_min_samples, ensure_min_features, estimator, input_name)\u001b[39m\n\u001b[32m   1099\u001b[39m     \u001b[38;5;28;01mraise\u001b[39;00m \u001b[38;5;167;01mValueError\u001b[39;00m(\n\u001b[32m   1100\u001b[39m         \u001b[33mf\u001b[39m\u001b[33m\"\u001b[39m\u001b[33mFound array with dim \u001b[39m\u001b[38;5;132;01m{\u001b[39;00marray.ndim\u001b[38;5;132;01m}\u001b[39;00m\u001b[33m,\u001b[39m\u001b[33m\"\u001b[39m\n\u001b[32m   1101\u001b[39m         \u001b[33mf\u001b[39m\u001b[33m\"\u001b[39m\u001b[33m while dim <= 2 is required\u001b[39m\u001b[38;5;132;01m{\u001b[39;00mcontext\u001b[38;5;132;01m}\u001b[39;00m\u001b[33m.\u001b[39m\u001b[33m\"\u001b[39m\n\u001b[32m   1102\u001b[39m     )\n\u001b[32m   1104\u001b[39m \u001b[38;5;28;01mif\u001b[39;00m ensure_all_finite:\n\u001b[32m-> \u001b[39m\u001b[32m1105\u001b[39m     \u001b[43m_assert_all_finite\u001b[49m\u001b[43m(\u001b[49m\n\u001b[32m   1106\u001b[39m \u001b[43m        \u001b[49m\u001b[43marray\u001b[49m\u001b[43m,\u001b[49m\n\u001b[32m   1107\u001b[39m \u001b[43m        \u001b[49m\u001b[43minput_name\u001b[49m\u001b[43m=\u001b[49m\u001b[43minput_name\u001b[49m\u001b[43m,\u001b[49m\n\u001b[32m   1108\u001b[39m \u001b[43m        \u001b[49m\u001b[43mestimator_name\u001b[49m\u001b[43m=\u001b[49m\u001b[43mestimator_name\u001b[49m\u001b[43m,\u001b[49m\n\u001b[32m   1109\u001b[39m \u001b[43m        \u001b[49m\u001b[43mallow_nan\u001b[49m\u001b[43m=\u001b[49m\u001b[43mensure_all_finite\u001b[49m\u001b[43m \u001b[49m\u001b[43m==\u001b[49m\u001b[43m \u001b[49m\u001b[33;43m\"\u001b[39;49m\u001b[33;43mallow-nan\u001b[39;49m\u001b[33;43m\"\u001b[39;49m\u001b[43m,\u001b[49m\n\u001b[32m   1110\u001b[39m \u001b[43m    \u001b[49m\u001b[43m)\u001b[49m\n\u001b[32m   1112\u001b[39m \u001b[38;5;28;01mif\u001b[39;00m copy:\n\u001b[32m   1113\u001b[39m     \u001b[38;5;28;01mif\u001b[39;00m _is_numpy_namespace(xp):\n\u001b[32m   1114\u001b[39m         \u001b[38;5;66;03m# only make a copy if `array` and `array_orig` may share memory`\u001b[39;00m\n",
      "\u001b[36mFile \u001b[39m\u001b[32mc:\\Users\\Playdata\\AppData\\Local\\anaconda3\\envs\\ml_env\\Lib\\site-packages\\sklearn\\utils\\validation.py:120\u001b[39m, in \u001b[36m_assert_all_finite\u001b[39m\u001b[34m(X, allow_nan, msg_dtype, estimator_name, input_name)\u001b[39m\n\u001b[32m    117\u001b[39m \u001b[38;5;28;01mif\u001b[39;00m first_pass_isfinite:\n\u001b[32m    118\u001b[39m     \u001b[38;5;28;01mreturn\u001b[39;00m\n\u001b[32m--> \u001b[39m\u001b[32m120\u001b[39m \u001b[43m_assert_all_finite_element_wise\u001b[49m\u001b[43m(\u001b[49m\n\u001b[32m    121\u001b[39m \u001b[43m    \u001b[49m\u001b[43mX\u001b[49m\u001b[43m,\u001b[49m\n\u001b[32m    122\u001b[39m \u001b[43m    \u001b[49m\u001b[43mxp\u001b[49m\u001b[43m=\u001b[49m\u001b[43mxp\u001b[49m\u001b[43m,\u001b[49m\n\u001b[32m    123\u001b[39m \u001b[43m    \u001b[49m\u001b[43mallow_nan\u001b[49m\u001b[43m=\u001b[49m\u001b[43mallow_nan\u001b[49m\u001b[43m,\u001b[49m\n\u001b[32m    124\u001b[39m \u001b[43m    \u001b[49m\u001b[43mmsg_dtype\u001b[49m\u001b[43m=\u001b[49m\u001b[43mmsg_dtype\u001b[49m\u001b[43m,\u001b[49m\n\u001b[32m    125\u001b[39m \u001b[43m    \u001b[49m\u001b[43mestimator_name\u001b[49m\u001b[43m=\u001b[49m\u001b[43mestimator_name\u001b[49m\u001b[43m,\u001b[49m\n\u001b[32m    126\u001b[39m \u001b[43m    \u001b[49m\u001b[43minput_name\u001b[49m\u001b[43m=\u001b[49m\u001b[43minput_name\u001b[49m\u001b[43m,\u001b[49m\n\u001b[32m    127\u001b[39m \u001b[43m\u001b[49m\u001b[43m)\u001b[49m\n",
      "\u001b[36mFile \u001b[39m\u001b[32mc:\\Users\\Playdata\\AppData\\Local\\anaconda3\\envs\\ml_env\\Lib\\site-packages\\sklearn\\utils\\validation.py:169\u001b[39m, in \u001b[36m_assert_all_finite_element_wise\u001b[39m\u001b[34m(X, xp, allow_nan, msg_dtype, estimator_name, input_name)\u001b[39m\n\u001b[32m    152\u001b[39m \u001b[38;5;28;01mif\u001b[39;00m estimator_name \u001b[38;5;129;01mand\u001b[39;00m input_name == \u001b[33m\"\u001b[39m\u001b[33mX\u001b[39m\u001b[33m\"\u001b[39m \u001b[38;5;129;01mand\u001b[39;00m has_nan_error:\n\u001b[32m    153\u001b[39m     \u001b[38;5;66;03m# Improve the error message on how to handle missing values in\u001b[39;00m\n\u001b[32m    154\u001b[39m     \u001b[38;5;66;03m# scikit-learn.\u001b[39;00m\n\u001b[32m    155\u001b[39m     msg_err += (\n\u001b[32m    156\u001b[39m         \u001b[33mf\u001b[39m\u001b[33m\"\u001b[39m\u001b[38;5;130;01m\\n\u001b[39;00m\u001b[38;5;132;01m{\u001b[39;00mestimator_name\u001b[38;5;132;01m}\u001b[39;00m\u001b[33m does not accept missing values\u001b[39m\u001b[33m\"\u001b[39m\n\u001b[32m    157\u001b[39m         \u001b[33m\"\u001b[39m\u001b[33m encoded as NaN natively. For supervised learning, you might want\u001b[39m\u001b[33m\"\u001b[39m\n\u001b[32m   (...)\u001b[39m\u001b[32m    167\u001b[39m         \u001b[33m\"\u001b[39m\u001b[33m#estimators-that-handle-nan-values\u001b[39m\u001b[33m\"\u001b[39m\n\u001b[32m    168\u001b[39m     )\n\u001b[32m--> \u001b[39m\u001b[32m169\u001b[39m \u001b[38;5;28;01mraise\u001b[39;00m \u001b[38;5;167;01mValueError\u001b[39;00m(msg_err)\n",
      "\u001b[31mValueError\u001b[39m: Input X contains NaN.\nSVR does not accept missing values encoded as NaN natively. For supervised learning, you might want to consider sklearn.ensemble.HistGradientBoostingClassifier and Regressor which accept missing values encoded as NaNs natively. Alternatively, it is possible to preprocess the data, for instance by using an imputer transformer in a pipeline or drop samples with missing values. See https://scikit-learn.org/stable/modules/impute.html You can find a list of all estimators that handle NaN values at the following page: https://scikit-learn.org/stable/modules/impute.html#estimators-that-handle-nan-values"
     ]
    }
   ],
   "source": [
    "# 1. SVR 모델 학습\n",
    "    # - kernel='rbf' 고정, C값 변화에 따른 평가\n",
    "C = [100, 500, 1000, 2000, 5000, 10000]\n",
    "for c in C:\n",
    "    svr = SVR(kernel='rbf', C=c)\n",
    "    svr.fit(X_train, y_train)\n",
    "    print(f'c={c}일 때 {svr.score(X_train, y_train)}, {svr.score(X_test, y_test)}')"
   ]
  },
  {
   "cell_type": "code",
   "execution_count": null,
   "id": "778400ec",
   "metadata": {},
   "outputs": [
    {
     "name": "stdout",
     "output_type": "stream",
     "text": [
      "교차검증 결과\n"
     ]
    },
    {
     "data": {
      "text/plain": [
       "{'fit_time': array([9.0364964 , 9.51146293, 9.14123583]),\n",
       " 'score_time': array([8.25092769, 8.2622757 , 8.1827054 ]),\n",
       " 'test_score': array([0.17288002, 0.36030653, 0.29355316])}"
      ]
     },
     "execution_count": 55,
     "metadata": {},
     "output_type": "execute_result"
    }
   ],
   "source": [
    "# 1. SVR 모델 학습\n",
    "    # - 교차 검증. 0.33~0.38\n",
    "from sklearn.model_selection import cross_validate\n",
    "\n",
    "model = SVR(C=10000)\n",
    "scores = cross_validate(model, X, y, cv=3)\n",
    "print(\"교차검증 결과\")\n",
    "scores"
   ]
  },
  {
   "cell_type": "code",
   "execution_count": null,
   "id": "dcc71e46",
   "metadata": {},
   "outputs": [
    {
     "name": "stdout",
     "output_type": "stream",
     "text": [
      "0.5909235200446562 0.4881666649163173\n"
     ]
    }
   ],
   "source": [
    "# 2. 결정트리 모델 학습\n",
    "    # - max_depth 값만 바꾸어 가며 테스트. 8일 때 굿\n",
    "from sklearn.tree import DecisionTreeRegressor\n",
    "\n",
    "dt_reg = DecisionTreeRegressor(random_state=0, max_depth=9)\n",
    "#   random_state= 고정하는 이유: 질문의 형태가 달라져서(가하는 규칙이 달라져서) test 데이터 평가 점수도 달라짐\n",
    "dt_reg.fit(X_train, y_train)\n",
    "\n",
    "print(dt_reg.score(X_train, y_train), dt_reg.score(X_test, y_test))\n",
    "\n",
    "# max_depth = 6일 때 0.45241919224702387 0.46516175222154543\n",
    "# max_depth = 7일 때 0.4897668291727424 0.4781175264605855\n",
    "# max_depth = 8일 때 0.5369293617954587 0.4868926609519989\n",
    "# max_depth = 9일 때 0.5909235200446562 0.4881666649163173"
   ]
  },
  {
   "cell_type": "code",
   "execution_count": null,
   "id": "31fbbc2b",
   "metadata": {},
   "outputs": [
    {
     "name": "stdout",
     "output_type": "stream",
     "text": [
      "교차검증 결과\n"
     ]
    },
    {
     "data": {
      "text/plain": [
       "{'fit_time': array([0.06186557, 0.0432055 , 0.052495  , 0.04203296, 0.04188418]),\n",
       " 'score_time': array([0.        , 0.00527048, 0.        , 0.00382185, 0.00425768]),\n",
       " 'test_score': array([0.3948815 , 0.39997587, 0.41349144, 0.46241887, 0.32891093])}"
      ]
     },
     "execution_count": 66,
     "metadata": {},
     "output_type": "execute_result"
    }
   ],
   "source": [
    "# 1. SVR 모델 학습\n",
    "    # - 교차 검증 0.39 ~ 0.46\n",
    "from sklearn.model_selection import cross_validate\n",
    "\n",
    "model = DecisionTreeRegressor(max_depth = 7)\n",
    "scores = cross_validate(model, X, y, cv=5)\n",
    "print(\"교차검증 결과\")\n",
    "scores"
   ]
  },
  {
   "cell_type": "code",
   "execution_count": null,
   "id": "f2f9e2cc",
   "metadata": {},
   "outputs": [
    {
     "ename": "ValueError",
     "evalue": "Input X contains NaN.\nGradientBoostingRegressor does not accept missing values encoded as NaN natively. For supervised learning, you might want to consider sklearn.ensemble.HistGradientBoostingClassifier and Regressor which accept missing values encoded as NaNs natively. Alternatively, it is possible to preprocess the data, for instance by using an imputer transformer in a pipeline or drop samples with missing values. See https://scikit-learn.org/stable/modules/impute.html You can find a list of all estimators that handle NaN values at the following page: https://scikit-learn.org/stable/modules/impute.html#estimators-that-handle-nan-values",
     "output_type": "error",
     "traceback": [
      "\u001b[31m---------------------------------------------------------------------------\u001b[39m",
      "\u001b[31mValueError\u001b[39m                                Traceback (most recent call last)",
      "\u001b[36mCell\u001b[39m\u001b[36m \u001b[39m\u001b[32mIn[29]\u001b[39m\u001b[32m, line 10\u001b[39m\n\u001b[32m      2\u001b[39m \u001b[38;5;28;01mfrom\u001b[39;00m\u001b[38;5;250m \u001b[39m\u001b[34;01msklearn\u001b[39;00m\u001b[34;01m.\u001b[39;00m\u001b[34;01mensemble\u001b[39;00m\u001b[38;5;250m \u001b[39m\u001b[38;5;28;01mimport\u001b[39;00m GradientBoostingRegressor\n\u001b[32m      4\u001b[39m gb_reg = GradientBoostingRegressor(\n\u001b[32m      5\u001b[39m     n_estimators=\u001b[32m200\u001b[39m,\n\u001b[32m      6\u001b[39m     learning_rate=\u001b[32m0.05\u001b[39m,\n\u001b[32m      7\u001b[39m     max_depth=\u001b[32m4\u001b[39m\n\u001b[32m      8\u001b[39m )\n\u001b[32m---> \u001b[39m\u001b[32m10\u001b[39m \u001b[43mgb_reg\u001b[49m\u001b[43m.\u001b[49m\u001b[43mfit\u001b[49m\u001b[43m(\u001b[49m\u001b[43mX_train\u001b[49m\u001b[43m,\u001b[49m\u001b[43m \u001b[49m\u001b[43my_train\u001b[49m\u001b[43m)\u001b[49m\n\u001b[32m     12\u001b[39m gb_reg.score(X_train, y_train), gb_reg.score(X_test, y_test)\n\u001b[32m     13\u001b[39m \u001b[38;5;66;03m# max_depth = 5, 0.1 (0.6794981648077398, 0.5775305811768991) < 과적합...\u001b[39;00m\n\u001b[32m     14\u001b[39m \u001b[38;5;66;03m# max_depth = 5, 0.05 (0.6263313403666386, 0.5810145654056729)\u001b[39;00m\n\u001b[32m     15\u001b[39m \u001b[38;5;66;03m# max_depth = 5, 0.01 (0.48996312827868393, 0.5112532107502371) < ??\u001b[39;00m\n\u001b[32m     16\u001b[39m \n\u001b[32m     17\u001b[39m \u001b[38;5;66;03m# max_depth = 4, 0.05 (0.577395618662224, 0.5754668665484852)\u001b[39;00m\n",
      "\u001b[36mFile \u001b[39m\u001b[32mc:\\Users\\Playdata\\AppData\\Local\\anaconda3\\envs\\ml_env\\Lib\\site-packages\\sklearn\\base.py:1365\u001b[39m, in \u001b[36m_fit_context.<locals>.decorator.<locals>.wrapper\u001b[39m\u001b[34m(estimator, *args, **kwargs)\u001b[39m\n\u001b[32m   1358\u001b[39m     estimator._validate_params()\n\u001b[32m   1360\u001b[39m \u001b[38;5;28;01mwith\u001b[39;00m config_context(\n\u001b[32m   1361\u001b[39m     skip_parameter_validation=(\n\u001b[32m   1362\u001b[39m         prefer_skip_nested_validation \u001b[38;5;129;01mor\u001b[39;00m global_skip_validation\n\u001b[32m   1363\u001b[39m     )\n\u001b[32m   1364\u001b[39m ):\n\u001b[32m-> \u001b[39m\u001b[32m1365\u001b[39m     \u001b[38;5;28;01mreturn\u001b[39;00m \u001b[43mfit_method\u001b[49m\u001b[43m(\u001b[49m\u001b[43mestimator\u001b[49m\u001b[43m,\u001b[49m\u001b[43m \u001b[49m\u001b[43m*\u001b[49m\u001b[43margs\u001b[49m\u001b[43m,\u001b[49m\u001b[43m \u001b[49m\u001b[43m*\u001b[49m\u001b[43m*\u001b[49m\u001b[43mkwargs\u001b[49m\u001b[43m)\u001b[49m\n",
      "\u001b[36mFile \u001b[39m\u001b[32mc:\\Users\\Playdata\\AppData\\Local\\anaconda3\\envs\\ml_env\\Lib\\site-packages\\sklearn\\ensemble\\_gb.py:658\u001b[39m, in \u001b[36mBaseGradientBoosting.fit\u001b[39m\u001b[34m(self, X, y, sample_weight, monitor)\u001b[39m\n\u001b[32m    652\u001b[39m     \u001b[38;5;28mself\u001b[39m._clear_state()\n\u001b[32m    654\u001b[39m \u001b[38;5;66;03m# Check input\u001b[39;00m\n\u001b[32m    655\u001b[39m \u001b[38;5;66;03m# Since check_array converts both X and y to the same dtype, but the\u001b[39;00m\n\u001b[32m    656\u001b[39m \u001b[38;5;66;03m# trees use different types for X and y, checking them separately.\u001b[39;00m\n\u001b[32m--> \u001b[39m\u001b[32m658\u001b[39m X, y = \u001b[43mvalidate_data\u001b[49m\u001b[43m(\u001b[49m\n\u001b[32m    659\u001b[39m \u001b[43m    \u001b[49m\u001b[38;5;28;43mself\u001b[39;49m\u001b[43m,\u001b[49m\n\u001b[32m    660\u001b[39m \u001b[43m    \u001b[49m\u001b[43mX\u001b[49m\u001b[43m,\u001b[49m\n\u001b[32m    661\u001b[39m \u001b[43m    \u001b[49m\u001b[43my\u001b[49m\u001b[43m,\u001b[49m\n\u001b[32m    662\u001b[39m \u001b[43m    \u001b[49m\u001b[43maccept_sparse\u001b[49m\u001b[43m=\u001b[49m\u001b[43m[\u001b[49m\u001b[33;43m\"\u001b[39;49m\u001b[33;43mcsr\u001b[39;49m\u001b[33;43m\"\u001b[39;49m\u001b[43m,\u001b[49m\u001b[43m \u001b[49m\u001b[33;43m\"\u001b[39;49m\u001b[33;43mcsc\u001b[39;49m\u001b[33;43m\"\u001b[39;49m\u001b[43m,\u001b[49m\u001b[43m \u001b[49m\u001b[33;43m\"\u001b[39;49m\u001b[33;43mcoo\u001b[39;49m\u001b[33;43m\"\u001b[39;49m\u001b[43m]\u001b[49m\u001b[43m,\u001b[49m\n\u001b[32m    663\u001b[39m \u001b[43m    \u001b[49m\u001b[43mdtype\u001b[49m\u001b[43m=\u001b[49m\u001b[43mDTYPE\u001b[49m\u001b[43m,\u001b[49m\n\u001b[32m    664\u001b[39m \u001b[43m    \u001b[49m\u001b[43mmulti_output\u001b[49m\u001b[43m=\u001b[49m\u001b[38;5;28;43;01mTrue\u001b[39;49;00m\u001b[43m,\u001b[49m\n\u001b[32m    665\u001b[39m \u001b[43m\u001b[49m\u001b[43m)\u001b[49m\n\u001b[32m    666\u001b[39m sample_weight_is_none = sample_weight \u001b[38;5;129;01mis\u001b[39;00m \u001b[38;5;28;01mNone\u001b[39;00m\n\u001b[32m    667\u001b[39m sample_weight = _check_sample_weight(sample_weight, X)\n",
      "\u001b[36mFile \u001b[39m\u001b[32mc:\\Users\\Playdata\\AppData\\Local\\anaconda3\\envs\\ml_env\\Lib\\site-packages\\sklearn\\utils\\validation.py:2971\u001b[39m, in \u001b[36mvalidate_data\u001b[39m\u001b[34m(_estimator, X, y, reset, validate_separately, skip_check_array, **check_params)\u001b[39m\n\u001b[32m   2969\u001b[39m         y = check_array(y, input_name=\u001b[33m\"\u001b[39m\u001b[33my\u001b[39m\u001b[33m\"\u001b[39m, **check_y_params)\n\u001b[32m   2970\u001b[39m     \u001b[38;5;28;01melse\u001b[39;00m:\n\u001b[32m-> \u001b[39m\u001b[32m2971\u001b[39m         X, y = \u001b[43mcheck_X_y\u001b[49m\u001b[43m(\u001b[49m\u001b[43mX\u001b[49m\u001b[43m,\u001b[49m\u001b[43m \u001b[49m\u001b[43my\u001b[49m\u001b[43m,\u001b[49m\u001b[43m \u001b[49m\u001b[43m*\u001b[49m\u001b[43m*\u001b[49m\u001b[43mcheck_params\u001b[49m\u001b[43m)\u001b[49m\n\u001b[32m   2972\u001b[39m     out = X, y\n\u001b[32m   2974\u001b[39m \u001b[38;5;28;01mif\u001b[39;00m \u001b[38;5;129;01mnot\u001b[39;00m no_val_X \u001b[38;5;129;01mand\u001b[39;00m check_params.get(\u001b[33m\"\u001b[39m\u001b[33mensure_2d\u001b[39m\u001b[33m\"\u001b[39m, \u001b[38;5;28;01mTrue\u001b[39;00m):\n",
      "\u001b[36mFile \u001b[39m\u001b[32mc:\\Users\\Playdata\\AppData\\Local\\anaconda3\\envs\\ml_env\\Lib\\site-packages\\sklearn\\utils\\validation.py:1368\u001b[39m, in \u001b[36mcheck_X_y\u001b[39m\u001b[34m(X, y, accept_sparse, accept_large_sparse, dtype, order, copy, force_writeable, force_all_finite, ensure_all_finite, ensure_2d, allow_nd, multi_output, ensure_min_samples, ensure_min_features, y_numeric, estimator)\u001b[39m\n\u001b[32m   1362\u001b[39m     \u001b[38;5;28;01mraise\u001b[39;00m \u001b[38;5;167;01mValueError\u001b[39;00m(\n\u001b[32m   1363\u001b[39m         \u001b[33mf\u001b[39m\u001b[33m\"\u001b[39m\u001b[38;5;132;01m{\u001b[39;00mestimator_name\u001b[38;5;132;01m}\u001b[39;00m\u001b[33m requires y to be passed, but the target y is None\u001b[39m\u001b[33m\"\u001b[39m\n\u001b[32m   1364\u001b[39m     )\n\u001b[32m   1366\u001b[39m ensure_all_finite = _deprecate_force_all_finite(force_all_finite, ensure_all_finite)\n\u001b[32m-> \u001b[39m\u001b[32m1368\u001b[39m X = \u001b[43mcheck_array\u001b[49m\u001b[43m(\u001b[49m\n\u001b[32m   1369\u001b[39m \u001b[43m    \u001b[49m\u001b[43mX\u001b[49m\u001b[43m,\u001b[49m\n\u001b[32m   1370\u001b[39m \u001b[43m    \u001b[49m\u001b[43maccept_sparse\u001b[49m\u001b[43m=\u001b[49m\u001b[43maccept_sparse\u001b[49m\u001b[43m,\u001b[49m\n\u001b[32m   1371\u001b[39m \u001b[43m    \u001b[49m\u001b[43maccept_large_sparse\u001b[49m\u001b[43m=\u001b[49m\u001b[43maccept_large_sparse\u001b[49m\u001b[43m,\u001b[49m\n\u001b[32m   1372\u001b[39m \u001b[43m    \u001b[49m\u001b[43mdtype\u001b[49m\u001b[43m=\u001b[49m\u001b[43mdtype\u001b[49m\u001b[43m,\u001b[49m\n\u001b[32m   1373\u001b[39m \u001b[43m    \u001b[49m\u001b[43morder\u001b[49m\u001b[43m=\u001b[49m\u001b[43morder\u001b[49m\u001b[43m,\u001b[49m\n\u001b[32m   1374\u001b[39m \u001b[43m    \u001b[49m\u001b[43mcopy\u001b[49m\u001b[43m=\u001b[49m\u001b[43mcopy\u001b[49m\u001b[43m,\u001b[49m\n\u001b[32m   1375\u001b[39m \u001b[43m    \u001b[49m\u001b[43mforce_writeable\u001b[49m\u001b[43m=\u001b[49m\u001b[43mforce_writeable\u001b[49m\u001b[43m,\u001b[49m\n\u001b[32m   1376\u001b[39m \u001b[43m    \u001b[49m\u001b[43mensure_all_finite\u001b[49m\u001b[43m=\u001b[49m\u001b[43mensure_all_finite\u001b[49m\u001b[43m,\u001b[49m\n\u001b[32m   1377\u001b[39m \u001b[43m    \u001b[49m\u001b[43mensure_2d\u001b[49m\u001b[43m=\u001b[49m\u001b[43mensure_2d\u001b[49m\u001b[43m,\u001b[49m\n\u001b[32m   1378\u001b[39m \u001b[43m    \u001b[49m\u001b[43mallow_nd\u001b[49m\u001b[43m=\u001b[49m\u001b[43mallow_nd\u001b[49m\u001b[43m,\u001b[49m\n\u001b[32m   1379\u001b[39m \u001b[43m    \u001b[49m\u001b[43mensure_min_samples\u001b[49m\u001b[43m=\u001b[49m\u001b[43mensure_min_samples\u001b[49m\u001b[43m,\u001b[49m\n\u001b[32m   1380\u001b[39m \u001b[43m    \u001b[49m\u001b[43mensure_min_features\u001b[49m\u001b[43m=\u001b[49m\u001b[43mensure_min_features\u001b[49m\u001b[43m,\u001b[49m\n\u001b[32m   1381\u001b[39m \u001b[43m    \u001b[49m\u001b[43mestimator\u001b[49m\u001b[43m=\u001b[49m\u001b[43mestimator\u001b[49m\u001b[43m,\u001b[49m\n\u001b[32m   1382\u001b[39m \u001b[43m    \u001b[49m\u001b[43minput_name\u001b[49m\u001b[43m=\u001b[49m\u001b[33;43m\"\u001b[39;49m\u001b[33;43mX\u001b[39;49m\u001b[33;43m\"\u001b[39;49m\u001b[43m,\u001b[49m\n\u001b[32m   1383\u001b[39m \u001b[43m\u001b[49m\u001b[43m)\u001b[49m\n\u001b[32m   1385\u001b[39m y = _check_y(y, multi_output=multi_output, y_numeric=y_numeric, estimator=estimator)\n\u001b[32m   1387\u001b[39m check_consistent_length(X, y)\n",
      "\u001b[36mFile \u001b[39m\u001b[32mc:\\Users\\Playdata\\AppData\\Local\\anaconda3\\envs\\ml_env\\Lib\\site-packages\\sklearn\\utils\\validation.py:1105\u001b[39m, in \u001b[36mcheck_array\u001b[39m\u001b[34m(array, accept_sparse, accept_large_sparse, dtype, order, copy, force_writeable, force_all_finite, ensure_all_finite, ensure_non_negative, ensure_2d, allow_nd, ensure_min_samples, ensure_min_features, estimator, input_name)\u001b[39m\n\u001b[32m   1099\u001b[39m     \u001b[38;5;28;01mraise\u001b[39;00m \u001b[38;5;167;01mValueError\u001b[39;00m(\n\u001b[32m   1100\u001b[39m         \u001b[33mf\u001b[39m\u001b[33m\"\u001b[39m\u001b[33mFound array with dim \u001b[39m\u001b[38;5;132;01m{\u001b[39;00marray.ndim\u001b[38;5;132;01m}\u001b[39;00m\u001b[33m,\u001b[39m\u001b[33m\"\u001b[39m\n\u001b[32m   1101\u001b[39m         \u001b[33mf\u001b[39m\u001b[33m\"\u001b[39m\u001b[33m while dim <= 2 is required\u001b[39m\u001b[38;5;132;01m{\u001b[39;00mcontext\u001b[38;5;132;01m}\u001b[39;00m\u001b[33m.\u001b[39m\u001b[33m\"\u001b[39m\n\u001b[32m   1102\u001b[39m     )\n\u001b[32m   1104\u001b[39m \u001b[38;5;28;01mif\u001b[39;00m ensure_all_finite:\n\u001b[32m-> \u001b[39m\u001b[32m1105\u001b[39m     \u001b[43m_assert_all_finite\u001b[49m\u001b[43m(\u001b[49m\n\u001b[32m   1106\u001b[39m \u001b[43m        \u001b[49m\u001b[43marray\u001b[49m\u001b[43m,\u001b[49m\n\u001b[32m   1107\u001b[39m \u001b[43m        \u001b[49m\u001b[43minput_name\u001b[49m\u001b[43m=\u001b[49m\u001b[43minput_name\u001b[49m\u001b[43m,\u001b[49m\n\u001b[32m   1108\u001b[39m \u001b[43m        \u001b[49m\u001b[43mestimator_name\u001b[49m\u001b[43m=\u001b[49m\u001b[43mestimator_name\u001b[49m\u001b[43m,\u001b[49m\n\u001b[32m   1109\u001b[39m \u001b[43m        \u001b[49m\u001b[43mallow_nan\u001b[49m\u001b[43m=\u001b[49m\u001b[43mensure_all_finite\u001b[49m\u001b[43m \u001b[49m\u001b[43m==\u001b[49m\u001b[43m \u001b[49m\u001b[33;43m\"\u001b[39;49m\u001b[33;43mallow-nan\u001b[39;49m\u001b[33;43m\"\u001b[39;49m\u001b[43m,\u001b[49m\n\u001b[32m   1110\u001b[39m \u001b[43m    \u001b[49m\u001b[43m)\u001b[49m\n\u001b[32m   1112\u001b[39m \u001b[38;5;28;01mif\u001b[39;00m copy:\n\u001b[32m   1113\u001b[39m     \u001b[38;5;28;01mif\u001b[39;00m _is_numpy_namespace(xp):\n\u001b[32m   1114\u001b[39m         \u001b[38;5;66;03m# only make a copy if `array` and `array_orig` may share memory`\u001b[39;00m\n",
      "\u001b[36mFile \u001b[39m\u001b[32mc:\\Users\\Playdata\\AppData\\Local\\anaconda3\\envs\\ml_env\\Lib\\site-packages\\sklearn\\utils\\validation.py:120\u001b[39m, in \u001b[36m_assert_all_finite\u001b[39m\u001b[34m(X, allow_nan, msg_dtype, estimator_name, input_name)\u001b[39m\n\u001b[32m    117\u001b[39m \u001b[38;5;28;01mif\u001b[39;00m first_pass_isfinite:\n\u001b[32m    118\u001b[39m     \u001b[38;5;28;01mreturn\u001b[39;00m\n\u001b[32m--> \u001b[39m\u001b[32m120\u001b[39m \u001b[43m_assert_all_finite_element_wise\u001b[49m\u001b[43m(\u001b[49m\n\u001b[32m    121\u001b[39m \u001b[43m    \u001b[49m\u001b[43mX\u001b[49m\u001b[43m,\u001b[49m\n\u001b[32m    122\u001b[39m \u001b[43m    \u001b[49m\u001b[43mxp\u001b[49m\u001b[43m=\u001b[49m\u001b[43mxp\u001b[49m\u001b[43m,\u001b[49m\n\u001b[32m    123\u001b[39m \u001b[43m    \u001b[49m\u001b[43mallow_nan\u001b[49m\u001b[43m=\u001b[49m\u001b[43mallow_nan\u001b[49m\u001b[43m,\u001b[49m\n\u001b[32m    124\u001b[39m \u001b[43m    \u001b[49m\u001b[43mmsg_dtype\u001b[49m\u001b[43m=\u001b[49m\u001b[43mmsg_dtype\u001b[49m\u001b[43m,\u001b[49m\n\u001b[32m    125\u001b[39m \u001b[43m    \u001b[49m\u001b[43mestimator_name\u001b[49m\u001b[43m=\u001b[49m\u001b[43mestimator_name\u001b[49m\u001b[43m,\u001b[49m\n\u001b[32m    126\u001b[39m \u001b[43m    \u001b[49m\u001b[43minput_name\u001b[49m\u001b[43m=\u001b[49m\u001b[43minput_name\u001b[49m\u001b[43m,\u001b[49m\n\u001b[32m    127\u001b[39m \u001b[43m\u001b[49m\u001b[43m)\u001b[49m\n",
      "\u001b[36mFile \u001b[39m\u001b[32mc:\\Users\\Playdata\\AppData\\Local\\anaconda3\\envs\\ml_env\\Lib\\site-packages\\sklearn\\utils\\validation.py:169\u001b[39m, in \u001b[36m_assert_all_finite_element_wise\u001b[39m\u001b[34m(X, xp, allow_nan, msg_dtype, estimator_name, input_name)\u001b[39m\n\u001b[32m    152\u001b[39m \u001b[38;5;28;01mif\u001b[39;00m estimator_name \u001b[38;5;129;01mand\u001b[39;00m input_name == \u001b[33m\"\u001b[39m\u001b[33mX\u001b[39m\u001b[33m\"\u001b[39m \u001b[38;5;129;01mand\u001b[39;00m has_nan_error:\n\u001b[32m    153\u001b[39m     \u001b[38;5;66;03m# Improve the error message on how to handle missing values in\u001b[39;00m\n\u001b[32m    154\u001b[39m     \u001b[38;5;66;03m# scikit-learn.\u001b[39;00m\n\u001b[32m    155\u001b[39m     msg_err += (\n\u001b[32m    156\u001b[39m         \u001b[33mf\u001b[39m\u001b[33m\"\u001b[39m\u001b[38;5;130;01m\\n\u001b[39;00m\u001b[38;5;132;01m{\u001b[39;00mestimator_name\u001b[38;5;132;01m}\u001b[39;00m\u001b[33m does not accept missing values\u001b[39m\u001b[33m\"\u001b[39m\n\u001b[32m    157\u001b[39m         \u001b[33m\"\u001b[39m\u001b[33m encoded as NaN natively. For supervised learning, you might want\u001b[39m\u001b[33m\"\u001b[39m\n\u001b[32m   (...)\u001b[39m\u001b[32m    167\u001b[39m         \u001b[33m\"\u001b[39m\u001b[33m#estimators-that-handle-nan-values\u001b[39m\u001b[33m\"\u001b[39m\n\u001b[32m    168\u001b[39m     )\n\u001b[32m--> \u001b[39m\u001b[32m169\u001b[39m \u001b[38;5;28;01mraise\u001b[39;00m \u001b[38;5;167;01mValueError\u001b[39;00m(msg_err)\n",
      "\u001b[31mValueError\u001b[39m: Input X contains NaN.\nGradientBoostingRegressor does not accept missing values encoded as NaN natively. For supervised learning, you might want to consider sklearn.ensemble.HistGradientBoostingClassifier and Regressor which accept missing values encoded as NaNs natively. Alternatively, it is possible to preprocess the data, for instance by using an imputer transformer in a pipeline or drop samples with missing values. See https://scikit-learn.org/stable/modules/impute.html You can find a list of all estimators that handle NaN values at the following page: https://scikit-learn.org/stable/modules/impute.html#estimators-that-handle-nan-values"
     ]
    }
   ],
   "source": [
    "# 4. GradientBoosting\n",
    "from sklearn.ensemble import GradientBoostingRegressor\n",
    "\n",
    "gb_reg = GradientBoostingRegressor(\n",
    "    n_estimators=200,\n",
    "    learning_rate=0.05,\n",
    "    max_depth=4\n",
    ")\n",
    "\n",
    "gb_reg.fit(X_train, y_train)\n",
    "\n",
    "gb_reg.score(X_train, y_train), gb_reg.score(X_test, y_test)\n",
    "# max_depth = 5, 0.1 (0.6794981648077398, 0.5775305811768991) < 과적합...\n",
    "# max_depth = 5, 0.05 (0.6263313403666386, 0.5810145654056729)\n",
    "# max_depth = 5, 0.01 (0.48996312827868393, 0.5112532107502371) < ??\n",
    "\n",
    "# max_depth = 4, 0.05 (0.577395618662224, 0.5754668665484852)"
   ]
  },
  {
   "cell_type": "markdown",
   "id": "d5a46c1c",
   "metadata": {},
   "source": [
    "# 살릴 것"
   ]
  },
  {
   "cell_type": "code",
   "execution_count": null,
   "id": "fe460b22",
   "metadata": {},
   "outputs": [
    {
     "data": {
      "text/plain": [
       "(0.5896532074532111, 0.5376219924051828)"
      ]
     },
     "execution_count": 189,
     "metadata": {},
     "output_type": "execute_result"
    }
   ],
   "source": [
    "# 3. 랜덤포레스트 모델 평가\n",
    "from sklearn.ensemble import RandomForestRegressor\n",
    "rf_reg = RandomForestRegressor(n_estimators=1000, max_depth=8, random_state=0)\n",
    "\n",
    "rf_reg.fit(X_train, y_train)\n",
    "rf_reg.score(X_train, y_train), rf_reg.score(X_test, y_test)\n",
    "\n",
    "# n_estimators=1000, max_depth=8: (0.5896532074532111, 0.5376219924051828)"
   ]
  },
  {
   "cell_type": "code",
   "execution_count": 191,
   "id": "34e61ec6",
   "metadata": {},
   "outputs": [
    {
     "data": {
      "text/plain": [
       "(0.6189404885503038, 0.5786162517321831)"
      ]
     },
     "execution_count": 191,
     "metadata": {},
     "output_type": "execute_result"
    }
   ],
   "source": [
    "# 5. histGradientBoosting\n",
    "from sklearn.ensemble import HistGradientBoostingRegressor\n",
    "from sklearn.metrics import mean_squared_error, r2_score\n",
    "\n",
    "hist_gb_reg = HistGradientBoostingRegressor(\n",
    "    learning_rate=0.08,\n",
    "    max_depth=8,\n",
    "    max_bins=255,\n",
    "    \n",
    "    early_stopping=True,\n",
    "    n_iter_no_change=5,\n",
    "    l2_regularization=.5,\n",
    "    min_samples_leaf=10\n",
    ")\n",
    "\n",
    "hist_gb_reg.fit(X_train, y_train)\n",
    "\n",
    "hist_gb_reg.score(X_train, y_train), hist_gb_reg.score(X_test, y_test)\n",
    "\n",
    "# learning_rate = 0.08, max_depth=7, max_bins=255: (0.6116290914260091, 0.5756838359665055)\n",
    "# learning_rate = 0.08, max_depth=8, max_bins=255: (0.6276834902329566, 0.5805799142557486)\n",
    "# learning_rate = 0.08, max_depth=8, max_bins=100: (0.614096168205037, 0.5824295280414169)"
   ]
  },
  {
   "cell_type": "code",
   "execution_count": 196,
   "id": "bb8007bb",
   "metadata": {},
   "outputs": [
    {
     "name": "stdout",
     "output_type": "stream",
     "text": [
      "0.562699962708922 0.5697620689456854\n"
     ]
    },
    {
     "data": {
      "image/png": "[encoded data removed]",
      "text/plain": [
       "<Figure size 1000x1200 with 1 Axes>"
      ]
     },
     "metadata": {},
     "output_type": "display_data"
    }
   ],
   "source": [
    "# XGBoost\n",
    "from xgboost import XGBRegressor\n",
    "\n",
    "xg_reg = XGBRegressor(\n",
    "    n_estimators = 1000,\n",
    "    max_depth=3,\n",
    "    learning_rate = 0.02,\n",
    "    # random_state = 0\n",
    ")\n",
    "\n",
    "xg_reg.fit(X_train, y_train)\n",
    "\n",
    "print(xg_reg.score(X_train, y_train), xg_reg.score(X_test, y_test))\n",
    "\n",
    "# max_depth = 3, learning_rate = 0.05일 때: 0.6005278380730942 0.5731623793639327\n",
    "# max_depth = 3, learning_rate = 0.02일 때: 0.5625039501410967 0.5699039245930739\n",
    "\n",
    "from xgboost import plot_importance\n",
    "# feature 중요도를 따로 빼서 계산할 필요 x\n",
    "\n",
    "fig, ax = plt.subplots(figsize=(10, 12))\n",
    "plot_importance(xg_reg, ax=ax)\n",
    "plt.show()\n"
   ]
  },
  {
   "cell_type": "markdown",
   "id": "d0eda10a",
   "metadata": {},
   "source": [
    "# LightGBM 집중 학습 (피쳐 엔지니어링)"
   ]
  },
  {
   "cell_type": "code",
   "execution_count": 264,
   "id": "a7ac88ed",
   "metadata": {},
   "outputs": [
    {
     "name": "stdout",
     "output_type": "stream",
     "text": [
      "datetime64[ns]\n",
      "--------------------------------------------------\n"
     ]
    }
   ],
   "source": [
    "# 데이터 로드\n",
    "df = pd.read_csv('listings_cleaned_1st.csv')\n",
    "\n",
    "df_listings = df.drop(df.iloc[:, 11:], axis=1)\n",
    "live_list = ['amnt_self_checkin', 'amnt_hair_dryer', 'amnt_wifi', 'amnt_air_conditioning', 'amnt_free_parking' , 'amnt_pool']\n",
    "\n",
    "# 살릴 어매니티 네 칼럼 저장\n",
    "df_listings[live_list] = df[live_list]\n",
    "\n",
    "\n",
    "# neighbourhood cleansed, room_type 라벨인코딩\n",
    "from sklearn.preprocessing import LabelEncoder\n",
    "l_encod = LabelEncoder()\n",
    "df_listings['room_type'] = l_encod.fit_transform(df_listings['room_type'])\n",
    "df_listings['neighbourhood_cleansed'] = l_encod.fit_transform(df_listings['neighbourhood_cleansed'])\n",
    "\n",
    "\n",
    "# 1.2) first_rivew 컬럼의 데이터 타입 변환\n",
    "df_listings['first_review'] = pd.to_datetime(df_listings['first_review'], errors='coerce')\n",
    "\n",
    "print(df_listings['first_review'].dtype)\n",
    "print('-' * 50)\n",
    "\n",
    "# 2) 피처 엔지니어링\n",
    "# - 숙소의 open 시기가 다르므로 number_of_riews와 first_review를 이용해 새로운 특성 생성\n",
    "\n",
    "# 기준 날짜 설정\n",
    "reference_date = pd.to_datetime('2025-06-27')\n",
    "# first_review가 결측치인 경우 NaT로 처리되어도 안전하게 계산\n",
    "df_listings['days_since_first_review'] = (reference_date - df_listings['first_review']).dt.days\n",
    "# 결측치가 있으면 결과도 NaN\n",
    "df_listings['reviews_per_day_since_first_review'] = df_listings['number_of_reviews'] / df_listings['days_since_first_review']\n",
    "# 결과 확인\n",
    "df_listings[['number_of_reviews', 'first_review', 'days_since_first_review', \n",
    "             'reviews_per_day_since_first_review']].head(10)\n",
    "\n",
    "\n",
    "# infinite값을 NaN으로 대체\n",
    "df_listings.replace([np.inf, -np.inf], np.nan, inplace=True)\n",
    "\n",
    "# 피쳐 엔지니어링(1인당 침대 개수)\n",
    "# df_listings['beds_per_accommodates'] = df_listings['beds'] / df_listings['accommodates']\n",
    "\n",
    "df_test = df_listings.drop(['property_type', 'number_of_reviews', 'first_review', 'days_since_first_review'], axis=1)\n",
    "\n",
    "\n",
    "# 학습-검사 데이터 분리\n",
    "from sklearn.model_selection import train_test_split\n",
    "\n",
    "X = df_test.drop('price', axis=1)\n",
    "y = df_test['price']\n",
    "\n",
    "X_train, X_test, y_train, y_test = train_test_split(X, y, random_state=0)\n",
    "\n",
    "y_train_log = np.log1p(y_train)\n",
    "y_test_log = np.log1p(y_test)"
   ]
  },
  {
   "cell_type": "code",
   "execution_count": 265,
   "id": "50cb891f",
   "metadata": {},
   "outputs": [
    {
     "data": {
      "text/plain": [
       "(       neighbourhood_cleansed  room_type  accommodates  bathrooms  bedrooms  \\\n",
       " 1392                       42          0             6       1.50      2.00   \n",
       " 2192                       43          1             4       3.50      1.00   \n",
       " 2907                       40          0             5       1.00      1.00   \n",
       " 18480                      44          0            10       1.50      4.00   \n",
       " 19728                      44          0             3       1.00      1.00   \n",
       " \n",
       "        beds  review_scores_rating  amnt_self_checkin  amnt_hair_dryer  \\\n",
       " 1392   4.00                  4.93                  1                1   \n",
       " 2192   4.00                  4.50                  1                1   \n",
       " 2907   2.00                  4.74                  1                1   \n",
       " 18480  6.00                  5.00                  1                1   \n",
       " 19728  2.00                  4.60                  1                1   \n",
       " \n",
       "        amnt_wifi  amnt_air_conditioning  amnt_free_parking  amnt_pool  \\\n",
       " 1392           1                      1                  0          0   \n",
       " 2192           1                      1                  1          0   \n",
       " 2907           1                      1                  1          0   \n",
       " 18480          1                      1                  1          0   \n",
       " 19728          1                      1                  0          0   \n",
       " \n",
       "        reviews_per_day_since_first_review  \n",
       " 1392                                 0.05  \n",
       " 2192                                 0.00  \n",
       " 2907                                 0.02  \n",
       " 18480                                0.15  \n",
       " 19728                                0.05  ,\n",
       "        neighbourhood_cleansed  room_type  accommodates  bathrooms  bedrooms  \\\n",
       " 12775                      42          0            10       1.50      3.00   \n",
       " 12805                      19          0            14       1.00      4.00   \n",
       " 9493                       30          0             2       1.00      1.00   \n",
       " 5527                       46          0            12       2.00      2.00   \n",
       " 22049                      33          0             2       1.00      1.00   \n",
       " \n",
       "        beds  review_scores_rating  amnt_self_checkin  amnt_hair_dryer  \\\n",
       " 12775  5.00                  5.00                  1                1   \n",
       " 12805  6.00                  4.60                  0                1   \n",
       " 9493   1.00                  4.77                  1                1   \n",
       " 5527  10.00                  4.89                  0                1   \n",
       " 22049  1.00                  5.00                  0                0   \n",
       " \n",
       "        amnt_wifi  amnt_air_conditioning  amnt_free_parking  amnt_pool  \\\n",
       " 12775          1                      1                  0          0   \n",
       " 12805          1                      1                  0          0   \n",
       " 9493           1                      1                  0          0   \n",
       " 5527           1                      1                  1          0   \n",
       " 22049          1                      1                  0          0   \n",
       " \n",
       "        reviews_per_day_since_first_review  \n",
       " 12775                                0.01  \n",
       " 12805                                0.04  \n",
       " 9493                                 0.02  \n",
       " 5527                                 0.17  \n",
       " 22049                                0.12  ,\n",
       " 1392    10.99\n",
       " 2192     9.96\n",
       " 2907     9.89\n",
       " 18480   10.64\n",
       " 19728    9.21\n",
       " Name: price, dtype: float64,\n",
       " 12775   10.78\n",
       " 12805    9.62\n",
       " 9493     9.75\n",
       " 5527    10.40\n",
       " 22049    8.95\n",
       " Name: price, dtype: float64)"
      ]
     },
     "execution_count": 265,
     "metadata": {},
     "output_type": "execute_result"
    }
   ],
   "source": [
    "X_train.head(), X_test.head(), y_train_log[:5], y_test_log[:5]"
   ]
  },
  {
   "cell_type": "code",
   "execution_count": 268,
   "id": "51a523ac",
   "metadata": {},
   "outputs": [
    {
     "name": "stdout",
     "output_type": "stream",
     "text": [
      "0.685194342901517 0.6535994265125146\n"
     ]
    },
    {
     "data": {
      "image/png": "[encoded data removed]",
      "text/plain": [
       "<Figure size 640x480 with 1 Axes>"
      ]
     },
     "metadata": {},
     "output_type": "display_data"
    },
    {
     "data": {
      "text/plain": [
       "array([1479,  384,  680,  368,  323,  489,  805,  128,  126,   30,   31,\n",
       "        137,   33, 1470], dtype=int32)"
      ]
     },
     "execution_count": 268,
     "metadata": {},
     "output_type": "execute_result"
    }
   ],
   "source": [
    "# LightGBM\n",
    "from lightgbm import LGBMRegressor\n",
    "import lightgbm\n",
    "lgbm_reg = LGBMRegressor(\n",
    "    n_estimators=1000,\n",
    "    learning_rate=0.08,\n",
    "    max_depth=3\n",
    "    # early_stopping_rounds=100,\n",
    "    # verbose=1\n",
    ")\n",
    "\n",
    "lgbm_reg.fit(X_train, y_train_log)\n",
    "\n",
    "print(lgbm_reg.score(X_train, y_train_log), lgbm_reg.score(X_test, y_test_log))\n",
    "\n",
    "lightgbm.plot_importance(lgbm_reg)\n",
    "plt.show()\n",
    "# ammenities 4개, 피쳐 엔지니어링x\n",
    "# learning_rate = 0.1, max_depth = 3일 때 (0.6907080289551131, 0.6522076895278469)\n",
    "\n",
    "# 어매니티 2개, 피쳐 엔지니어링: beds per accommodate\n",
    "# # learning_rate = 0.08, max_depth = 3일 때 0.6115804623784209 0.5719807289414345\n",
    "\n",
    "# 어매니티 5개, 피쳐 엔지니어링x\n",
    "# learning_rate = 0.07, max_depth = 3일 때 0.681398491692818 0.6532798175911119\n",
    "lgbm_reg.feature_importances_"
   ]
  }
 ],
 "metadata": {
  "kernelspec": {
   "display_name": "ml_env",
   "language": "python",
   "name": "python3"
  },
  "language_info": {
   "codemirror_mode": {
    "name": "ipython",
    "version": 3
   },
   "file_extension": ".py",
   "mimetype": "text/x-python",
   "name": "python",
   "nbconvert_exporter": "python",
   "pygments_lexer": "ipython3",
   "version": "3.12.11"
  }
 },
 "nbformat": 4,
 "nbformat_minor": 5
}
