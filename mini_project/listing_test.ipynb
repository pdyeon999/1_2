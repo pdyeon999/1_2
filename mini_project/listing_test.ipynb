{
 "cells": [
  {
   "cell_type": "code",
   "execution_count": 27,
   "id": "422a4ae5",
   "metadata": {},
   "outputs": [],
   "source": [
    "import numpy as np\n",
    "import pandas as pd\n",
    "import matplotlib.pyplot as plt\n",
    "import seaborn as sns"
   ]
  },
  {
   "cell_type": "code",
   "execution_count": 33,
   "id": "1fc49a90",
   "metadata": {},
   "outputs": [
    {
     "name": "stdout",
     "output_type": "stream",
     "text": [
      "<class 'pandas.core.frame.DataFrame'>\n",
      "RangeIndex: 25297 entries, 0 to 25296\n",
      "Data columns (total 79 columns):\n",
      " #   Column                                        Non-Null Count  Dtype  \n",
      "---  ------                                        --------------  -----  \n",
      " 0   id                                            25297 non-null  int64  \n",
      " 1   listing_url                                   25297 non-null  object \n",
      " 2   scrape_id                                     25297 non-null  int64  \n",
      " 3   last_scraped                                  25297 non-null  object \n",
      " 4   source                                        25297 non-null  object \n",
      " 5   name                                          25297 non-null  object \n",
      " 6   description                                   24879 non-null  object \n",
      " 7   neighborhood_overview                         14048 non-null  object \n",
      " 8   picture_url                                   25297 non-null  object \n",
      " 9   host_id                                       25297 non-null  int64  \n",
      " 10  host_url                                      25297 non-null  object \n",
      " 11  host_name                                     24485 non-null  object \n",
      " 12  host_since                                    24342 non-null  object \n",
      " 13  host_location                                 17235 non-null  object \n",
      " 14  host_about                                    17303 non-null  object \n",
      " 15  host_response_time                            23767 non-null  object \n",
      " 16  host_response_rate                            23767 non-null  object \n",
      " 17  host_acceptance_rate                          23955 non-null  object \n",
      " 18  host_is_superhost                             23676 non-null  object \n",
      " 19  host_thumbnail_url                            24342 non-null  object \n",
      " 20  host_picture_url                              24342 non-null  object \n",
      " 21  host_neighbourhood                            6874 non-null   object \n",
      " 22  host_listings_count                           24342 non-null  float64\n",
      " 23  host_total_listings_count                     24342 non-null  float64\n",
      " 24  host_verifications                            24342 non-null  object \n",
      " 25  host_has_profile_pic                          24342 non-null  object \n",
      " 26  host_identity_verified                        24342 non-null  object \n",
      " 27  neighbourhood                                 14048 non-null  object \n",
      " 28  neighbourhood_cleansed                        25297 non-null  object \n",
      " 29  neighbourhood_group_cleansed                  0 non-null      float64\n",
      " 30  latitude                                      25297 non-null  float64\n",
      " 31  longitude                                     25297 non-null  float64\n",
      " 32  property_type                                 25297 non-null  object \n",
      " 33  room_type                                     25297 non-null  object \n",
      " 34  accommodates                                  25297 non-null  int64  \n",
      " 35  bathrooms                                     23253 non-null  float64\n",
      " 36  bathrooms_text                                25251 non-null  object \n",
      " 37  bedrooms                                      25040 non-null  float64\n",
      " 38  beds                                          23255 non-null  float64\n",
      " 39  amenities                                     25297 non-null  object \n",
      " 40  price                                         23260 non-null  object \n",
      " 41  minimum_nights                                25297 non-null  int64  \n",
      " 42  maximum_nights                                25297 non-null  int64  \n",
      " 43  minimum_minimum_nights                        25284 non-null  float64\n",
      " 44  maximum_minimum_nights                        25284 non-null  float64\n",
      " 45  minimum_maximum_nights                        25284 non-null  float64\n",
      " 46  maximum_maximum_nights                        25284 non-null  float64\n",
      " 47  minimum_nights_avg_ntm                        25297 non-null  float64\n",
      " 48  maximum_nights_avg_ntm                        25297 non-null  float64\n",
      " 49  calendar_updated                              0 non-null      float64\n",
      " 50  has_availability                              25186 non-null  object \n",
      " 51  availability_30                               25297 non-null  int64  \n",
      " 52  availability_60                               25297 non-null  int64  \n",
      " 53  availability_90                               25297 non-null  int64  \n",
      " 54  availability_365                              25297 non-null  int64  \n",
      " 55  calendar_last_scraped                         25297 non-null  object \n",
      " 56  number_of_reviews                             25297 non-null  int64  \n",
      " 57  number_of_reviews_ltm                         25297 non-null  int64  \n",
      " 58  number_of_reviews_l30d                        25297 non-null  int64  \n",
      " 59  availability_eoy                              25297 non-null  int64  \n",
      " 60  number_of_reviews_ly                          25297 non-null  int64  \n",
      " 61  estimated_occupancy_l365d                     25297 non-null  int64  \n",
      " 62  estimated_revenue_l365d                       23260 non-null  float64\n",
      " 63  first_review                                  21724 non-null  object \n",
      " 64  last_review                                   21724 non-null  object \n",
      " 65  review_scores_rating                          21724 non-null  float64\n",
      " 66  review_scores_accuracy                        21720 non-null  float64\n",
      " 67  review_scores_cleanliness                     21720 non-null  float64\n",
      " 68  review_scores_checkin                         21720 non-null  float64\n",
      " 69  review_scores_communication                   21720 non-null  float64\n",
      " 70  review_scores_location                        21720 non-null  float64\n",
      " 71  review_scores_value                           21720 non-null  float64\n",
      " 72  license                                       25278 non-null  object \n",
      " 73  instant_bookable                              25297 non-null  object \n",
      " 74  calculated_host_listings_count                25297 non-null  int64  \n",
      " 75  calculated_host_listings_count_entire_homes   25297 non-null  int64  \n",
      " 76  calculated_host_listings_count_private_rooms  25297 non-null  int64  \n",
      " 77  calculated_host_listings_count_shared_rooms   25297 non-null  int64  \n",
      " 78  reviews_per_month                             21724 non-null  float64\n",
      "dtypes: float64(24), int64(20), object(35)\n",
      "memory usage: 15.2+ MB\n"
     ]
    }
   ],
   "source": [
    "df = pd.read_csv('listings.csv.gz', compression='gzip')\n",
    "df.head()\n",
    "df.info()"
   ]
  },
  {
   "cell_type": "code",
   "execution_count": 34,
   "id": "8c2c7f58",
   "metadata": {},
   "outputs": [
    {
     "name": "stdout",
     "output_type": "stream",
     "text": [
      "<class 'pandas.core.frame.DataFrame'>\n",
      "RangeIndex: 9233406 entries, 0 to 9233405\n",
      "Data columns (total 7 columns):\n",
      " #   Column          Dtype  \n",
      "---  ------          -----  \n",
      " 0   listing_id      int64  \n",
      " 1   date            object \n",
      " 2   available       object \n",
      " 3   price           float64\n",
      " 4   adjusted_price  float64\n",
      " 5   minimum_nights  int64  \n",
      " 6   maximum_nights  int64  \n",
      "dtypes: float64(2), int64(3), object(2)\n",
      "memory usage: 493.1+ MB\n"
     ]
    }
   ],
   "source": [
    "df_cal = pd.read_csv('calendar.csv.gz', compression='gzip')\n",
    "df_cal.info()"
   ]
  }
 ],
 "metadata": {
  "kernelspec": {
   "display_name": "ml_env",
   "language": "python",
   "name": "python3"
  },
  "language_info": {
   "codemirror_mode": {
    "name": "ipython",
    "version": 3
   },
   "file_extension": ".py",
   "mimetype": "text/x-python",
   "name": "python",
   "nbconvert_exporter": "python",
   "pygments_lexer": "ipython3",
   "version": "3.12.11"
  }
 },
 "nbformat": 4,
 "nbformat_minor": 5
}
